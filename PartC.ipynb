{
 "cells": [
  {
   "cell_type": "code",
   "execution_count": 1,
   "id": "f346a7a0",
   "metadata": {},
   "outputs": [],
   "source": [
    "import cv2\n",
    "import numpy as np\n",
    "import argparse\n",
    "import time\n",
    "import os\n",
    "import matplotlib.pyplot as plt"
   ]
  },
  {
   "cell_type": "code",
   "execution_count": 2,
   "id": "612de6d0",
   "metadata": {},
   "outputs": [],
   "source": [
    "cwd = os.getcwd()\n",
    "cfg_path = cwd + os.sep + 'PartC_yolo' + os.sep + 'yolov3.cfg'\n",
    "weights_path = cwd + os.sep + 'PartC_yolo' + os.sep + 'yolov3.weights'"
   ]
  },
  {
   "cell_type": "code",
   "execution_count": 3,
   "id": "8697dcba",
   "metadata": {},
   "outputs": [],
   "source": [
    "def load_yolo():\n",
    "\tnet = cv2.dnn.readNet(weights_path, cfg_path)\n",
    "\tclasses = []\n",
    "\twith open(\"PartC_yolo/coco.names\", \"r\") as f:\n",
    "\t\tclasses = [line.strip() for line in f.readlines()]\n",
    "\tlayers_names = net.getLayerNames()\n",
    "\toutput_layers = [layers_names[i[0]-1] for i in net.getUnconnectedOutLayers()]\n",
    "\tcolors = np.random.uniform(0, 255, size=(len(classes), 3))\n",
    "\treturn net, classes, colors, output_layers"
   ]
  },
  {
   "cell_type": "code",
   "execution_count": 4,
   "id": "1da1c693",
   "metadata": {},
   "outputs": [],
   "source": [
    "# load_yolo()"
   ]
  },
  {
   "cell_type": "code",
   "execution_count": 5,
   "id": "636145ca",
   "metadata": {},
   "outputs": [],
   "source": [
    "def load_image(img_path):\n",
    "# image loading\n",
    "    img = cv2.imread(img_path)\n",
    "#     plt.imshow(img)\n",
    "    img = cv2.resize(img, (320, 320), fx=0.4, fy=0.4)\n",
    "    height, width, channels = img.shape\n",
    "    return img, height, width, channels"
   ]
  },
  {
   "cell_type": "code",
   "execution_count": 6,
   "id": "45e4736a",
   "metadata": {},
   "outputs": [],
   "source": [
    "def detect_objects(img, net, outputLayers):\t\t\t\n",
    "\tblob = cv2.dnn.blobFromImage(img, scalefactor=0.00392, size=(320, 320), mean=(0, 0, 0), swapRB=True, crop=False)\n",
    "\tnet.setInput(blob)\n",
    "\toutputs = net.forward(outputLayers)\n",
    "\treturn blob, outputs"
   ]
  },
  {
   "cell_type": "code",
   "execution_count": 7,
   "id": "2f0f0cce",
   "metadata": {},
   "outputs": [],
   "source": [
    "def get_box_dimensions(outputs, height, width):\n",
    "\tboxes = []\n",
    "\tconfs = []\n",
    "\tclass_ids = []\n",
    "\tfor output in outputs:\n",
    "\t\tfor detect in output:\n",
    "\t\t\tscores = detect[5:]\n",
    "# \t\t\tprint(scores)\n",
    "\t\t\tclass_id = np.argmax(scores)\n",
    "\t\t\tconf = scores[class_id]\n",
    "\t\t\tif conf > 0.3:\n",
    "\t\t\t\tcenter_x = int(detect[0] * width)\n",
    "\t\t\t\tcenter_y = int(detect[1] * height)\n",
    "\t\t\t\tw = int(detect[2] * width)\n",
    "\t\t\t\th = int(detect[3] * height)\n",
    "\t\t\t\tx = int(center_x - w/2)\n",
    "\t\t\t\ty = int(center_y - h / 2)\n",
    "\t\t\t\tboxes.append([x, y, w, h])\n",
    "\t\t\t\tconfs.append(float(conf))\n",
    "\t\t\t\tclass_ids.append(class_id)\n",
    "\treturn boxes, confs, class_ids"
   ]
  },
  {
   "cell_type": "code",
   "execution_count": 8,
   "id": "ba8a90a6",
   "metadata": {},
   "outputs": [],
   "source": [
    "def draw_labels(boxes, confs, colors, class_ids, classes, img): \n",
    "\tindexes = cv2.dnn.NMSBoxes(boxes, confs, 0.5, 0.4)\n",
    "\tfont = cv2.FONT_HERSHEY_PLAIN\n",
    "\tfor i in range(len(boxes)):\n",
    "\t\tif i in indexes:\n",
    "\t\t\tx, y, w, h = boxes[i]\n",
    "\t\t\tlabel = str(classes[class_ids[i]])\n",
    "\t\t\tcolor = colors[i]\n",
    "\t\t\tcv2.rectangle(img, (x,y), (x+w, y+h), color, 2)\n",
    "\t\t\tcv2.putText(img, label, (x, y - 5), font, 1, color, 1)\n",
    "\tcv2.imshow(\"Image\", img)"
   ]
  },
  {
   "cell_type": "code",
   "execution_count": 9,
   "id": "d144e358",
   "metadata": {},
   "outputs": [],
   "source": [
    "def image_detect(img_path): \n",
    "\tmodel, classes, colors, output_layers = load_yolo()\n",
    "\timage, height, width, channels = load_image(img_path)\n",
    "\tblob, outputs = detect_objects(image, model, output_layers)\n",
    "\tboxes, confs, class_ids = get_box_dimensions(outputs, height, width)\n",
    "\tdraw_labels(boxes, confs, colors, class_ids, classes, image)\n",
    "\twhile True:\n",
    "\t\tkey = cv2.waitKey(1)\n",
    "\t\tif key == 27:\n",
    "\t\t\tbreak"
   ]
  },
  {
   "cell_type": "code",
   "execution_count": 14,
   "id": "c652df52",
   "metadata": {},
   "outputs": [],
   "source": [
    "def start_webcam():\n",
    "\tcap = cv2.VideoCapture(0)\n",
    "\treturn cap"
   ]
  },
  {
   "cell_type": "code",
   "execution_count": 10,
   "id": "af9a6b81",
   "metadata": {},
   "outputs": [],
   "source": [
    "def webcam_detect():\n",
    "\tmodel, classes, colors, output_layers = load_yolo()\n",
    "\tcap = start_webcam()\n",
    "\twhile True:\n",
    "\t\t_, frame = cap.read()\n",
    "\t\theight, width, channels = frame.shape\n",
    "\t\tblob, outputs = detect_objects(frame, model, output_layers)\n",
    "\t\tboxes, confs, class_ids = get_box_dimensions(outputs, height, width)\n",
    "\t\tdraw_labels(boxes, confs, colors, class_ids, classes, frame)\n",
    "\t\tkey = cv2.waitKey(1)\n",
    "\t\tif key == 27:\n",
    "\t\t\tbreak\n",
    "\tcap.release()"
   ]
  },
  {
   "cell_type": "code",
   "execution_count": 11,
   "id": "6e6d7322",
   "metadata": {},
   "outputs": [],
   "source": [
    "def start_video(video_path):\n",
    "\tmodel, classes, colors, output_layers = load_yolo()\n",
    "\tcap = cv2.VideoCapture(video_path)\n",
    "\twhile True:\n",
    "\t\t_, frame = cap.read()\n",
    "\t\theight, width, channels = frame.shape\n",
    "\t\tblob, outputs = detect_objects(frame, model, output_layers)\n",
    "\t\tboxes, confs, class_ids = get_box_dimensions(outputs, height, width)\n",
    "\t\tdraw_labels(boxes, confs, colors, class_ids, classes, frame)\n",
    "\t\tkey = cv2.waitKey(1)\n",
    "\t\tif key == 27:\n",
    "\t\t\tbreak\n",
    "\tcap.release()"
   ]
  },
  {
   "cell_type": "code",
   "execution_count": 12,
   "id": "aea8890d",
   "metadata": {},
   "outputs": [],
   "source": [
    "IMGS_PATH = os.getcwd() + os.sep + 'PartC_yolo' + os.sep + 'images' + os.sep"
   ]
  },
  {
   "cell_type": "code",
   "execution_count": 15,
   "id": "a31e3d5b",
   "metadata": {
    "scrolled": true
   },
   "outputs": [],
   "source": [
    "# image_detect(IMGS_PATH + 'P3.jpg')\n",
    "# webcam_detect()"
   ]
  },
  {
   "cell_type": "code",
   "execution_count": null,
   "id": "d9344c5d",
   "metadata": {},
   "outputs": [],
   "source": [
    "# load_image(IMGS_PATH + 'LordKeanuAndCheems.jpg')"
   ]
  }
 ],
 "metadata": {
  "kernelspec": {
   "display_name": "tf2.4",
   "language": "python",
   "name": "tf2.4"
  },
  "language_info": {
   "codemirror_mode": {
    "name": "ipython",
    "version": 3
   },
   "file_extension": ".py",
   "mimetype": "text/x-python",
   "name": "python",
   "nbconvert_exporter": "python",
   "pygments_lexer": "ipython3",
   "version": "3.8.8"
  }
 },
 "nbformat": 4,
 "nbformat_minor": 5
}
