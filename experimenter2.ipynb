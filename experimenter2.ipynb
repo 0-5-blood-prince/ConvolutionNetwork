{
 "cells": [
  {
   "cell_type": "code",
   "execution_count": null,
   "id": "worldwide-depth",
   "metadata": {
    "id": "worldwide-depth"
   },
   "outputs": [],
   "source": [
    "%load_ext autoreload\n",
    "%autoreload 2"
   ]
  },
  {
   "cell_type": "code",
   "execution_count": null,
   "id": "dM9CV4XK0q_c",
   "metadata": {
    "colab": {
     "base_uri": "https://localhost:8080/"
    },
    "id": "dM9CV4XK0q_c",
    "outputId": "5832efca-ada2-4d2f-b76f-72c34ea9d8f1"
   },
   "outputs": [],
   "source": [
    "# from google.colab import drive\n",
    "# drive.mount('/content/drive')\n",
    "# import tensorflow as tf\n",
    "# tf.test.gpu_device_name()"
   ]
  },
  {
   "cell_type": "code",
   "execution_count": null,
   "id": "63812b1d",
   "metadata": {
    "colab": {
     "base_uri": "https://localhost:8080/",
     "height": 35
    },
    "id": "-LDrbeG68RoN",
    "outputId": "0cb339af-4c6c-42ea-a9ab-3209cc336393"
   },
   "outputs": [],
   "source": [
    "# import tensorflow as tf\n",
    "# tf.test.gpu_device_name()"
   ]
  },
  {
   "cell_type": "code",
   "execution_count": null,
   "id": "9eefd5ac",
   "metadata": {},
   "outputs": [],
   "source": [
    "IMAGE_SIZE = 216"
   ]
  },
  {
   "cell_type": "code",
   "execution_count": null,
   "id": "fc327c84",
   "metadata": {
    "id": "floating-margin"
   },
   "outputs": [],
   "source": [
    "import matplotlib.pyplot as plt\n",
    "import numpy as np\n",
    "import os\n",
    "import PIL\n",
    "import tensorflow as tf\n",
    "from keras.models import Sequential\n",
    "from keras.layers import Dense, Conv2D, Flatten, Activation, MaxPooling2D, Dropout , BatchNormalization"
   ]
  },
  {
   "cell_type": "code",
   "execution_count": null,
   "id": "aff0499b",
   "metadata": {},
   "outputs": [],
   "source": [
    "# import pathlib\n",
    "# dataset_url = \"https://storage.googleapis.com/wandb_datasets/nature_12K.zip\"\n",
    "# data_dir = tf.keras.utils.get_file('dataset', origin=dataset_url, untar=True)\n",
    "# data_dir = pathlib.Path(data_dir)"
   ]
  },
  {
   "cell_type": "code",
   "execution_count": null,
   "id": "7c4a66d7",
   "metadata": {},
   "outputs": [],
   "source": []
  },
  {
   "cell_type": "code",
   "execution_count": null,
   "id": "ec4fc08a",
   "metadata": {},
   "outputs": [],
   "source": []
  },
  {
   "cell_type": "code",
   "execution_count": null,
   "id": "floating-margin",
   "metadata": {
    "id": "floating-margin"
   },
   "outputs": [],
   "source": []
  },
  {
   "cell_type": "code",
   "execution_count": null,
   "id": "18fe2d7f",
   "metadata": {},
   "outputs": [],
   "source": [
    "Dataset_Path = os.getcwd() + '/inaturalist_12K'\n",
    "labels = [\"Amphibia\",\"Animalia\",\"Arachnida\",\"Aves\",\"Fungi\",\"Insecta\",\"Mammalia\",\"Mollusca\",\"Plantae\",\"Reptilia\"]\n",
    "DATSET_SIZE = 10000"
   ]
  },
  {
   "cell_type": "code",
   "execution_count": null,
   "id": "1PxCY59y7cf7",
   "metadata": {
    "id": "1PxCY59y7cf7"
   },
   "outputs": [],
   "source": [
    "import os\n",
    "import numpy as np\n",
    "import matplotlib.pyplot as plt\n",
    "import matplotlib.image as mpimg\n",
    "from keras.preprocessing.image import img_to_array\n",
    "from keras.preprocessing.image import array_to_img\n",
    "import cv2\n",
    "import csv\n",
    "import PIL\n",
    "\n",
    "\n",
    "# Dataset_Path = '/content/drive/MyDrive/inaturalist_12K'\n",
    "train_path = os.path.join(Dataset_Path , 'train')\n",
    "test_path = os.path.join(Dataset_Path , 'val')\n",
    "# test_path1 = test_path\n",
    "test_path1 = 'D:/val'"
   ]
  },
  {
   "cell_type": "code",
   "execution_count": null,
   "id": "18ded7d3",
   "metadata": {},
   "outputs": [],
   "source": [
    "import pathlib\n",
    "Dataset_Path = pathlib.Path(Dataset_Path)\n",
    "train_path = pathlib.Path(train_path)\n",
    "test_path = pathlib.Path(test_path)"
   ]
  },
  {
   "cell_type": "code",
   "execution_count": null,
   "id": "95123bb4",
   "metadata": {},
   "outputs": [],
   "source": [
    "Mammals = list(train_path.glob('Mammalia/*'))\n",
    "PIL.Image.open(str(Mammals[0]))"
   ]
  },
  {
   "cell_type": "markdown",
   "id": "0f80f12c",
   "metadata": {},
   "source": [
    "# Preprocessing"
   ]
  },
  {
   "cell_type": "code",
   "execution_count": null,
   "id": "223cbe0e",
   "metadata": {},
   "outputs": [],
   "source": [
    "batch_size = 64"
   ]
  },
  {
   "cell_type": "code",
   "execution_count": null,
   "id": "736aaa7b",
   "metadata": {},
   "outputs": [],
   "source": [
    "train_ds = tf.keras.preprocessing.image_dataset_from_directory(\n",
    "    train_path, \n",
    "    class_names=None, \n",
    "    color_mode='rgb', \n",
    "    batch_size=batch_size, \n",
    "    image_size=(IMAGE_SIZE,IMAGE_SIZE), \n",
    "    shuffle=True, \n",
    "    seed=1234, \n",
    "    validation_split=0.1,\n",
    "    subset=\"training\",\n",
    "    interpolation='bilinear'\n",
    ")"
   ]
  },
  {
   "cell_type": "code",
   "execution_count": null,
   "id": "a47e8bcc",
   "metadata": {},
   "outputs": [],
   "source": [
    "val_ds = tf.keras.preprocessing.image_dataset_from_directory(\n",
    "    train_path, \n",
    "    class_names=None, \n",
    "    color_mode='rgb', \n",
    "    batch_size=batch_size, \n",
    "    image_size=(IMAGE_SIZE,IMAGE_SIZE), \n",
    "    shuffle=True, \n",
    "    seed=1234, \n",
    "    validation_split=0.1,\n",
    "    subset=\"validation\",\n",
    "    interpolation='bilinear'\n",
    ")"
   ]
  },
  {
   "cell_type": "code",
   "execution_count": null,
   "id": "c8abdeef",
   "metadata": {},
   "outputs": [],
   "source": [
    "type(train_ds)\n",
    "type(val_ds)"
   ]
  },
  {
   "cell_type": "code",
   "execution_count": null,
   "id": "1c62bce9",
   "metadata": {},
   "outputs": [],
   "source": [
    "class_names = train_ds.class_names\n",
    "print(class_names)"
   ]
  },
  {
   "cell_type": "code",
   "execution_count": null,
   "id": "cc5b02d3",
   "metadata": {},
   "outputs": [],
   "source": [
    "import matplotlib.pyplot as plt\n",
    "\n",
    "plt.figure(figsize=(10, 10))\n",
    "for images, labels in train_ds.take(1):\n",
    "    for i in range(9):\n",
    "        ax = plt.subplot(3, 3, i + 1)\n",
    "        plt.imshow(images[i].numpy().astype(\"uint8\"))\n",
    "        plt.title(class_names[labels[i]])\n",
    "        plt.axis(\"off\")"
   ]
  },
  {
   "cell_type": "code",
   "execution_count": null,
   "id": "6e2a93ad",
   "metadata": {},
   "outputs": [],
   "source": [
    "AUTOTUNE = tf.data.AUTOTUNE\n",
    "\n",
    "train_ds = train_ds.cache().prefetch(buffer_size=AUTOTUNE)\n",
    "val_ds = val_ds.cache().prefetch(buffer_size=AUTOTUNE)"
   ]
  },
  {
   "cell_type": "code",
   "execution_count": null,
   "id": "1c6b4311",
   "metadata": {},
   "outputs": [],
   "source": [
    "from keras.layers import experimental"
   ]
  },
  {
   "cell_type": "markdown",
   "id": "5ea6b629",
   "metadata": {},
   "source": [
    "# Sample model"
   ]
  },
  {
   "cell_type": "code",
   "execution_count": null,
   "id": "9e8f00a7",
   "metadata": {},
   "outputs": [],
   "source": [
    "from keras.layers import experimental"
   ]
  },
  {
   "cell_type": "code",
   "execution_count": null,
   "id": "32ae89fd",
   "metadata": {},
   "outputs": [],
   "source": [
    "class ConvNet:\n",
    "    def __init__(self, numFilters, filterSize, filterConf = 'same'):\n",
    "        return\n",
    "\n",
    "    def initModel(self, numFilters, filterSize, filterConf = 'same'):\n",
    "        model = Sequential()\n",
    "        input_shape1 = (IMAGE_SIZE, IMAGE_SIZE, 3)\n",
    "        model.add(experimental.preprocessing.Rescaling(1./255, input_shape=input_shape1))\n",
    "        model.add(Conv2D(numFilters, (filterSize, filterSize), input_shape=input_shape1))\n",
    "        model.add(Activation('relu'))\n",
    "        model.add(MaxPooling2D(pool_size=(2, 2)))        \n",
    "        \n",
    "        for l in range(4):\n",
    "            model.add(Conv2D(numFilters, (filterSize, filterSize)))\n",
    "            model.add(Activation('relu'))\n",
    "            model.add(MaxPooling2D(pool_size=(2, 2)))\n",
    "        \n",
    "        model.add(Flatten())\n",
    "        model.add(Dense(128, activation='relu'))\n",
    "        model.add(Dense(10, activation='softmax'))\n",
    "        \n",
    "        return model"
   ]
  },
  {
   "cell_type": "code",
   "execution_count": null,
   "id": "b49971ae",
   "metadata": {},
   "outputs": [],
   "source": [
    "network = ConvNet(32, 3)\n",
    "model = network.initModel(32, 3)\n",
    "model.summary()"
   ]
  },
  {
   "cell_type": "code",
   "execution_count": null,
   "id": "serious-mandate",
   "metadata": {
    "colab": {
     "base_uri": "https://localhost:8080/"
    },
    "id": "serious-mandate",
    "outputId": "35647e1a-87bd-41ed-e8d6-156d6ea181ab"
   },
   "outputs": [],
   "source": [
    "# def loadImages():\n",
    "#     trainfiles = []\n",
    "#     trainclasses = []\n",
    "#     classcounts = [0 for i in range(10)]\n",
    "#     testfiles = []\n",
    "#     testclasses = []\n",
    "#     for subdir , dirs , files in os.walk(train_path):\n",
    "#         for file in files:\n",
    "#             if file.endswith(\".jpg\"):\n",
    "#                 trainfiles.append(os.path.join(subdir,file))\n",
    "#                 c = str(subdir).split(os.sep)[-1]\n",
    "#                 for i in range(10):\n",
    "#                     if labels[i] == c:\n",
    "#                         trainclasses.append(i)\n",
    "#                         classcounts[i]+=1\n",
    "#                         break\n",
    "#     for subdir , dirs , files in os.walk(test_path):\n",
    "#         for file in files:\n",
    "#             if file.endswith(\".jpg\"):\n",
    "#                 testfiles.append(os.path.join(subdir,file))\n",
    "#                 c = str(subdir).split(os.sep)[-1]\n",
    "#                 for i in range(10):\n",
    "#                     if labels[i] == c:\n",
    "#                         testclasses.append(i)\n",
    "#     return trainfiles , trainclasses , testfiles , testclasses , classcounts\n",
    "\n",
    "# def preprocess(data, height, width):\n",
    "#     dim = (width, height)\n",
    "#     resdata = []\n",
    "#     for i in range(len(data[:DATSET_SIZE])):\n",
    "#         try:\n",
    "#             img = cv2.imread(data[i],cv2.IMREAD_UNCHANGED)\n",
    "#             res = cv2.resize(img, dim , interpolation=cv2.INTER_LINEAR)\n",
    "#             #if image is greyscale, convert it to rgb\n",
    "#             if(len(res.shape) != 3):\n",
    "#                 res = cv2.cvtColor(res,cv2.COLOR_GRAY2RGB)\n",
    "#             res = res/255.0\n",
    "#             resdata.append(np.asarray(res))\n",
    "#         except Exception as e:\n",
    "#             print(data[i])\n",
    "#             print(str(e))\n",
    "#     return resdata\n",
    "\n",
    "# def dataset(width,height):\n",
    "#     trainfiles , trainclasses , testfiles , testclasses, classcounts = loadImages()\n",
    "#     train_data = preprocess(trainfiles, height,width)\n",
    "#     test_data = preprocess(testfiles, height,width)\n",
    "#     # train_input = []\n",
    "#     # val_input = []\n",
    "#     # train_output = []\n",
    "#     # val_output = []\n",
    "#     # test_output = []\n",
    "#     # test_input = []\n",
    "#     train_output = np.eye(10)[trainclasses]\n",
    "#     test_output = np.eye(10)[testclasses]\n",
    "    \n",
    "#     L = len(train_data)\n",
    "#     return {\n",
    "#         'Xtrain' : np.array(train_data), \n",
    "#         'Ytrain' : np.array(train_output),\n",
    "#         # 'Xval' : np.array(val_input),\n",
    "#         # 'Yval' : np.array(val_output),\n",
    "#         'Xtest' :np.array(test_data),\n",
    "#         'Ytest' :np.array(test_output)\n",
    "#     }\n",
    "\n",
    "# def flat(X):\n",
    "#     X_f = []\n",
    "#     for x in X:\n",
    "#         X_f.append(x.flatten())\n",
    "#     return X_f\n",
    "\n",
    "# def savedata(d): \n",
    "#     with open('train_data.txt','w') as f:\n",
    "#         csvwriter = csv.writer(f)\n",
    "#         csvwriter.writerows(flat(d['Xtrain']))\n",
    "        \n",
    "# # d = dataset(256,256)\n",
    "# # # print(d['Xtrain'])\n",
    "\n",
    "# network = ConvNet(32, 3)\n",
    "# model = network.initModel(32, 3)\n",
    "# model.summary()"
   ]
  },
  {
   "cell_type": "code",
   "execution_count": null,
   "id": "871b2d40",
   "metadata": {
    "id": "august-chamber"
   },
   "outputs": [],
   "source": [
    "# ds = dataset(IMAGE_SIZE, IMAGE_SIZE)\n",
    "# train_images = ds['Xtrain']\n",
    "# train_labels = ds['Ytrain']\n",
    "\n",
    "# test_images = ds['Xtest']\n",
    "# test_labels = ds['Ytest']"
   ]
  },
  {
   "cell_type": "code",
   "execution_count": null,
   "id": "lTiIpitpM__e",
   "metadata": {
    "colab": {
     "base_uri": "https://localhost:8080/",
     "height": 286
    },
    "id": "lTiIpitpM__e",
    "outputId": "199a47c8-3f3b-4f9f-b98e-c87b2070ecc6"
   },
   "outputs": [],
   "source": [
    "model.compile(loss=tf.keras.losses.SparseCategoricalCrossentropy(from_logits=True),\n",
    "              optimizer='adam',\n",
    "              metrics=['accuracy'])"
   ]
  },
  {
   "cell_type": "code",
   "execution_count": null,
   "id": "fb923f80",
   "metadata": {},
   "outputs": [],
   "source": [
    "# model.summary()"
   ]
  },
  {
   "cell_type": "code",
   "execution_count": null,
   "id": "breeding-group",
   "metadata": {
    "colab": {
     "base_uri": "https://localhost:8080/"
    },
    "id": "breeding-group",
    "outputId": "d4ce4341-2f6a-4e38-a841-0855dd1361fa",
    "scrolled": true
   },
   "outputs": [],
   "source": [
    "history = model.fit(train_ds,\n",
    "          epochs=30,\n",
    "          validation_data=val_ds,\n",
    "          verbose=1)"
   ]
  },
  {
   "cell_type": "code",
   "execution_count": null,
   "id": "domestic-squad",
   "metadata": {
    "id": "domestic-squad",
    "outputId": "73a3cc17-64e7-4544-9b22-b47bcd30f9a3"
   },
   "outputs": [],
   "source": [
    "acc = history.history['accuracy']\n",
    "val_acc = history.history['val_accuracy']\n",
    "\n",
    "loss = history.history['loss']\n",
    "val_loss = history.history['val_loss']\n",
    "\n",
    "epochs = 30\n",
    "epochs_range = range(epochs)\n",
    "\n",
    "plt.figure(figsize=(8, 8))\n",
    "plt.subplot(1, 2, 1)\n",
    "plt.plot(epochs_range, acc, label='Training Accuracy')\n",
    "plt.plot(epochs_range, val_acc, label='Validation Accuracy')\n",
    "plt.legend(loc='lower right')\n",
    "plt.title('Training and Validation Accuracy')\n",
    "\n",
    "plt.subplot(1, 2, 2)\n",
    "plt.plot(epochs_range, loss, label='Training Loss')\n",
    "plt.plot(epochs_range, val_loss, label='Validation Loss')\n",
    "plt.legend(loc='upper right')\n",
    "plt.title('Training and Validation Loss')\n",
    "plt.show()"
   ]
  },
  {
   "cell_type": "code",
   "execution_count": null,
   "id": "1a0c0a39",
   "metadata": {},
   "outputs": [],
   "source": [
    "# img = tf.keras.preprocessing.image.load_img(\n",
    "#     test_path1, target_size=(IMAGE_SIZE, IMAGE_SIZE)\n",
    "# )\n",
    "# img_array = tf.keras.preprocessing.image.img_to_array(img)\n",
    "# img_array = tf.expand_dims(img_array, 0) # Create a batch\n",
    "\n",
    "# predictions = model.predict(img_array)\n",
    "# score = tf.nn.softmax(predictions[0])\n",
    "\n",
    "# print(\n",
    "#     \"This image most likely belongs to {} with a {:.2f} percent confidence.\"\n",
    "#     .format(class_names[np.argmax(score)], 100 * np.max(score))\n",
    "# )"
   ]
  },
  {
   "cell_type": "code",
   "execution_count": null,
   "id": "dcefe984",
   "metadata": {},
   "outputs": [],
   "source": [
    "testfiles = []\n",
    "testclasses = []\n",
    "for subdir , dirs , files in os.walk(os.path.join(Dataset_Path,'val')):\n",
    "        for file in files:\n",
    "            if file.endswith(\".jpg\"):\n",
    "                testfiles.append(os.path.join(subdir,file))\n",
    "                c = str(subdir).split(os.sep)[-1]\n",
    "                for i in range(10):\n",
    "#                     print(classnames[i],c)\n",
    "                    if class_names[i] == c:\n",
    "                        testclasses.append(i)\n",
    "\n",
    "test_images = []\n",
    "for file in testfiles:\n",
    "    img = PIL.Image.open(file)\n",
    "    test_images.append(tf.keras.preprocessing.image.img_to_array( img.resize((IMAGE_SIZE,IMAGE_SIZE)) ) )"
   ]
  },
  {
   "cell_type": "code",
   "execution_count": null,
   "id": "1b580728",
   "metadata": {},
   "outputs": [],
   "source": [
    "# print(test_images)\n",
    "for img in test_images:\n",
    "    img = img/255.0\n",
    "# testclasses = np.eye(10)[testclasses]"
   ]
  },
  {
   "cell_type": "code",
   "execution_count": null,
   "id": "5f69d86c",
   "metadata": {},
   "outputs": [],
   "source": [
    "# print(testclasses)\n",
    "# print(test_images[0].shape)\n",
    "test_images = np.array(test_images)"
   ]
  },
  {
   "cell_type": "code",
   "execution_count": null,
   "id": "72e3f28b",
   "metadata": {},
   "outputs": [],
   "source": [
    "testclasses = np.array(testclasses)"
   ]
  },
  {
   "cell_type": "code",
   "execution_count": null,
   "id": "e805f8c9",
   "metadata": {
    "scrolled": false
   },
   "outputs": [],
   "source": [
    "loss, accuracy = model.evaluate(test_images, testclasses)"
   ]
  },
  {
   "cell_type": "code",
   "execution_count": null,
   "id": "cordless-marshall",
   "metadata": {
    "id": "cordless-marshall",
    "outputId": "f76ad198-1eb6-4ba0-af8b-b6f21f608806"
   },
   "outputs": [],
   "source": [
    "# print(len(train_images))\n",
    "# model.summary()\n",
    "print(train_images)"
   ]
  },
  {
   "cell_type": "markdown",
   "id": "38db7e51",
   "metadata": {
    "id": "requested-olive"
   },
   "source": [
    "## Wandb sweep"
   ]
  },
  {
   "cell_type": "markdown",
   "id": "1b31b0f7",
   "metadata": {},
   "source": [
    "#### Install and login"
   ]
  },
  {
   "cell_type": "code",
   "execution_count": null,
   "id": "7e97c8f8",
   "metadata": {},
   "outputs": [],
   "source": [
    "import wandb\n",
    "from wandb.keras import WandbCallback\n",
    "wandb.login(key=\"866040d7d81f67025d43e7d50ecd83d54b6cf977\", relogin=False)"
   ]
  },
  {
   "cell_type": "code",
   "execution_count": null,
   "id": "c78f8292",
   "metadata": {},
   "outputs": [],
   "source": [
    "sweep_config = {\n",
    "    'method': 'bayes', #grid, random\n",
    "    'metric': {\n",
    "      'name': 'val_accuracy',\n",
    "      'goal': 'maximize'   \n",
    "    },\n",
    "    'parameters': {\n",
    "        'epochs': {\n",
    "            'values': [15, 25 ,30]\n",
    "        },\n",
    "        'num_fliters': {  \n",
    "            'values': [32,64]\n",
    "        },\n",
    "        'filter_size':{\n",
    "            'values': [3,5]\n",
    "        },\n",
    "        'filter_org': {\n",
    "            'values': ['same', 'double', 'half']\n",
    "        },\n",
    "        'data_aug': {\n",
    "            'values': ['yes', 'no']\n",
    "        },\n",
    "        'dropout':{\n",
    "            'values': [0.2,0.3]\n",
    "        },\n",
    "        'batch_norm':{\n",
    "            'values' : ['yes','no']\n",
    "        }\n",
    "    }\n",
    "}"
   ]
  },
  {
   "cell_type": "code",
   "execution_count": null,
   "id": "9e44b75b",
   "metadata": {},
   "outputs": [],
   "source": [
    "sweep_id = wandb.sweep(sweep_config, entity=\"mooizz\",project=\"conv_inaturalist\")"
   ]
  },
  {
   "cell_type": "code",
   "execution_count": null,
   "id": "45f062f9",
   "metadata": {},
   "outputs": [],
   "source": [
    "data_augmentation = Sequential(\n",
    "  [\n",
    "    experimental.preprocessing.RandomFlip(\"horizontal\", \n",
    "                                                 input_shape=(IMAGE_SIZE, \n",
    "                                                              IMAGE_SIZE,\n",
    "                                                              3)),\n",
    "    experimental.preprocessing.RandomRotation(0.1),\n",
    "    experimental.preprocessing.RandomZoom(0.1),\n",
    "  ]\n",
    ")"
   ]
  },
  {
   "cell_type": "code",
   "execution_count": null,
   "id": "0e4062eb",
   "metadata": {},
   "outputs": [],
   "source": [
    "def getModel(numFilters, filterSize,filterConf,dropout,data_aug, batch_norm):\n",
    "    model = Sequential()\n",
    "    if data_aug == 'yes':\n",
    "        model.add(data_augmentation)\n",
    "    input_shape1 = (IMAGE_SIZE, IMAGE_SIZE, 3)\n",
    "    model.add(experimental.preprocessing.Rescaling(1./255, input_shape=input_shape1))\n",
    "    model.add(Conv2D(numFilters, (filterSize, filterSize), input_shape=input_shape1))\n",
    "    if batch_norm == 'yes':\n",
    "        model.add(BatchNormalization())\n",
    "    model.add(Activation('relu'))\n",
    "    model.add(MaxPooling2D(pool_size=(2, 2)))        \n",
    "\n",
    "    for l in range(4):\n",
    "        if filterConf == 'double':\n",
    "            numFilters = numFilters * 2\n",
    "        if filterConf == 'half':\n",
    "            numFilters = numFilters / 2\n",
    "        model.add(Conv2D(numFilters, (filterSize, filterSize)))\n",
    "        if batch_norm == 'yes':\n",
    "            model.add(BatchNormalization())\n",
    "        model.add(Activation('relu'))\n",
    "        model.add(MaxPooling2D(pool_size=(2, 2)))\n",
    "\n",
    "    model.add(Dropout(dropout))\n",
    "    model.add(Flatten())\n",
    "    model.add(Dense(256, activation='relu'))\n",
    "    model.add(Dense(10, activation='softmax'))\n",
    "\n",
    "    return model"
   ]
  },
  {
   "cell_type": "code",
   "execution_count": null,
   "id": "c8f903fc",
   "metadata": {},
   "outputs": [],
   "source": [
    "def train():\n",
    "    config_defaults = {\n",
    "        'epochs' : 25,\n",
    "        'batch_size' : 64,\n",
    "        'optimizer' : 'adam',\n",
    "        'filter_org' : 'same',\n",
    "        'num_filters' : 64,\n",
    "        'filter_size' : 5,\n",
    "        'dropout' : 0.2,\n",
    "        'data_aug' : 'yes',\n",
    "         'batch_norm' : 'no'\n",
    "    }\n",
    "    wandb.init(config=config_defaults)\n",
    "    config = wandb.config\n",
    "    model = getModel(config.num_filters,config.filter_size,config.filter_org,\n",
    "                     config.dropout, config.data_aug, config.batch_norm)\n",
    "    model.compile(loss=tf.keras.losses.SparseCategoricalCrossentropy(from_logits=True),\n",
    "              optimizer='adam',\n",
    "              metrics=['accuracy'])\n",
    "    model.fit(train_ds,\n",
    "          epochs=config.epochs,\n",
    "          validation_data=val_ds,\n",
    "          verbose=1,\n",
    "             callbacks=[WandbCallback()])\n",
    "   "
   ]
  },
  {
   "cell_type": "code",
   "execution_count": null,
   "id": "53cd78fe",
   "metadata": {},
   "outputs": [],
   "source": [
    "# def getModel(numFilters, filterSize, filterConf = 'same'):\n",
    "#     model = Sequential()\n",
    "#     input_shape1 = (IMAGE_SIZE, IMAGE_SIZE, 3)\n",
    "#     model.add(experimental.preprocessing.Rescaling(1./255, input_shape=input_shape1))\n",
    "#     model.add(Conv2D(numFilters, (filterSize, filterSize), input_shape=input_shape1))\n",
    "#     model.add(Activation('relu'))\n",
    "#     model.add(MaxPooling2D(pool_size=(2, 2)))        \n",
    "\n",
    "#     for l in range(4):\n",
    "#         model.add(Conv2D(numFilters, (filterSize, filterSize)))\n",
    "#         model.add(Activation('relu'))\n",
    "#         model.add(MaxPooling2D(pool_size=(2, 2)))\n",
    "\n",
    "#     model.add(Flatten())\n",
    "#     model.add(Dense(256, activation='relu'))\n",
    "#     model.add(Dense(10, activation='softmax'))\n",
    "\n",
    "#     return model"
   ]
  },
  {
   "cell_type": "code",
   "execution_count": null,
   "id": "d7ef1f1f",
   "metadata": {},
   "outputs": [],
   "source": [
    "wandb.agent(sweep_id, train)"
   ]
  },
  {
   "cell_type": "code",
   "execution_count": null,
   "id": "400708b6",
   "metadata": {},
   "outputs": [],
   "source": [
    "run = wandb.init(project = 'DL-CNN',\n",
    "                config = {\n",
    "                    \"learning_rate\" : 0.005,\n",
    "                    \"epochs\" : 20,\n",
    "                    \"batch_size\" : 64,\n",
    "                     \"loss_function\": \"categorical_crossentropy\",\n",
    "                     \"architecture\": \"CNN\"\n",
    "                })\n",
    "config = wandb.config\n",
    "\n",
    "\n",
    "tf.keras.backend.clear_session()\n",
    "model = getModel(32, 3)\n",
    "model.summary()"
   ]
  },
  {
   "cell_type": "code",
   "execution_count": null,
   "id": "e00b24d1",
   "metadata": {},
   "outputs": [],
   "source": [
    "# optimizer = tf.keras.optimizers.Adam(config.learning_rate) \n",
    "# model.compile(optimizer, config.loss_function, metrics=['acc'])\n",
    "\n",
    "model.compile(optimizer='sgd',\n",
    "              loss='categorical_crossentropy',\n",
    "              metrics=['accuracy'])\n",
    "\n",
    "_ = model.fit(train_images, train_labels[:10000],\n",
    "          batch_size=config.batch_size,\n",
    "          epochs=config.epochs,\n",
    "          validation_split=0.1,\n",
    "          verbose=1,\n",
    "         callbacks = [WandbCallback()])"
   ]
  },
  {
   "cell_type": "code",
   "execution_count": null,
   "id": "1e71a8f2",
   "metadata": {},
   "outputs": [],
   "source": [
    "loss, accuracy = model.evaluate(test_images, test_labels)\n",
    "print('Test Error Rate: ', round((1 - accuracy) * 100, 2))\n",
    "\n",
    "# With wandb.log, we can easily pass in metrics as key-value pairs.\n",
    "wandb.log({'Test Error Rate': round((1 - accuracy) * 100, 2)})\n",
    "\n",
    "run.join()"
   ]
  },
  {
   "cell_type": "markdown",
   "id": "6ada333b",
   "metadata": {},
   "source": [
    "# Best Model"
   ]
  },
  {
   "cell_type": "code",
   "execution_count": null,
   "id": "83c09500",
   "metadata": {},
   "outputs": [],
   "source": []
  },
  {
   "cell_type": "code",
   "execution_count": 2,
   "id": "1bf260eb",
   "metadata": {},
   "outputs": [],
   "source": [
    "### Assuming best_model is the best trained Model\n",
    "best_model = None"
   ]
  },
  {
   "cell_type": "markdown",
   "id": "b09317d2",
   "metadata": {},
   "source": [
    "# Accuracy of Best Model"
   ]
  },
  {
   "cell_type": "code",
   "execution_count": null,
   "id": "06a75344",
   "metadata": {},
   "outputs": [],
   "source": [
    "testfiles = []\n",
    "testclasses = []\n",
    "for subdir , dirs , files in os.walk(os.path.join(Dataset_Path,'val')):\n",
    "        for file in files:\n",
    "            if file.endswith(\".jpg\"):\n",
    "                testfiles.append(os.path.join(subdir,file))\n",
    "                c = str(subdir).split(os.sep)[-1]\n",
    "                for i in range(10):\n",
    "#                     print(classnames[i],c)\n",
    "                    if class_names[i] == c:\n",
    "                        testclasses.append(i)\n",
    "\n",
    "test_images = []\n",
    "for file in testfiles:\n",
    "    img = PIL.Image.open(file)\n",
    "    test_images.append(tf.keras.preprocessing.image.img_to_array( img.resize((IMAGE_SIZE,IMAGE_SIZE)) ) )"
   ]
  },
  {
   "cell_type": "code",
   "execution_count": null,
   "id": "ae477bac",
   "metadata": {},
   "outputs": [],
   "source": [
    "# print(test_images)\n",
    "for img in test_images:\n",
    "    img = img/255.0\n",
    "# testclasses = np.eye(10)[testclasses]"
   ]
  },
  {
   "cell_type": "code",
   "execution_count": null,
   "id": "2023e5c3",
   "metadata": {},
   "outputs": [],
   "source": [
    "test_images = np.array(test_images)"
   ]
  },
  {
   "cell_type": "code",
   "execution_count": null,
   "id": "b179381c",
   "metadata": {},
   "outputs": [],
   "source": [
    "testclasses = np.array(testclasses)"
   ]
  },
  {
   "cell_type": "code",
   "execution_count": null,
   "id": "08b1f833",
   "metadata": {},
   "outputs": [],
   "source": []
  },
  {
   "cell_type": "code",
   "execution_count": null,
   "id": "fb5fa759",
   "metadata": {},
   "outputs": [],
   "source": []
  },
  {
   "cell_type": "markdown",
   "id": "eb00038e",
   "metadata": {},
   "source": [
    "# Guided Propagation"
   ]
  },
  {
   "cell_type": "code",
   "execution_count": null,
   "id": "ff4b8ab2",
   "metadata": {},
   "outputs": [],
   "source": []
  }
 ],
 "metadata": {
  "accelerator": "GPU",
  "colab": {
   "name": "experimenter.ipynb",
   "provenance": []
  },
  "kernelspec": {
   "display_name": "Python 3",
   "language": "python",
   "name": "python3"
  },
  "language_info": {
   "codemirror_mode": {
    "name": "ipython",
    "version": 3
   },
   "file_extension": ".py",
   "mimetype": "text/x-python",
   "name": "python",
   "nbconvert_exporter": "python",
   "pygments_lexer": "ipython3",
   "version": "3.7.0"
  }
 },
 "nbformat": 4,
 "nbformat_minor": 5
}
