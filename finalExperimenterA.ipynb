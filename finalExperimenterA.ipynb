{
 "cells": [
  {
   "cell_type": "code",
   "execution_count": null,
   "id": "a0f8e434",
   "metadata": {},
   "outputs": [],
   "source": [
    "%load_ext autoreload\n",
    "%autoreload 2"
   ]
  },
  {
   "cell_type": "code",
   "execution_count": null,
   "id": "244c6c25",
   "metadata": {},
   "outputs": [],
   "source": [
    "IMAGE_SIZE = 216"
   ]
  },
  {
   "cell_type": "code",
   "execution_count": null,
   "id": "09fa4b1e",
   "metadata": {},
   "outputs": [],
   "source": [
    "import matplotlib.pyplot as plt\n",
    "import numpy as np\n",
    "import os\n",
    "import PIL\n",
    "import tensorflow as tf\n",
    "from keras.models import Sequential\n",
    "from keras.layers import Dense, Conv2D, Flatten, Activation, MaxPooling2D, Dropout , BatchNormalization"
   ]
  },
  {
   "cell_type": "code",
   "execution_count": null,
   "id": "4dddb2d8",
   "metadata": {},
   "outputs": [],
   "source": [
    "gpus = tf.config.experimental.list_physical_devices('GPU')\n",
    "if gpus:\n",
    "  try:\n",
    "    tf.config.experimental.set_virtual_device_configuration(gpus[0], [tf.config.experimental.VirtualDeviceConfiguration(memory_limit=5500)])\n",
    "  except RuntimeError as e:\n",
    "    print(e)"
   ]
  },
  {
   "cell_type": "code",
   "execution_count": null,
   "id": "c55c647b",
   "metadata": {},
   "outputs": [],
   "source": [
    "Dataset_Path = os.getcwd() + '/inaturalist_12K'\n",
    "labels = [\"Amphibia\",\"Animalia\",\"Arachnida\",\"Aves\",\"Fungi\",\"Insecta\",\"Mammalia\",\"Mollusca\",\"Plantae\",\"Reptilia\"]\n",
    "DATSET_SIZE = 10000"
   ]
  },
  {
   "cell_type": "code",
   "execution_count": null,
   "id": "08ee4c93",
   "metadata": {},
   "outputs": [],
   "source": [
    "import os\n",
    "import numpy as np\n",
    "import matplotlib.pyplot as plt\n",
    "import matplotlib.image as mpimg\n",
    "from keras.preprocessing.image import img_to_array\n",
    "from keras.preprocessing.image import array_to_img\n",
    "import cv2\n",
    "import csv\n",
    "import PIL\n",
    "\n",
    "\n",
    "# Dataset_Path = '/content/drive/MyDrive/inaturalist_12K'\n",
    "train_path = os.path.join(Dataset_Path , 'train')\n",
    "test_path = os.path.join(Dataset_Path , 'val')\n",
    "# test_path1 = test_path\n",
    "test_path1 = 'D:/val'"
   ]
  },
  {
   "cell_type": "code",
   "execution_count": null,
   "id": "ddb1fe89",
   "metadata": {},
   "outputs": [],
   "source": [
    "import pathlib\n",
    "Dataset_Path = pathlib.Path(Dataset_Path)\n",
    "train_path = pathlib.Path(train_path)\n",
    "test_path = pathlib.Path(test_path)"
   ]
  },
  {
   "cell_type": "code",
   "execution_count": null,
   "id": "68e451bd",
   "metadata": {},
   "outputs": [],
   "source": [
    "Mammals = list(train_path.glob('Mammalia/*'))\n",
    "PIL.Image.open(str(Mammals[0]))"
   ]
  },
  {
   "cell_type": "code",
   "execution_count": null,
   "id": "a439d5a7",
   "metadata": {},
   "outputs": [],
   "source": [
    "# Preprocessing"
   ]
  },
  {
   "cell_type": "code",
   "execution_count": null,
   "id": "99b48ce7",
   "metadata": {},
   "outputs": [],
   "source": [
    "batch_size = 64"
   ]
  },
  {
   "cell_type": "code",
   "execution_count": null,
   "id": "e469ceec",
   "metadata": {},
   "outputs": [],
   "source": [
    "train_ds = tf.keras.preprocessing.image_dataset_from_directory(\n",
    "    train_path, \n",
    "    class_names=None, \n",
    "    color_mode='rgb', \n",
    "    batch_size=batch_size, \n",
    "    image_size=(IMAGE_SIZE,IMAGE_SIZE), \n",
    "    shuffle=True, \n",
    "    seed=1234, \n",
    "    validation_split=0.1,\n",
    "    subset=\"training\",\n",
    "    interpolation='bilinear'\n",
    ")"
   ]
  },
  {
   "cell_type": "code",
   "execution_count": null,
   "id": "bdc2f844",
   "metadata": {},
   "outputs": [],
   "source": [
    "val_ds = tf.keras.preprocessing.image_dataset_from_directory(\n",
    "    train_path, \n",
    "    class_names=None, \n",
    "    color_mode='rgb', \n",
    "    batch_size=batch_size, \n",
    "    image_size=(IMAGE_SIZE,IMAGE_SIZE), \n",
    "    shuffle=True, \n",
    "    seed=1234, \n",
    "    validation_split=0.1,\n",
    "    subset=\"validation\",\n",
    "    interpolation='bilinear'\n",
    ")"
   ]
  },
  {
   "cell_type": "code",
   "execution_count": null,
   "id": "dc0394fe",
   "metadata": {},
   "outputs": [],
   "source": [
    "type(train_ds)\n",
    "type(val_ds)"
   ]
  },
  {
   "cell_type": "code",
   "execution_count": null,
   "id": "df7afb66",
   "metadata": {},
   "outputs": [],
   "source": [
    "class_names = train_ds.class_names\n",
    "print(class_names)"
   ]
  },
  {
   "cell_type": "code",
   "execution_count": null,
   "id": "f543522c",
   "metadata": {},
   "outputs": [],
   "source": [
    "import matplotlib.pyplot as plt\n",
    "\n",
    "plt.figure(figsize=(10, 10))\n",
    "for images, labels in train_ds.take(1):\n",
    "    for i in range(9):\n",
    "        ax = plt.subplot(3, 3, i + 1)\n",
    "        plt.imshow(images[i].numpy().astype(\"uint8\"))\n",
    "        plt.title(class_names[labels[i]])\n",
    "        plt.axis(\"off\")"
   ]
  },
  {
   "cell_type": "code",
   "execution_count": null,
   "id": "b1692583",
   "metadata": {},
   "outputs": [],
   "source": [
    "AUTOTUNE = tf.data.AUTOTUNE\n",
    "\n",
    "train_ds = train_ds.cache().prefetch(buffer_size=AUTOTUNE)\n",
    "val_ds = val_ds.cache().prefetch(buffer_size=AUTOTUNE)"
   ]
  },
  {
   "cell_type": "code",
   "execution_count": null,
   "id": "693f4c97",
   "metadata": {},
   "outputs": [],
   "source": [
    "from keras.layers import experimental"
   ]
  },
  {
   "cell_type": "code",
   "execution_count": null,
   "id": "d2c40d0e",
   "metadata": {},
   "outputs": [],
   "source": [
    "## Wandb sweep"
   ]
  },
  {
   "cell_type": "code",
   "execution_count": null,
   "id": "7dbd97f1",
   "metadata": {},
   "outputs": [],
   "source": [
    "#### Install and login"
   ]
  },
  {
   "cell_type": "code",
   "execution_count": null,
   "id": "680a480c",
   "metadata": {},
   "outputs": [],
   "source": [
    "import wandb\n",
    "from wandb.keras import WandbCallback\n",
    "wandb.login(key=\"866040d7d81f67025d43e7d50ecd83d54b6cf977\", relogin=False)"
   ]
  },
  {
   "cell_type": "code",
   "execution_count": null,
   "id": "71c36e5b",
   "metadata": {},
   "outputs": [],
   "source": [
    "sweep_config = {\n",
    "    'method': 'bayes', #grid, random\n",
    "    'metric': {\n",
    "      'name': 'val_accuracy',\n",
    "      'goal': 'maximize'   \n",
    "    },\n",
    "    'parameters': {\n",
    "        'epochs': {\n",
    "            'values': [16,32]\n",
    "        },\n",
    "        'num_fliters': {  \n",
    "            'values': [16,48]\n",
    "        },\n",
    "        'filter_size':{\n",
    "            'values': [3]\n",
    "        },\n",
    "        'filter_org': {\n",
    "            'values': ['same']\n",
    "        },\n",
    "        'data_aug': {\n",
    "            'values': ['yes']\n",
    "        },\n",
    "        'dropout':{\n",
    "            'values': [0.01,0.1]\n",
    "        },\n",
    "        'batch_norm':{\n",
    "            'values' : ['yes']\n",
    "        }\n",
    "    }\n",
    "}"
   ]
  },
  {
   "cell_type": "code",
   "execution_count": null,
   "id": "b04f72c6",
   "metadata": {},
   "outputs": [],
   "source": [
    "sweep_id = wandb.sweep(sweep_config, entity=\"mooizz\",project=\"conv_inaturalist\")"
   ]
  },
  {
   "cell_type": "code",
   "execution_count": null,
   "id": "c67f8de8",
   "metadata": {},
   "outputs": [],
   "source": [
    "data_augmentation = Sequential(\n",
    "  [\n",
    "    experimental.preprocessing.RandomFlip(\"horizontal_and_vertical\", \n",
    "                                                 input_shape=(IMAGE_SIZE, \n",
    "                                                              IMAGE_SIZE,\n",
    "                                                              3)),\n",
    "    experimental.preprocessing.RandomRotation(0.3),\n",
    "    experimental.preprocessing.RandomZoom(0.2),\n",
    "  ]\n",
    ")"
   ]
  },
  {
   "cell_type": "code",
   "execution_count": null,
   "id": "6ff04292",
   "metadata": {},
   "outputs": [],
   "source": [
    "def getModel(numFilters, filterSize,filterConf,dropout,data_aug, batch_norm):\n",
    "    model = Sequential()\n",
    "    if data_aug == 'yes':\n",
    "        model.add(data_augmentation)\n",
    "    input_shape1 = (IMAGE_SIZE, IMAGE_SIZE, 3)\n",
    "    model.add(experimental.preprocessing.Rescaling(1./255, input_shape=input_shape1))\n",
    "    model.add(Conv2D(numFilters, (filterSize, filterSize), input_shape=input_shape1))\n",
    "    if batch_norm == 'yes':\n",
    "        model.add(BatchNormalization())\n",
    "    model.add(Activation('relu'))\n",
    "    model.add(MaxPooling2D(pool_size=(2, 2)))        \n",
    "\n",
    "    for l in range(4):\n",
    "        if filterConf == 'double':\n",
    "            numFilters = numFilters * 2\n",
    "        if filterConf == 'half':\n",
    "            numFilters = numFilters / 2\n",
    "        model.add(Conv2D(numFilters, (filterSize, filterSize)))\n",
    "        if batch_norm == 'yes':\n",
    "            model.add(BatchNormalization())\n",
    "        model.add(Activation('relu'))\n",
    "        model.add(MaxPooling2D(pool_size=(2, 2)))\n",
    "\n",
    "    model.add(Dropout(dropout))\n",
    "    model.add(Flatten())\n",
    "    model.add(Dense(256, activation='relu'))\n",
    "    model.add(Dense(10, activation='softmax'))\n",
    "\n",
    "    return model"
   ]
  },
  {
   "cell_type": "code",
   "execution_count": null,
   "id": "a1b82bc0",
   "metadata": {},
   "outputs": [],
   "source": [
    "def train():\n",
    "    config_defaults = {\n",
    "        'epochs' : 22,\n",
    "        'batch_size' : 64,\n",
    "        'optimizer' : 'adam',\n",
    "        'filter_org' : 'same',\n",
    "        'num_filters' : 64,\n",
    "        'filter_size' : 5,\n",
    "        'dropout' : 0.2,\n",
    "        'data_aug' : 'yes',\n",
    "         'batch_norm' : 'yes'\n",
    "    }\n",
    "    wandb.init(config=config_defaults)\n",
    "    config = wandb.config\n",
    "    model = getModel(config.num_filters,config.filter_size,config.filter_org,\n",
    "                     config.dropout, config.data_aug, config.batch_norm)\n",
    "    model.compile(loss=tf.keras.losses.SparseCategoricalCrossentropy(from_logits=True),\n",
    "              optimizer='adam',\n",
    "              metrics=['accuracy'])\n",
    "    model.fit(train_ds,\n",
    "          epochs=config.epochs,\n",
    "          validation_data=val_ds,\n",
    "          verbose=1,\n",
    "             callbacks=[WandbCallback()])\n",
    "   "
   ]
  },
  {
   "cell_type": "code",
   "execution_count": null,
   "id": "90fc10f9",
   "metadata": {},
   "outputs": [],
   "source": [
    "wandb.agent(sweep_id, train)"
   ]
  },
  {
   "cell_type": "code",
   "execution_count": null,
   "id": "c3bbb550",
   "metadata": {},
   "outputs": [],
   "source": [
    "import tensorflow as tf\n",
    "tf.keras.backend.clear_session()"
   ]
  },
  {
   "cell_type": "code",
   "execution_count": null,
   "id": "aec5ae24",
   "metadata": {},
   "outputs": [],
   "source": []
  }
 ],
 "metadata": {
  "kernelspec": {
   "display_name": "tf2.4",
   "language": "python",
   "name": "tf2.4"
  },
  "language_info": {
   "codemirror_mode": {
    "name": "ipython",
    "version": 3
   },
   "file_extension": ".py",
   "mimetype": "text/x-python",
   "name": "python",
   "nbconvert_exporter": "python",
   "pygments_lexer": "ipython3",
   "version": "3.8.8"
  }
 },
 "nbformat": 4,
 "nbformat_minor": 5
}
