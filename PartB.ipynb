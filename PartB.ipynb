{
 "cells": [
  {
   "cell_type": "code",
   "execution_count": 1,
   "metadata": {},
   "outputs": [],
   "source": [
    "import matplotlib.pyplot as plt\n",
    "import numpy as np\n",
    "import os\n",
    "import tensorflow as tf\n",
    "import os\n",
    "import PIL"
   ]
  },
  {
   "cell_type": "code",
   "execution_count": 2,
   "metadata": {},
   "outputs": [],
   "source": [
    "import os\n",
    "import numpy as np\n",
    "import matplotlib.pyplot as plt\n",
    "import matplotlib.image as mpimg\n",
    "from keras.preprocessing.image import img_to_array\n",
    "from keras.preprocessing.image import array_to_img\n",
    "import cv2\n",
    "import csv\n",
    "import PIL\n",
    "\n",
    "Dataset_Path = os.path.join(os.getcwd(),'inaturalist_12K')\n",
    "# Dataset_Path = '/content/drive/MyDrive/inaturalist_12K'\n",
    "train_path = os.path.join(Dataset_Path , 'train')\n",
    "test_path = os.path.join(Dataset_Path , 'val')\n",
    "# test_path1 = test_path\n",
    "import pathlib\n",
    "Dataset_Path = pathlib.Path(Dataset_Path)\n",
    "train_path = pathlib.Path(train_path)\n",
    "test_path = pathlib.Path(test_path)"
   ]
  },
  {
   "cell_type": "code",
   "execution_count": 3,
   "metadata": {},
   "outputs": [],
   "source": [
    "# import tensorflow as tf\n",
    "# tf.test.gpu_device_name()\n",
    "gpus = tf.config.experimental.list_physical_devices('GPU')\n",
    "if gpus:\n",
    "  try:\n",
    "    tf.config.experimental.set_virtual_device_configuration(gpus[0],\n",
    "                                                            [tf.config.experimental.VirtualDeviceConfiguration(memory_limit=5500)])\n",
    "  except RuntimeError as e:\n",
    "    print(e)"
   ]
  },
  {
   "cell_type": "code",
   "execution_count": 4,
   "metadata": {},
   "outputs": [],
   "source": [
    "batch_size = 64\n",
    "IMAGE_SIZE = 256"
   ]
  },
  {
   "cell_type": "code",
   "execution_count": 5,
   "metadata": {},
   "outputs": [
    {
     "name": "stdout",
     "output_type": "stream",
     "text": [
      "Found 9999 files belonging to 10 classes.\n",
      "Using 9000 files for training.\n"
     ]
    }
   ],
   "source": [
    "train_ds = tf.keras.preprocessing.image_dataset_from_directory(\n",
    "    train_path, \n",
    "    class_names=None, \n",
    "    color_mode='rgb', \n",
    "    batch_size=batch_size, \n",
    "    image_size=(IMAGE_SIZE,IMAGE_SIZE), \n",
    "    shuffle=True, \n",
    "    seed=1234, \n",
    "    validation_split=0.1,\n",
    "    subset=\"training\",\n",
    "    interpolation='bilinear'\n",
    ")"
   ]
  },
  {
   "cell_type": "code",
   "execution_count": 6,
   "metadata": {},
   "outputs": [
    {
     "name": "stdout",
     "output_type": "stream",
     "text": [
      "Found 9999 files belonging to 10 classes.\n",
      "Using 999 files for validation.\n"
     ]
    }
   ],
   "source": [
    "val_ds = tf.keras.preprocessing.image_dataset_from_directory(\n",
    "    train_path, \n",
    "    class_names=None, \n",
    "    color_mode='rgb', \n",
    "    batch_size=batch_size, \n",
    "    image_size=(IMAGE_SIZE,IMAGE_SIZE), \n",
    "    shuffle=True, \n",
    "    seed=1234, \n",
    "    validation_split=0.1,\n",
    "    subset=\"validation\",\n",
    "    interpolation='bilinear'\n",
    ")"
   ]
  },
  {
   "cell_type": "code",
   "execution_count": 7,
   "metadata": {},
   "outputs": [
    {
     "name": "stdout",
     "output_type": "stream",
     "text": [
      "Found 2000 files belonging to 10 classes.\n"
     ]
    }
   ],
   "source": [
    "test_ds = tf.keras.preprocessing.image_dataset_from_directory(\n",
    "    test_path, \n",
    "    class_names=None, \n",
    "    color_mode='rgb', \n",
    "    batch_size=batch_size, \n",
    "    image_size=(IMAGE_SIZE,IMAGE_SIZE), \n",
    "    shuffle=True,\n",
    "    seed=1234,\n",
    "    interpolation='bilinear'\n",
    ")"
   ]
  },
  {
   "cell_type": "code",
   "execution_count": 8,
   "metadata": {},
   "outputs": [
    {
     "name": "stdout",
     "output_type": "stream",
     "text": [
      "['Amphibia', 'Animalia', 'Arachnida', 'Aves', 'Fungi', 'Insecta', 'Mammalia', 'Mollusca', 'Plantae', 'Reptilia']\n"
     ]
    }
   ],
   "source": [
    "class_names = train_ds.class_names\n",
    "print(class_names)"
   ]
  },
  {
   "cell_type": "code",
   "execution_count": 9,
   "metadata": {},
   "outputs": [],
   "source": [
    "AUTOTUNE = tf.data.AUTOTUNE\n",
    "\n",
    "train_ds = train_ds.cache().prefetch(buffer_size=AUTOTUNE)\n",
    "val_ds = val_ds.cache().prefetch(buffer_size=AUTOTUNE)\n",
    "test_ds = test_ds.cache().prefetch(buffer_size=AUTOTUNE)"
   ]
  },
  {
   "cell_type": "code",
   "execution_count": 10,
   "metadata": {},
   "outputs": [],
   "source": [
    "from keras.models import Sequential\n",
    "from keras.layers import Dense, Conv2D, Flatten, Activation, MaxPooling2D, Dropout , BatchNormalization, experimental"
   ]
  },
  {
   "cell_type": "code",
   "execution_count": 11,
   "metadata": {},
   "outputs": [],
   "source": [
    "data_augmentation = Sequential(\n",
    "  [\n",
    "    experimental.preprocessing.RandomFlip(\"horizontal\", \n",
    "                                                 input_shape=(IMAGE_SIZE, \n",
    "                                                              IMAGE_SIZE,\n",
    "                                                              3)),\n",
    "    experimental.preprocessing.RandomRotation(0.2),\n",
    "    experimental.preprocessing.RandomZoom(0.2),\n",
    "  ]\n",
    ")"
   ]
  },
  {
   "cell_type": "markdown",
   "metadata": {},
   "source": [
    "# Pretrained Model"
   ]
  },
  {
   "cell_type": "code",
   "execution_count": 12,
   "metadata": {},
   "outputs": [],
   "source": [
    "def get_pretrained_model(model_name, epochs=10):\n",
    "    global_average_layer = tf.keras.layers.GlobalAveragePooling2D()\n",
    "    prediction_layer = tf.keras.layers.Dense(10,activation='softmax')\n",
    "    inputs = tf.keras.Input(shape=(IMAGE_SIZE, IMAGE_SIZE, 3))\n",
    "    x = data_augmentation(inputs)\n",
    "    if model_name == 'InceptionV3':\n",
    "        base_model = tf.keras.applications.InceptionV3(input_shape=(IMAGE_SIZE,IMAGE_SIZE,3), include_top=False, weights='imagenet')\n",
    "        x = tf.keras.applications.imagenet_utils.preprocess_input(x,mode='tf')\n",
    "    elif model_name == 'InceptionResNetV2':\n",
    "        base_model = tf.keras.applications.InceptionResNetV2(input_shape=(IMAGE_SIZE,IMAGE_SIZE,3),\n",
    "                                               include_top=False,\n",
    "                                               weights='imagenet')\n",
    "        x = tf.keras.applications.imagenet_utils.preprocess_input(x,mode='tf')\n",
    "    elif model_name == 'ResNet50':\n",
    "        base_model = tf.keras.applications.ResNet50(input_shape=(IMAGE_SIZE,IMAGE_SIZE,3),\n",
    "                                               include_top=False,\n",
    "                                               weights='imagenet')\n",
    "        x = tf.keras.applications.imagenet_utils.preprocess_input(x,mode='caffe')\n",
    "    elif model_name == 'Xception':\n",
    "        base_model = tf.keras.applications.Xception(input_shape=(IMAGE_SIZE,IMAGE_SIZE,3),\n",
    "                                               include_top=False,\n",
    "                                               weights='imagenet')\n",
    "        x = tf.keras.applications.imagenet_utils.preprocess_input(x,mode='tf')\n",
    "    else:\n",
    "        base_model = None\n",
    "        preprocess_input = None\n",
    "    base_model.trainable = False\n",
    "    x = base_model(x, training=False)\n",
    "    x = global_average_layer(x)\n",
    "    x = tf.keras.layers.Dropout(0.2)(x)\n",
    "    outputs = prediction_layer(x)\n",
    "    model = tf.keras.Model(inputs, outputs)\n",
    "    model.compile(loss=tf.keras.losses.SparseCategoricalCrossentropy(from_logits=True),\n",
    "              optimizer=tf.keras.optimizers.Adam(lr=0.0001),\n",
    "              metrics=['accuracy'])\n",
    "    initial_epochs = epochs\n",
    "    history = model.fit(train_ds,\n",
    "                    epochs=initial_epochs,\n",
    "                    validation_data=val_ds,\n",
    "                       )\n",
    "#     model.save('PartB_models' + os.sep + 'base_models' + os.sep + model_name)\n",
    "#     model.save('PartB_models' + os.sep + 'models' + os.sep + model_name)\n",
    "    return model,history,base_model "
   ]
  },
  {
   "cell_type": "code",
   "execution_count": 13,
   "metadata": {},
   "outputs": [],
   "source": [
    "# for model_name in ['InceptionV3','InceptionResNetV2','ResNet50','Xception']:\n",
    "#     save_pretrained_model(model_name)"
   ]
  },
  {
   "cell_type": "code",
   "execution_count": 14,
   "metadata": {},
   "outputs": [],
   "source": [
    "# def get_saved_pretrained_model(model_name, epochs=10):\n",
    "#     base_model = tf.keras.models.load_model('PartB_models' + os.sep + 'base_models' + os.sep + model_name)\n",
    "#     model = tf.keras.models.load_model('PartB_models' + os.sep + 'models' + os.sep + model_name)\n",
    "#     return base_model, model"
   ]
  },
  {
   "cell_type": "code",
   "execution_count": 15,
   "metadata": {},
   "outputs": [],
   "source": [
    "# get_pretrain_conv_model('InceptionV3',10)"
   ]
  },
  {
   "cell_type": "markdown",
   "metadata": {},
   "source": [
    "# Fine tuning"
   ]
  },
  {
   "cell_type": "code",
   "execution_count": 16,
   "metadata": {},
   "outputs": [
    {
     "name": "stderr",
     "output_type": "stream",
     "text": [
      "wandb: Currently logged in as: mooizz (use `wandb login --relogin` to force relogin)\n",
      "wandb: WARNING If you're specifying your api key in code, ensure this code is not shared publically.\n",
      "wandb: WARNING Consider setting the WANDB_API_KEY environment variable, or running `wandb login` from the command line.\n",
      "wandb: Appending key for api.wandb.ai to your netrc file: C:\\Users\\Jaitesh/.netrc\n"
     ]
    },
    {
     "data": {
      "text/plain": [
       "True"
      ]
     },
     "execution_count": 16,
     "metadata": {},
     "output_type": "execute_result"
    }
   ],
   "source": [
    "import wandb\n",
    "wandb.login(key=\"866040d7d81f67025d43e7d50ecd83d54b6cf977\", relogin=False)"
   ]
  },
  {
   "cell_type": "code",
   "execution_count": 17,
   "metadata": {},
   "outputs": [],
   "source": [
    "sweep_config = {\n",
    "    'method': 'grid', #grid, random\n",
    "    'metric': {\n",
    "      'name': 'val_accuracy',\n",
    "      'goal': 'maximize'   \n",
    "    },\n",
    "    'parameters': {\n",
    "        'epochs':{\n",
    "            'values': [10]\n",
    "        },\n",
    "        'model_name': {  \n",
    "            'values': ['InceptionV3','InceptionResNetV2','ResNet50','Xception']\n",
    "        },\n",
    "        'strategy':{\n",
    "            'values': [1,2,3]\n",
    "        }\n",
    "    }\n",
    "}"
   ]
  },
  {
   "cell_type": "code",
   "execution_count": 18,
   "metadata": {},
   "outputs": [
    {
     "name": "stdout",
     "output_type": "stream",
     "text": [
      "Create sweep with ID: du1jdiy0\n",
      "Sweep URL: https://wandb.ai/mooizz/conv_inaturalist/sweeps/du1jdiy0\n"
     ]
    }
   ],
   "source": [
    "from wandb.keras import WandbCallback\n",
    "sweep_id = wandb.sweep(sweep_config, entity=\"mooizz\",project=\"conv_inaturalist\")"
   ]
  },
  {
   "cell_type": "code",
   "execution_count": 19,
   "metadata": {},
   "outputs": [],
   "source": [
    "def finetune():\n",
    "    config_defaults = {\n",
    "        'epochs' : 10,\n",
    "        'model_name': 'InceptionV3',\n",
    "        'strategy': '1'\n",
    "    }\n",
    "    wandb.init(config=config_defaults)\n",
    "    config = wandb.config\n",
    "    model, history, base_model = get_pretrained_model(config.model_name,config.epochs)\n",
    "    print(\"Number of layers in base Model: \", len(base_model.layers))\n",
    "    n = len(base_model.layers)\n",
    "    l = base_model.layers\n",
    "    fine_tune_at = n\n",
    "    base_model.trainable = True\n",
    "#     if config.strategy == 0:\n",
    "#         fine_tune_at = n\n",
    "    if config.strategy == 1:\n",
    "        fine_tune_at = n-1\n",
    "    if config.strategy == 2:\n",
    "        fine_tune_at = n-20\n",
    "    if config.strategy == 3:\n",
    "        fine_tune_at = n-50\n",
    "    for layer in base_model.layers[:fine_tune_at]:\n",
    "        layer.trainable =  False   \n",
    "    print(len(model.trainable_variables))\n",
    "    model.compile(loss=tf.keras.losses.SparseCategoricalCrossentropy(from_logits=True),\n",
    "              optimizer=tf.keras.optimizers.Adam(lr=0.00001),\n",
    "              metrics=['accuracy'])\n",
    "    \n",
    "    total_epochs = 2*config.epochs\n",
    "    \n",
    "    history_fine = model.fit(train_ds,\n",
    "                         epochs=total_epochs,\n",
    "                         initial_epoch=history.epoch[-1],\n",
    "                         validation_data=val_ds,\n",
    "                            callbacks=[WandbCallback()])\n",
    "    model.save('models'+os.sep+str(sweep_id)+os.sep+wandb.run.name)\n",
    "\n",
    "        "
   ]
  },
  {
   "cell_type": "code",
   "execution_count": 20,
   "metadata": {},
   "outputs": [],
   "source": [
    "# wandb.init(config=config_defaults)"
   ]
  },
  {
   "cell_type": "markdown",
   "metadata": {},
   "source": [
    "# Wandb Sweep"
   ]
  },
  {
   "cell_type": "code",
   "execution_count": 21,
   "metadata": {},
   "outputs": [],
   "source": [
    "# sweep_id = wandb.sweep(sweep_config, entity=\"mooizz\",project=\"conv_inaturalist\")"
   ]
  },
  {
   "cell_type": "code",
   "execution_count": 22,
   "metadata": {
    "scrolled": true
   },
   "outputs": [
    {
     "name": "stderr",
     "output_type": "stream",
     "text": [
      "wandb: Agent Starting Run: s59gqbxh with config:\n",
      "wandb: \tepochs: 10\n",
      "wandb: \tmodel_name: InceptionV3\n",
      "wandb: \tstrategy: 1\n",
      "wandb: wandb version 0.10.26 is available!  To upgrade, please run:\n",
      "wandb:  $ pip install wandb --upgrade\n"
     ]
    },
    {
     "data": {
      "text/html": [
       "\n",
       "                Tracking run with wandb version 0.10.25<br/>\n",
       "                Syncing run <strong style=\"color:#cdcd00\">cosmic-sweep-1</strong> to <a href=\"https://wandb.ai\" target=\"_blank\">Weights & Biases</a> <a href=\"https://docs.wandb.com/integrations/jupyter.html\" target=\"_blank\">(Documentation)</a>.<br/>\n",
       "                Project page: <a href=\"https://wandb.ai/mooizz/conv_inaturalist\" target=\"_blank\">https://wandb.ai/mooizz/conv_inaturalist</a><br/>\n",
       "                Sweep page: <a href=\"https://wandb.ai/mooizz/conv_inaturalist/sweeps/du1jdiy0\" target=\"_blank\">https://wandb.ai/mooizz/conv_inaturalist/sweeps/du1jdiy0</a><br/>\n",
       "Run page: <a href=\"https://wandb.ai/mooizz/conv_inaturalist/runs/s59gqbxh\" target=\"_blank\">https://wandb.ai/mooizz/conv_inaturalist/runs/s59gqbxh</a><br/>\n",
       "                Run data is saved locally in <code>C:\\Users\\Jaitesh\\Desktop\\Courses\\DL\\ConvolutionalNetwork\\wandb\\run-20210414_102706-s59gqbxh</code><br/><br/>\n",
       "            "
      ],
      "text/plain": [
       "<IPython.core.display.HTML object>"
      ]
     },
     "metadata": {},
     "output_type": "display_data"
    },
    {
     "name": "stdout",
     "output_type": "stream",
     "text": [
      "Epoch 1/10\n",
      "141/141 [==============================] - 80s 462ms/step - loss: 2.2767 - accuracy: 0.1957 - val_loss: 1.5219 - val_accuracy: 0.5936\n",
      "Epoch 2/10\n",
      "141/141 [==============================] - 9s 66ms/step - loss: 1.5599 - accuracy: 0.5202 - val_loss: 1.1388 - val_accuracy: 0.7107\n",
      "Epoch 3/10\n",
      "141/141 [==============================] - 10s 68ms/step - loss: 1.2675 - accuracy: 0.6330 - val_loss: 0.9671 - val_accuracy: 0.7407\n",
      "Epoch 4/10\n",
      "141/141 [==============================] - 10s 68ms/step - loss: 1.1141 - accuracy: 0.6702 - val_loss: 0.8755 - val_accuracy: 0.7487\n",
      "Epoch 5/10\n",
      "141/141 [==============================] - 10s 69ms/step - loss: 1.0435 - accuracy: 0.6809 - val_loss: 0.8235 - val_accuracy: 0.7528\n",
      "Epoch 6/10\n",
      "141/141 [==============================] - 10s 68ms/step - loss: 0.9945 - accuracy: 0.6903 - val_loss: 0.7890 - val_accuracy: 0.7618\n",
      "Epoch 7/10\n",
      "141/141 [==============================] - 10s 68ms/step - loss: 0.9574 - accuracy: 0.7014 - val_loss: 0.7642 - val_accuracy: 0.7628\n",
      "Epoch 8/10\n",
      "141/141 [==============================] - 10s 68ms/step - loss: 0.9413 - accuracy: 0.7033 - val_loss: 0.7450 - val_accuracy: 0.7628\n",
      "Epoch 9/10\n",
      "141/141 [==============================] - 10s 68ms/step - loss: 0.9197 - accuracy: 0.7078 - val_loss: 0.7314 - val_accuracy: 0.7648\n",
      "Epoch 10/10\n",
      "141/141 [==============================] - 10s 68ms/step - loss: 0.8986 - accuracy: 0.7133 - val_loss: 0.7213 - val_accuracy: 0.7698\n",
      "Number of layers in base Model:  311\n",
      "2\n",
      "Epoch 10/20\n",
      "141/141 [==============================] - 14s 74ms/step - loss: 0.8919 - accuracy: 0.7175 - val_loss: 0.7173 - val_accuracy: 0.7648\n",
      "Epoch 11/20\n",
      "141/141 [==============================] - 10s 68ms/step - loss: 0.8863 - accuracy: 0.7142 - val_loss: 0.7164 - val_accuracy: 0.7648\n",
      "Epoch 12/20\n",
      "141/141 [==============================] - 10s 69ms/step - loss: 0.8860 - accuracy: 0.7218 - val_loss: 0.7151 - val_accuracy: 0.7658\n",
      "Epoch 13/20\n",
      "141/141 [==============================] - 10s 69ms/step - loss: 0.8758 - accuracy: 0.7231 - val_loss: 0.7142 - val_accuracy: 0.7648\n",
      "Epoch 14/20\n",
      "141/141 [==============================] - 10s 68ms/step - loss: 0.8794 - accuracy: 0.7151 - val_loss: 0.7135 - val_accuracy: 0.7648\n",
      "Epoch 15/20\n",
      "141/141 [==============================] - 11s 77ms/step - loss: 0.8664 - accuracy: 0.7240 - val_loss: 0.7117 - val_accuracy: 0.7648\n",
      "Epoch 16/20\n",
      "141/141 [==============================] - 12s 82ms/step - loss: 0.8628 - accuracy: 0.7315 - val_loss: 0.7104 - val_accuracy: 0.7658\n",
      "Epoch 17/20\n",
      "141/141 [==============================] - 12s 84ms/step - loss: 0.8685 - accuracy: 0.7182 - val_loss: 0.7099 - val_accuracy: 0.7638\n",
      "Epoch 18/20\n",
      "141/141 [==============================] - 12s 85ms/step - loss: 0.8761 - accuracy: 0.7223 - val_loss: 0.7090 - val_accuracy: 0.7678\n",
      "Epoch 19/20\n",
      "141/141 [==============================] - 12s 82ms/step - loss: 0.8655 - accuracy: 0.7250 - val_loss: 0.7082 - val_accuracy: 0.7678\n",
      "Epoch 20/20\n",
      "141/141 [==============================] - 11s 82ms/step - loss: 0.8533 - accuracy: 0.7302 - val_loss: 0.7069 - val_accuracy: 0.7668\n",
      "INFO:tensorflow:Assets written to: models\\du1jdiy0\\cosmic-sweep-1\\assets\n"
     ]
    },
    {
     "data": {
      "text/html": [
       "<br/>Waiting for W&B process to finish, PID 18148<br/>Program ended successfully."
      ],
      "text/plain": [
       "<IPython.core.display.HTML object>"
      ]
     },
     "metadata": {},
     "output_type": "display_data"
    },
    {
     "data": {
      "application/vnd.jupyter.widget-view+json": {
       "model_id": "",
       "version_major": 2,
       "version_minor": 0
      },
      "text/plain": [
       "VBox(children=(Label(value=' 1.57MB of 1.57MB uploaded (0.00MB deduped)\\r'), FloatProgress(value=1.0, max=1.0)…"
      ]
     },
     "metadata": {},
     "output_type": "display_data"
    },
    {
     "data": {
      "text/html": [
       "Find user logs for this run at: <code>C:\\Users\\Jaitesh\\Desktop\\Courses\\DL\\ConvolutionalNetwork\\wandb\\run-20210414_102706-s59gqbxh\\logs\\debug.log</code>"
      ],
      "text/plain": [
       "<IPython.core.display.HTML object>"
      ]
     },
     "metadata": {},
     "output_type": "display_data"
    },
    {
     "data": {
      "text/html": [
       "Find internal logs for this run at: <code>C:\\Users\\Jaitesh\\Desktop\\Courses\\DL\\ConvolutionalNetwork\\wandb\\run-20210414_102706-s59gqbxh\\logs\\debug-internal.log</code>"
      ],
      "text/plain": [
       "<IPython.core.display.HTML object>"
      ]
     },
     "metadata": {},
     "output_type": "display_data"
    },
    {
     "data": {
      "text/html": [
       "<h3>Run summary:</h3><br/><style>\n",
       "    table.wandb td:nth-child(1) { padding: 0 10px; text-align: right }\n",
       "    </style><table class=\"wandb\">\n",
       "<tr><td>epoch</td><td>19</td></tr><tr><td>loss</td><td>0.86167</td></tr><tr><td>accuracy</td><td>0.72344</td></tr><tr><td>val_loss</td><td>0.70686</td></tr><tr><td>val_accuracy</td><td>0.76677</td></tr><tr><td>_runtime</td><td>295</td></tr><tr><td>_timestamp</td><td>1618376521</td></tr><tr><td>_step</td><td>10</td></tr><tr><td>best_val_loss</td><td>0.70686</td></tr><tr><td>best_epoch</td><td>19</td></tr></table>"
      ],
      "text/plain": [
       "<IPython.core.display.HTML object>"
      ]
     },
     "metadata": {},
     "output_type": "display_data"
    },
    {
     "data": {
      "text/html": [
       "<h3>Run history:</h3><br/><style>\n",
       "    table.wandb td:nth-child(1) { padding: 0 10px; text-align: right }\n",
       "    </style><table class=\"wandb\">\n",
       "<tr><td>epoch</td><td>▁▂▂▃▄▅▅▆▇▇█</td></tr><tr><td>loss</td><td>█▇▅▄▆▄▃▃▄▄▁</td></tr><tr><td>accuracy</td><td>▂▁▅▇▄▅█▄▆▄▇</td></tr><tr><td>val_loss</td><td>█▇▆▆▅▄▃▃▂▂▁</td></tr><tr><td>val_accuracy</td><td>▃▃▅▃▃▃▅▁██▆</td></tr><tr><td>_runtime</td><td>▁▂▂▃▃▄▅▆▆▇█</td></tr><tr><td>_timestamp</td><td>▁▂▂▃▃▄▅▆▆▇█</td></tr><tr><td>_step</td><td>▁▂▂▃▄▅▅▆▇▇█</td></tr></table><br/>"
      ],
      "text/plain": [
       "<IPython.core.display.HTML object>"
      ]
     },
     "metadata": {},
     "output_type": "display_data"
    },
    {
     "data": {
      "text/html": [
       "Synced 5 W&B file(s), 1 media file(s), 0 artifact file(s) and 1 other file(s)"
      ],
      "text/plain": [
       "<IPython.core.display.HTML object>"
      ]
     },
     "metadata": {},
     "output_type": "display_data"
    },
    {
     "data": {
      "text/html": [
       "\n",
       "                    <br/>Synced <strong style=\"color:#cdcd00\">cosmic-sweep-1</strong>: <a href=\"https://wandb.ai/mooizz/conv_inaturalist/runs/s59gqbxh\" target=\"_blank\">https://wandb.ai/mooizz/conv_inaturalist/runs/s59gqbxh</a><br/>\n",
       "                "
      ],
      "text/plain": [
       "<IPython.core.display.HTML object>"
      ]
     },
     "metadata": {},
     "output_type": "display_data"
    },
    {
     "name": "stderr",
     "output_type": "stream",
     "text": [
      "wandb: Agent Starting Run: a3sf28pn with config:\n",
      "wandb: \tepochs: 10\n",
      "wandb: \tmodel_name: InceptionV3\n",
      "wandb: \tstrategy: 2\n",
      "wandb: wandb version 0.10.26 is available!  To upgrade, please run:\n",
      "wandb:  $ pip install wandb --upgrade\n"
     ]
    },
    {
     "data": {
      "text/html": [
       "\n",
       "                Tracking run with wandb version 0.10.25<br/>\n",
       "                Syncing run <strong style=\"color:#cdcd00\">comfy-sweep-2</strong> to <a href=\"https://wandb.ai\" target=\"_blank\">Weights & Biases</a> <a href=\"https://docs.wandb.com/integrations/jupyter.html\" target=\"_blank\">(Documentation)</a>.<br/>\n",
       "                Project page: <a href=\"https://wandb.ai/mooizz/conv_inaturalist\" target=\"_blank\">https://wandb.ai/mooizz/conv_inaturalist</a><br/>\n",
       "                Sweep page: <a href=\"https://wandb.ai/mooizz/conv_inaturalist/sweeps/du1jdiy0\" target=\"_blank\">https://wandb.ai/mooizz/conv_inaturalist/sweeps/du1jdiy0</a><br/>\n",
       "Run page: <a href=\"https://wandb.ai/mooizz/conv_inaturalist/runs/a3sf28pn\" target=\"_blank\">https://wandb.ai/mooizz/conv_inaturalist/runs/a3sf28pn</a><br/>\n",
       "                Run data is saved locally in <code>C:\\Users\\Jaitesh\\Desktop\\Courses\\DL\\ConvolutionalNetwork\\wandb\\run-20210414_103255-a3sf28pn</code><br/><br/>\n",
       "            "
      ],
      "text/plain": [
       "<IPython.core.display.HTML object>"
      ]
     },
     "metadata": {},
     "output_type": "display_data"
    },
    {
     "name": "stdout",
     "output_type": "stream",
     "text": [
      "Epoch 1/10\n",
      "141/141 [==============================] - 17s 90ms/step - loss: 2.3734 - accuracy: 0.1564 - val_loss: 1.6650 - val_accuracy: 0.5175\n",
      "Epoch 2/10\n",
      "141/141 [==============================] - 12s 82ms/step - loss: 1.6205 - accuracy: 0.4945 - val_loss: 1.2261 - val_accuracy: 0.6607\n",
      "Epoch 3/10\n",
      "141/141 [==============================] - 12s 82ms/step - loss: 1.3140 - accuracy: 0.6085 - val_loss: 1.0297 - val_accuracy: 0.6997\n",
      "Epoch 4/10\n",
      "141/141 [==============================] - 12s 83ms/step - loss: 1.1479 - accuracy: 0.6519 - val_loss: 0.9289 - val_accuracy: 0.7207\n",
      "Epoch 5/10\n",
      "141/141 [==============================] - 10s 71ms/step - loss: 1.0578 - accuracy: 0.6767 - val_loss: 0.8659 - val_accuracy: 0.7327\n",
      "Epoch 6/10\n",
      "141/141 [==============================] - 11s 77ms/step - loss: 1.0021 - accuracy: 0.6883 - val_loss: 0.8262 - val_accuracy: 0.7377\n",
      "Epoch 7/10\n",
      "141/141 [==============================] - 10s 72ms/step - loss: 0.9650 - accuracy: 0.7035 - val_loss: 0.7967 - val_accuracy: 0.7457\n",
      "Epoch 8/10\n",
      "141/141 [==============================] - 13s 90ms/step - loss: 0.9537 - accuracy: 0.6965 - val_loss: 0.7767 - val_accuracy: 0.7497\n",
      "Epoch 9/10\n",
      "141/141 [==============================] - 10s 72ms/step - loss: 0.9225 - accuracy: 0.7038 - val_loss: 0.7616 - val_accuracy: 0.7538\n",
      "Epoch 10/10\n",
      "141/141 [==============================] - 10s 72ms/step - loss: 0.9083 - accuracy: 0.7074 - val_loss: 0.7500 - val_accuracy: 0.7598\n",
      "Number of layers in base Model:  311\n",
      "12\n",
      "Epoch 10/20\n",
      "141/141 [==============================] - 16s 83ms/step - loss: 0.8819 - accuracy: 0.7215 - val_loss: 0.7217 - val_accuracy: 0.7598\n",
      "Epoch 11/20\n",
      "141/141 [==============================] - 11s 81ms/step - loss: 0.8668 - accuracy: 0.7142 - val_loss: 0.7054 - val_accuracy: 0.7628\n",
      "Epoch 12/20\n",
      "141/141 [==============================] - 11s 79ms/step - loss: 0.8523 - accuracy: 0.7263 - val_loss: 0.6883 - val_accuracy: 0.7728\n",
      "Epoch 13/20\n",
      "141/141 [==============================] - 10s 74ms/step - loss: 0.8308 - accuracy: 0.7377 - val_loss: 0.6791 - val_accuracy: 0.7788\n",
      "Epoch 14/20\n",
      "141/141 [==============================] - 11s 75ms/step - loss: 0.8247 - accuracy: 0.7341 - val_loss: 0.6677 - val_accuracy: 0.7808\n",
      "Epoch 15/20\n",
      "141/141 [==============================] - 11s 75ms/step - loss: 0.7972 - accuracy: 0.7386 - val_loss: 0.6605 - val_accuracy: 0.7858\n",
      "Epoch 16/20\n",
      "141/141 [==============================] - 11s 80ms/step - loss: 0.7884 - accuracy: 0.7442 - val_loss: 0.6509 - val_accuracy: 0.7848\n",
      "Epoch 17/20\n",
      "141/141 [==============================] - 12s 82ms/step - loss: 0.7505 - accuracy: 0.7532 - val_loss: 0.6478 - val_accuracy: 0.7898\n",
      "Epoch 18/20\n",
      "141/141 [==============================] - 12s 88ms/step - loss: 0.7578 - accuracy: 0.7483 - val_loss: 0.6395 - val_accuracy: 0.7918\n",
      "Epoch 19/20\n",
      "141/141 [==============================] - 12s 82ms/step - loss: 0.7561 - accuracy: 0.7508 - val_loss: 0.6343 - val_accuracy: 0.7948\n",
      "Epoch 20/20\n",
      "141/141 [==============================] - 11s 79ms/step - loss: 0.7526 - accuracy: 0.7520 - val_loss: 0.6299 - val_accuracy: 0.7968\n",
      "INFO:tensorflow:Assets written to: models\\du1jdiy0\\comfy-sweep-2\\assets\n"
     ]
    },
    {
     "data": {
      "text/html": [
       "<br/>Waiting for W&B process to finish, PID 3544<br/>Program ended successfully."
      ],
      "text/plain": [
       "<IPython.core.display.HTML object>"
      ]
     },
     "metadata": {},
     "output_type": "display_data"
    },
    {
     "data": {
      "application/vnd.jupyter.widget-view+json": {
       "model_id": "",
       "version_major": 2,
       "version_minor": 0
      },
      "text/plain": [
       "VBox(children=(Label(value=' 0.23MB of 0.23MB uploaded (0.00MB deduped)\\r'), FloatProgress(value=1.0, max=1.0)…"
      ]
     },
     "metadata": {},
     "output_type": "display_data"
    },
    {
     "data": {
      "text/html": [
       "Find user logs for this run at: <code>C:\\Users\\Jaitesh\\Desktop\\Courses\\DL\\ConvolutionalNetwork\\wandb\\run-20210414_103255-a3sf28pn\\logs\\debug.log</code>"
      ],
      "text/plain": [
       "<IPython.core.display.HTML object>"
      ]
     },
     "metadata": {},
     "output_type": "display_data"
    },
    {
     "data": {
      "text/html": [
       "Find internal logs for this run at: <code>C:\\Users\\Jaitesh\\Desktop\\Courses\\DL\\ConvolutionalNetwork\\wandb\\run-20210414_103255-a3sf28pn\\logs\\debug-internal.log</code>"
      ],
      "text/plain": [
       "<IPython.core.display.HTML object>"
      ]
     },
     "metadata": {},
     "output_type": "display_data"
    },
    {
     "data": {
      "text/html": [
       "<h3>Run summary:</h3><br/><style>\n",
       "    table.wandb td:nth-child(1) { padding: 0 10px; text-align: right }\n",
       "    </style><table class=\"wandb\">\n",
       "<tr><td>epoch</td><td>19</td></tr><tr><td>loss</td><td>0.74392</td></tr><tr><td>accuracy</td><td>0.75144</td></tr><tr><td>val_loss</td><td>0.62988</td></tr><tr><td>val_accuracy</td><td>0.7968</td></tr><tr><td>_runtime</td><td>250</td></tr><tr><td>_timestamp</td><td>1618376825</td></tr><tr><td>_step</td><td>10</td></tr><tr><td>best_val_loss</td><td>0.62988</td></tr><tr><td>best_epoch</td><td>19</td></tr></table>"
      ],
      "text/plain": [
       "<IPython.core.display.HTML object>"
      ]
     },
     "metadata": {},
     "output_type": "display_data"
    },
    {
     "data": {
      "text/html": [
       "<h3>Run history:</h3><br/><style>\n",
       "    table.wandb td:nth-child(1) { padding: 0 10px; text-align: right }\n",
       "    </style><table class=\"wandb\">\n",
       "<tr><td>epoch</td><td>▁▂▂▃▄▅▅▆▇▇█</td></tr><tr><td>loss</td><td>█▇▆▆▅▄▃▂▂▁▁</td></tr><tr><td>accuracy</td><td>▁▁▃▄▄▄▇▇▇██</td></tr><tr><td>val_loss</td><td>█▇▅▅▄▃▃▂▂▁▁</td></tr><tr><td>val_accuracy</td><td>▁▂▃▅▅▆▆▇▇██</td></tr><tr><td>_runtime</td><td>▁▂▂▃▄▄▅▆▇▇█</td></tr><tr><td>_timestamp</td><td>▁▂▂▃▄▄▅▆▇▇█</td></tr><tr><td>_step</td><td>▁▂▂▃▄▅▅▆▇▇█</td></tr></table><br/>"
      ],
      "text/plain": [
       "<IPython.core.display.HTML object>"
      ]
     },
     "metadata": {},
     "output_type": "display_data"
    },
    {
     "data": {
      "text/html": [
       "Synced 5 W&B file(s), 1 media file(s), 0 artifact file(s) and 1 other file(s)"
      ],
      "text/plain": [
       "<IPython.core.display.HTML object>"
      ]
     },
     "metadata": {},
     "output_type": "display_data"
    },
    {
     "data": {
      "text/html": [
       "\n",
       "                    <br/>Synced <strong style=\"color:#cdcd00\">comfy-sweep-2</strong>: <a href=\"https://wandb.ai/mooizz/conv_inaturalist/runs/a3sf28pn\" target=\"_blank\">https://wandb.ai/mooizz/conv_inaturalist/runs/a3sf28pn</a><br/>\n",
       "                "
      ],
      "text/plain": [
       "<IPython.core.display.HTML object>"
      ]
     },
     "metadata": {},
     "output_type": "display_data"
    },
    {
     "name": "stderr",
     "output_type": "stream",
     "text": [
      "wandb: Agent Starting Run: x3t7d1c7 with config:\n",
      "wandb: \tepochs: 10\n",
      "wandb: \tmodel_name: InceptionV3\n",
      "wandb: \tstrategy: 3\n",
      "wandb: wandb version 0.10.26 is available!  To upgrade, please run:\n",
      "wandb:  $ pip install wandb --upgrade\n"
     ]
    },
    {
     "data": {
      "text/html": [
       "\n",
       "                Tracking run with wandb version 0.10.25<br/>\n",
       "                Syncing run <strong style=\"color:#cdcd00\">wandering-sweep-3</strong> to <a href=\"https://wandb.ai\" target=\"_blank\">Weights & Biases</a> <a href=\"https://docs.wandb.com/integrations/jupyter.html\" target=\"_blank\">(Documentation)</a>.<br/>\n",
       "                Project page: <a href=\"https://wandb.ai/mooizz/conv_inaturalist\" target=\"_blank\">https://wandb.ai/mooizz/conv_inaturalist</a><br/>\n",
       "                Sweep page: <a href=\"https://wandb.ai/mooizz/conv_inaturalist/sweeps/du1jdiy0\" target=\"_blank\">https://wandb.ai/mooizz/conv_inaturalist/sweeps/du1jdiy0</a><br/>\n",
       "Run page: <a href=\"https://wandb.ai/mooizz/conv_inaturalist/runs/x3t7d1c7\" target=\"_blank\">https://wandb.ai/mooizz/conv_inaturalist/runs/x3t7d1c7</a><br/>\n",
       "                Run data is saved locally in <code>C:\\Users\\Jaitesh\\Desktop\\Courses\\DL\\ConvolutionalNetwork\\wandb\\run-20210414_103802-x3t7d1c7</code><br/><br/>\n",
       "            "
      ],
      "text/plain": [
       "<IPython.core.display.HTML object>"
      ]
     },
     "metadata": {},
     "output_type": "display_data"
    },
    {
     "name": "stdout",
     "output_type": "stream",
     "text": [
      "Epoch 1/10\n",
      "141/141 [==============================] - 14s 76ms/step - loss: 2.2798 - accuracy: 0.1923 - val_loss: 1.5773 - val_accuracy: 0.5455\n",
      "Epoch 2/10\n",
      "141/141 [==============================] - 10s 69ms/step - loss: 1.5758 - accuracy: 0.5140 - val_loss: 1.1779 - val_accuracy: 0.6757\n",
      "Epoch 3/10\n",
      "141/141 [==============================] - 10s 69ms/step - loss: 1.2709 - accuracy: 0.6201 - val_loss: 0.9978 - val_accuracy: 0.7117\n",
      "Epoch 4/10\n",
      "141/141 [==============================] - 10s 69ms/step - loss: 1.1224 - accuracy: 0.6598 - val_loss: 0.9012 - val_accuracy: 0.7407\n",
      "Epoch 5/10\n",
      "141/141 [==============================] - 10s 73ms/step - loss: 1.0398 - accuracy: 0.6762 - val_loss: 0.8461 - val_accuracy: 0.7447\n",
      "Epoch 6/10\n",
      "141/141 [==============================] - 11s 75ms/step - loss: 0.9907 - accuracy: 0.6895 - val_loss: 0.8084 - val_accuracy: 0.7437\n",
      "Epoch 7/10\n",
      "141/141 [==============================] - 10s 69ms/step - loss: 0.9560 - accuracy: 0.7035 - val_loss: 0.7838 - val_accuracy: 0.7477\n",
      "Epoch 8/10\n",
      "141/141 [==============================] - 10s 69ms/step - loss: 0.9471 - accuracy: 0.7024 - val_loss: 0.7638 - val_accuracy: 0.7568 0.9472 - accuracy: 0.70\n",
      "Epoch 9/10\n",
      "141/141 [==============================] - 10s 69ms/step - loss: 0.9289 - accuracy: 0.7048 - val_loss: 0.7486 - val_accuracy: 0.7618\n",
      "Epoch 10/10\n",
      "141/141 [==============================] - 10s 69ms/step - loss: 0.9040 - accuracy: 0.7112 - val_loss: 0.7390 - val_accuracy: 0.7588\n",
      "Number of layers in base Model:  311\n",
      "29\n",
      "Epoch 10/20\n",
      "141/141 [==============================] - 19s 102ms/step - loss: 0.8841 - accuracy: 0.7213 - val_loss: 0.6756 - val_accuracy: 0.7848\n",
      "Epoch 11/20\n",
      "141/141 [==============================] - 13s 93ms/step - loss: 0.8084 - accuracy: 0.7353 - val_loss: 0.6422 - val_accuracy: 0.7898\n",
      "Epoch 12/20\n",
      "141/141 [==============================] - 12s 83ms/step - loss: 0.7507 - accuracy: 0.7495 - val_loss: 0.6226 - val_accuracy: 0.7958\n",
      "Epoch 13/20\n",
      "141/141 [==============================] - 13s 96ms/step - loss: 0.7109 - accuracy: 0.7615 - val_loss: 0.6107 - val_accuracy: 0.8018\n",
      "Epoch 14/20\n",
      "141/141 [==============================] - 12s 89ms/step - loss: 0.6843 - accuracy: 0.7756 - val_loss: 0.6020 - val_accuracy: 0.8038\n",
      "Epoch 15/20\n",
      "141/141 [==============================] - 13s 93ms/step - loss: 0.6673 - accuracy: 0.7752 - val_loss: 0.5964 - val_accuracy: 0.8088\n",
      "Epoch 16/20\n",
      "141/141 [==============================] - 13s 89ms/step - loss: 0.6571 - accuracy: 0.7750 - val_loss: 0.5943 - val_accuracy: 0.8048\n",
      "Epoch 17/20\n",
      "141/141 [==============================] - 13s 91ms/step - loss: 0.6201 - accuracy: 0.7951 - val_loss: 0.5880 - val_accuracy: 0.8078\n",
      "Epoch 18/20\n",
      "141/141 [==============================] - 12s 87ms/step - loss: 0.5967 - accuracy: 0.7991 - val_loss: 0.5842 - val_accuracy: 0.8038\n",
      "Epoch 19/20\n",
      "141/141 [==============================] - 13s 92ms/step - loss: 0.5693 - accuracy: 0.8087 - val_loss: 0.5800 - val_accuracy: 0.8078\n",
      "Epoch 20/20\n",
      "141/141 [==============================] - 14s 97ms/step - loss: 0.5675 - accuracy: 0.8069 - val_loss: 0.5885 - val_accuracy: 0.8038\n",
      "INFO:tensorflow:Assets written to: models\\du1jdiy0\\wandering-sweep-3\\assets\n"
     ]
    },
    {
     "data": {
      "text/html": [
       "<br/>Waiting for W&B process to finish, PID 11440<br/>Program ended successfully."
      ],
      "text/plain": [
       "<IPython.core.display.HTML object>"
      ]
     },
     "metadata": {},
     "output_type": "display_data"
    },
    {
     "data": {
      "application/vnd.jupyter.widget-view+json": {
       "model_id": "",
       "version_major": 2,
       "version_minor": 0
      },
      "text/plain": [
       "VBox(children=(Label(value=' 138.70MB of 138.70MB uploaded (0.00MB deduped)\\r'), FloatProgress(value=1.0, max=…"
      ]
     },
     "metadata": {},
     "output_type": "display_data"
    },
    {
     "data": {
      "text/html": [
       "Find user logs for this run at: <code>C:\\Users\\Jaitesh\\Desktop\\Courses\\DL\\ConvolutionalNetwork\\wandb\\run-20210414_103802-x3t7d1c7\\logs\\debug.log</code>"
      ],
      "text/plain": [
       "<IPython.core.display.HTML object>"
      ]
     },
     "metadata": {},
     "output_type": "display_data"
    },
    {
     "data": {
      "text/html": [
       "Find internal logs for this run at: <code>C:\\Users\\Jaitesh\\Desktop\\Courses\\DL\\ConvolutionalNetwork\\wandb\\run-20210414_103802-x3t7d1c7\\logs\\debug-internal.log</code>"
      ],
      "text/plain": [
       "<IPython.core.display.HTML object>"
      ]
     },
     "metadata": {},
     "output_type": "display_data"
    },
    {
     "data": {
      "text/html": [
       "<h3>Run summary:</h3><br/><style>\n",
       "    table.wandb td:nth-child(1) { padding: 0 10px; text-align: right }\n",
       "    </style><table class=\"wandb\">\n",
       "<tr><td>epoch</td><td>19</td></tr><tr><td>loss</td><td>0.55574</td></tr><tr><td>accuracy</td><td>0.80867</td></tr><tr><td>val_loss</td><td>0.58854</td></tr><tr><td>val_accuracy</td><td>0.8038</td></tr><tr><td>_runtime</td><td>257</td></tr><tr><td>_timestamp</td><td>1618377139</td></tr><tr><td>_step</td><td>10</td></tr><tr><td>best_val_loss</td><td>0.58001</td></tr><tr><td>best_epoch</td><td>18</td></tr></table>"
      ],
      "text/plain": [
       "<IPython.core.display.HTML object>"
      ]
     },
     "metadata": {},
     "output_type": "display_data"
    },
    {
     "data": {
      "text/html": [
       "<h3>Run history:</h3><br/><style>\n",
       "    table.wandb td:nth-child(1) { padding: 0 10px; text-align: right }\n",
       "    </style><table class=\"wandb\">\n",
       "<tr><td>epoch</td><td>▁▂▂▃▄▅▅▆▇▇█</td></tr><tr><td>loss</td><td>█▆▅▅▄▃▃▂▂▂▁</td></tr><tr><td>accuracy</td><td>▁▂▃▄▅▅▆▇▇▇█</td></tr><tr><td>val_loss</td><td>█▆▄▃▃▂▂▂▁▁▂</td></tr><tr><td>val_accuracy</td><td>▁▂▄▆▇█▇█▇█▇</td></tr><tr><td>_runtime</td><td>▁▂▂▃▄▅▅▆▇▇█</td></tr><tr><td>_timestamp</td><td>▁▂▂▃▄▅▅▆▇▇█</td></tr><tr><td>_step</td><td>▁▂▂▃▄▅▅▆▇▇█</td></tr></table><br/>"
      ],
      "text/plain": [
       "<IPython.core.display.HTML object>"
      ]
     },
     "metadata": {},
     "output_type": "display_data"
    },
    {
     "data": {
      "text/html": [
       "Synced 5 W&B file(s), 1 media file(s), 0 artifact file(s) and 1 other file(s)"
      ],
      "text/plain": [
       "<IPython.core.display.HTML object>"
      ]
     },
     "metadata": {},
     "output_type": "display_data"
    },
    {
     "data": {
      "text/html": [
       "\n",
       "                    <br/>Synced <strong style=\"color:#cdcd00\">wandering-sweep-3</strong>: <a href=\"https://wandb.ai/mooizz/conv_inaturalist/runs/x3t7d1c7\" target=\"_blank\">https://wandb.ai/mooizz/conv_inaturalist/runs/x3t7d1c7</a><br/>\n",
       "                "
      ],
      "text/plain": [
       "<IPython.core.display.HTML object>"
      ]
     },
     "metadata": {},
     "output_type": "display_data"
    },
    {
     "name": "stderr",
     "output_type": "stream",
     "text": [
      "wandb: Agent Starting Run: 5k8oy9mt with config:\n",
      "wandb: \tepochs: 10\n",
      "wandb: \tmodel_name: InceptionResNetV2\n",
      "wandb: \tstrategy: 1\n",
      "wandb: wandb version 0.10.26 is available!  To upgrade, please run:\n",
      "wandb:  $ pip install wandb --upgrade\n"
     ]
    },
    {
     "data": {
      "text/html": [
       "\n",
       "                Tracking run with wandb version 0.10.25<br/>\n",
       "                Syncing run <strong style=\"color:#cdcd00\">fearless-sweep-4</strong> to <a href=\"https://wandb.ai\" target=\"_blank\">Weights & Biases</a> <a href=\"https://docs.wandb.com/integrations/jupyter.html\" target=\"_blank\">(Documentation)</a>.<br/>\n",
       "                Project page: <a href=\"https://wandb.ai/mooizz/conv_inaturalist\" target=\"_blank\">https://wandb.ai/mooizz/conv_inaturalist</a><br/>\n",
       "                Sweep page: <a href=\"https://wandb.ai/mooizz/conv_inaturalist/sweeps/du1jdiy0\" target=\"_blank\">https://wandb.ai/mooizz/conv_inaturalist/sweeps/du1jdiy0</a><br/>\n",
       "Run page: <a href=\"https://wandb.ai/mooizz/conv_inaturalist/runs/5k8oy9mt\" target=\"_blank\">https://wandb.ai/mooizz/conv_inaturalist/runs/5k8oy9mt</a><br/>\n",
       "                Run data is saved locally in <code>C:\\Users\\Jaitesh\\Desktop\\Courses\\DL\\ConvolutionalNetwork\\wandb\\run-20210414_104319-5k8oy9mt</code><br/><br/>\n",
       "            "
      ],
      "text/plain": [
       "<IPython.core.display.HTML object>"
      ]
     },
     "metadata": {},
     "output_type": "display_data"
    },
    {
     "name": "stdout",
     "output_type": "stream",
     "text": [
      "Epoch 1/10\n",
      "141/141 [==============================] - 42s 229ms/step - loss: 2.2733 - accuracy: 0.2131 - val_loss: 1.4558 - val_accuracy: 0.6126\n",
      "Epoch 2/10\n",
      "141/141 [==============================] - 25s 176ms/step - loss: 1.4608 - accuracy: 0.5759 - val_loss: 1.0480 - val_accuracy: 0.7207\n",
      "Epoch 3/10\n",
      "141/141 [==============================] - 25s 177ms/step - loss: 1.1632 - accuracy: 0.6618 - val_loss: 0.8756 - val_accuracy: 0.7568\n",
      "Epoch 4/10\n",
      "141/141 [==============================] - 25s 177ms/step - loss: 1.0327 - accuracy: 0.6921 - val_loss: 0.7873 - val_accuracy: 0.7818\n",
      "Epoch 5/10\n",
      "141/141 [==============================] - 25s 177ms/step - loss: 0.9523 - accuracy: 0.7143 - val_loss: 0.7360 - val_accuracy: 0.7938\n",
      "Epoch 6/10\n",
      "141/141 [==============================] - 25s 177ms/step - loss: 0.9194 - accuracy: 0.7199 - val_loss: 0.7024 - val_accuracy: 0.7998\n",
      "Epoch 7/10\n",
      "141/141 [==============================] - 25s 177ms/step - loss: 0.8851 - accuracy: 0.7328 - val_loss: 0.6801 - val_accuracy: 0.7978\n",
      "Epoch 8/10\n",
      "141/141 [==============================] - 25s 177ms/step - loss: 0.8464 - accuracy: 0.7398 - val_loss: 0.6640 - val_accuracy: 0.7998\n",
      "Epoch 9/10\n",
      "141/141 [==============================] - 25s 177ms/step - loss: 0.8532 - accuracy: 0.7329 - val_loss: 0.6514 - val_accuracy: 0.8038\n",
      "Epoch 10/10\n",
      "141/141 [==============================] - 25s 178ms/step - loss: 0.8368 - accuracy: 0.7353 - val_loss: 0.6418 - val_accuracy: 0.8068\n",
      "Number of layers in base Model:  780\n",
      "2\n",
      "Epoch 10/20\n",
      "141/141 [==============================] - 37s 195ms/step - loss: 0.8244 - accuracy: 0.7440 - val_loss: 0.6407 - val_accuracy: 0.8058\n",
      "Epoch 11/20\n",
      "141/141 [==============================] - 25s 179ms/step - loss: 0.8106 - accuracy: 0.7560 - val_loss: 0.6401 - val_accuracy: 0.8088\n",
      "Epoch 12/20\n",
      "141/141 [==============================] - 25s 179ms/step - loss: 0.8267 - accuracy: 0.7439 - val_loss: 0.6396 - val_accuracy: 0.8078\n",
      "Epoch 13/20\n",
      "141/141 [==============================] - 25s 179ms/step - loss: 0.8066 - accuracy: 0.7506 - val_loss: 0.6383 - val_accuracy: 0.8088\n",
      "Epoch 14/20\n",
      "141/141 [==============================] - 25s 179ms/step - loss: 0.8259 - accuracy: 0.7475 - val_loss: 0.6377 - val_accuracy: 0.8098\n",
      "Epoch 15/20\n",
      "141/141 [==============================] - 25s 179ms/step - loss: 0.8162 - accuracy: 0.7421 - val_loss: 0.6371 - val_accuracy: 0.8108\n",
      "Epoch 16/20\n",
      "141/141 [==============================] - 25s 179ms/step - loss: 0.8163 - accuracy: 0.7483 - val_loss: 0.6364 - val_accuracy: 0.8088\n",
      "Epoch 17/20\n",
      "141/141 [==============================] - 25s 179ms/step - loss: 0.8162 - accuracy: 0.7419 - val_loss: 0.6351 - val_accuracy: 0.8128\n",
      "Epoch 18/20\n",
      "141/141 [==============================] - 26s 183ms/step - loss: 0.8099 - accuracy: 0.7482 - val_loss: 0.6344 - val_accuracy: 0.8118\n",
      "Epoch 19/20\n",
      "141/141 [==============================] - 25s 179ms/step - loss: 0.8111 - accuracy: 0.7503 - val_loss: 0.6334 - val_accuracy: 0.8118\n",
      "Epoch 20/20\n",
      "141/141 [==============================] - 25s 179ms/step - loss: 0.8191 - accuracy: 0.7459 - val_loss: 0.6323 - val_accuracy: 0.8118\n",
      "INFO:tensorflow:Assets written to: models\\du1jdiy0\\fearless-sweep-4\\assets\n"
     ]
    },
    {
     "data": {
      "text/html": [
       "<br/>Waiting for W&B process to finish, PID 20180<br/>Program ended successfully."
      ],
      "text/plain": [
       "<IPython.core.display.HTML object>"
      ]
     },
     "metadata": {},
     "output_type": "display_data"
    },
    {
     "data": {
      "application/vnd.jupyter.widget-view+json": {
       "model_id": "",
       "version_major": 2,
       "version_minor": 0
      },
      "text/plain": [
       "VBox(children=(Label(value=' 208.61MB of 208.61MB uploaded (0.00MB deduped)\\r'), FloatProgress(value=1.0, max=…"
      ]
     },
     "metadata": {},
     "output_type": "display_data"
    },
    {
     "data": {
      "text/html": [
       "Find user logs for this run at: <code>C:\\Users\\Jaitesh\\Desktop\\Courses\\DL\\ConvolutionalNetwork\\wandb\\run-20210414_104319-5k8oy9mt\\logs\\debug.log</code>"
      ],
      "text/plain": [
       "<IPython.core.display.HTML object>"
      ]
     },
     "metadata": {},
     "output_type": "display_data"
    },
    {
     "data": {
      "text/html": [
       "Find internal logs for this run at: <code>C:\\Users\\Jaitesh\\Desktop\\Courses\\DL\\ConvolutionalNetwork\\wandb\\run-20210414_104319-5k8oy9mt\\logs\\debug-internal.log</code>"
      ],
      "text/plain": [
       "<IPython.core.display.HTML object>"
      ]
     },
     "metadata": {},
     "output_type": "display_data"
    },
    {
     "data": {
      "text/html": [
       "<h3>Run summary:</h3><br/><style>\n",
       "    table.wandb td:nth-child(1) { padding: 0 10px; text-align: right }\n",
       "    </style><table class=\"wandb\">\n",
       "<tr><td>epoch</td><td>19</td></tr><tr><td>loss</td><td>0.81733</td></tr><tr><td>accuracy</td><td>0.74322</td></tr><tr><td>val_loss</td><td>0.6323</td></tr><tr><td>val_accuracy</td><td>0.81181</td></tr><tr><td>_runtime</td><td>570</td></tr><tr><td>_timestamp</td><td>1618377769</td></tr><tr><td>_step</td><td>10</td></tr><tr><td>best_val_loss</td><td>0.6323</td></tr><tr><td>best_epoch</td><td>19</td></tr></table>"
      ],
      "text/plain": [
       "<IPython.core.display.HTML object>"
      ]
     },
     "metadata": {},
     "output_type": "display_data"
    },
    {
     "data": {
      "text/html": [
       "<h3>Run history:</h3><br/><style>\n",
       "    table.wandb td:nth-child(1) { padding: 0 10px; text-align: right }\n",
       "    </style><table class=\"wandb\">\n",
       "<tr><td>epoch</td><td>▁▂▂▃▄▅▅▆▇▇█</td></tr><tr><td>loss</td><td>█▂▆▄█▃▅▂▁▃▄</td></tr><tr><td>accuracy</td><td>▁▇▁▄▁▆▁▂▇█▃</td></tr><tr><td>val_loss</td><td>█▇▇▆▅▅▄▃▃▂▁</td></tr><tr><td>val_accuracy</td><td>▁▄▃▄▅▆▄█▇▇▇</td></tr><tr><td>_runtime</td><td>▁▂▂▃▄▄▅▆▇▇█</td></tr><tr><td>_timestamp</td><td>▁▂▂▃▄▄▅▆▇▇█</td></tr><tr><td>_step</td><td>▁▂▂▃▄▅▅▆▇▇█</td></tr></table><br/>"
      ],
      "text/plain": [
       "<IPython.core.display.HTML object>"
      ]
     },
     "metadata": {},
     "output_type": "display_data"
    },
    {
     "data": {
      "text/html": [
       "Synced 5 W&B file(s), 1 media file(s), 0 artifact file(s) and 1 other file(s)"
      ],
      "text/plain": [
       "<IPython.core.display.HTML object>"
      ]
     },
     "metadata": {},
     "output_type": "display_data"
    },
    {
     "data": {
      "text/html": [
       "\n",
       "                    <br/>Synced <strong style=\"color:#cdcd00\">fearless-sweep-4</strong>: <a href=\"https://wandb.ai/mooizz/conv_inaturalist/runs/5k8oy9mt\" target=\"_blank\">https://wandb.ai/mooizz/conv_inaturalist/runs/5k8oy9mt</a><br/>\n",
       "                "
      ],
      "text/plain": [
       "<IPython.core.display.HTML object>"
      ]
     },
     "metadata": {},
     "output_type": "display_data"
    },
    {
     "name": "stderr",
     "output_type": "stream",
     "text": [
      "wandb: Agent Starting Run: f9mic7u3 with config:\n",
      "wandb: \tepochs: 10\n",
      "wandb: \tmodel_name: InceptionResNetV2\n",
      "wandb: \tstrategy: 2\n",
      "wandb: wandb version 0.10.26 is available!  To upgrade, please run:\n",
      "wandb:  $ pip install wandb --upgrade\n"
     ]
    },
    {
     "data": {
      "text/html": [
       "\n",
       "                Tracking run with wandb version 0.10.25<br/>\n",
       "                Syncing run <strong style=\"color:#cdcd00\">atomic-sweep-5</strong> to <a href=\"https://wandb.ai\" target=\"_blank\">Weights & Biases</a> <a href=\"https://docs.wandb.com/integrations/jupyter.html\" target=\"_blank\">(Documentation)</a>.<br/>\n",
       "                Project page: <a href=\"https://wandb.ai/mooizz/conv_inaturalist\" target=\"_blank\">https://wandb.ai/mooizz/conv_inaturalist</a><br/>\n",
       "                Sweep page: <a href=\"https://wandb.ai/mooizz/conv_inaturalist/sweeps/du1jdiy0\" target=\"_blank\">https://wandb.ai/mooizz/conv_inaturalist/sweeps/du1jdiy0</a><br/>\n",
       "Run page: <a href=\"https://wandb.ai/mooizz/conv_inaturalist/runs/f9mic7u3\" target=\"_blank\">https://wandb.ai/mooizz/conv_inaturalist/runs/f9mic7u3</a><br/>\n",
       "                Run data is saved locally in <code>C:\\Users\\Jaitesh\\Desktop\\Courses\\DL\\ConvolutionalNetwork\\wandb\\run-20210414_105455-f9mic7u3</code><br/><br/>\n",
       "            "
      ],
      "text/plain": [
       "<IPython.core.display.HTML object>"
      ]
     },
     "metadata": {},
     "output_type": "display_data"
    },
    {
     "name": "stdout",
     "output_type": "stream",
     "text": [
      "Epoch 1/10\n",
      "141/141 [==============================] - 39s 223ms/step - loss: 2.2692 - accuracy: 0.2024 - val_loss: 1.4462 - val_accuracy: 0.6396\n",
      "Epoch 2/10\n",
      "141/141 [==============================] - 28s 202ms/step - loss: 1.4783 - accuracy: 0.5726 - val_loss: 1.0318 - val_accuracy: 0.7447\n",
      "Epoch 3/10\n",
      "141/141 [==============================] - 25s 178ms/step - loss: 1.1765 - accuracy: 0.6694 - val_loss: 0.8675 - val_accuracy: 0.7798\n",
      "Epoch 4/10\n",
      "141/141 [==============================] - 25s 178ms/step - loss: 1.0119 - accuracy: 0.7066 - val_loss: 0.7838 - val_accuracy: 0.7868\n",
      "Epoch 5/10\n",
      "141/141 [==============================] - 25s 179ms/step - loss: 0.9430 - accuracy: 0.7226 - val_loss: 0.7361 - val_accuracy: 0.7878\n",
      "Epoch 6/10\n",
      "141/141 [==============================] - 25s 179ms/step - loss: 0.9181 - accuracy: 0.7255 - val_loss: 0.7060 - val_accuracy: 0.7968\n",
      "Epoch 7/10\n",
      "141/141 [==============================] - 25s 179ms/step - loss: 0.8863 - accuracy: 0.7293 - val_loss: 0.6871 - val_accuracy: 0.7928\n",
      "Epoch 8/10\n",
      "141/141 [==============================] - 25s 179ms/step - loss: 0.8669 - accuracy: 0.7390 - val_loss: 0.6696 - val_accuracy: 0.7988\n",
      "Epoch 9/10\n",
      "141/141 [==============================] - 25s 179ms/step - loss: 0.8508 - accuracy: 0.7411 - val_loss: 0.6589 - val_accuracy: 0.8018\n",
      "Epoch 10/10\n",
      "141/141 [==============================] - 25s 179ms/step - loss: 0.8407 - accuracy: 0.7383 - val_loss: 0.6464 - val_accuracy: 0.8048\n",
      "Number of layers in base Model:  780\n",
      "14\n",
      "Epoch 10/20\n",
      "141/141 [==============================] - 37s 205ms/step - loss: 0.8169 - accuracy: 0.7429 - val_loss: 0.6060 - val_accuracy: 0.8128\n",
      "Epoch 11/20\n",
      "141/141 [==============================] - 26s 183ms/step - loss: 0.7725 - accuracy: 0.7602 - val_loss: 0.5854 - val_accuracy: 0.8158\n",
      "Epoch 12/20\n",
      "141/141 [==============================] - 25s 179ms/step - loss: 0.7593 - accuracy: 0.7549 - val_loss: 0.5717 - val_accuracy: 0.8218\n",
      "Epoch 13/20\n",
      "141/141 [==============================] - 25s 175ms/step - loss: 0.7254 - accuracy: 0.7650 - val_loss: 0.5611 - val_accuracy: 0.8258\n",
      "Epoch 14/20\n",
      "141/141 [==============================] - 26s 188ms/step - loss: 0.7148 - accuracy: 0.7677 - val_loss: 0.5547 - val_accuracy: 0.8288\n",
      "Epoch 15/20\n",
      "141/141 [==============================] - 28s 200ms/step - loss: 0.6970 - accuracy: 0.7719 - val_loss: 0.5452 - val_accuracy: 0.8348\n",
      "Epoch 16/20\n",
      "141/141 [==============================] - 27s 193ms/step - loss: 0.6776 - accuracy: 0.7740 - val_loss: 0.5391 - val_accuracy: 0.8308\n",
      "Epoch 17/20\n",
      "141/141 [==============================] - 27s 192ms/step - loss: 0.6680 - accuracy: 0.7786 - val_loss: 0.5313 - val_accuracy: 0.8338\n",
      "Epoch 18/20\n",
      "141/141 [==============================] - 27s 192ms/step - loss: 0.6381 - accuracy: 0.7847 - val_loss: 0.5264 - val_accuracy: 0.8338\n",
      "Epoch 19/20\n",
      "141/141 [==============================] - 27s 193ms/step - loss: 0.6185 - accuracy: 0.7986 - val_loss: 0.5215 - val_accuracy: 0.8338\n",
      "Epoch 20/20\n",
      "141/141 [==============================] - 27s 192ms/step - loss: 0.6065 - accuracy: 0.7907 - val_loss: 0.5205 - val_accuracy: 0.8338\n",
      "INFO:tensorflow:Assets written to: models\\du1jdiy0\\atomic-sweep-5\\assets\n"
     ]
    },
    {
     "data": {
      "text/html": [
       "<br/>Waiting for W&B process to finish, PID 9292<br/>Program ended successfully."
      ],
      "text/plain": [
       "<IPython.core.display.HTML object>"
      ]
     },
     "metadata": {},
     "output_type": "display_data"
    },
    {
     "data": {
      "application/vnd.jupyter.widget-view+json": {
       "model_id": "",
       "version_major": 2,
       "version_minor": 0
      },
      "text/plain": [
       "VBox(children=(Label(value=' 0.44MB of 0.44MB uploaded (0.00MB deduped)\\r'), FloatProgress(value=1.0, max=1.0)…"
      ]
     },
     "metadata": {},
     "output_type": "display_data"
    },
    {
     "data": {
      "text/html": [
       "Find user logs for this run at: <code>C:\\Users\\Jaitesh\\Desktop\\Courses\\DL\\ConvolutionalNetwork\\wandb\\run-20210414_105455-f9mic7u3\\logs\\debug.log</code>"
      ],
      "text/plain": [
       "<IPython.core.display.HTML object>"
      ]
     },
     "metadata": {},
     "output_type": "display_data"
    },
    {
     "data": {
      "text/html": [
       "Find internal logs for this run at: <code>C:\\Users\\Jaitesh\\Desktop\\Courses\\DL\\ConvolutionalNetwork\\wandb\\run-20210414_105455-f9mic7u3\\logs\\debug-internal.log</code>"
      ],
      "text/plain": [
       "<IPython.core.display.HTML object>"
      ]
     },
     "metadata": {},
     "output_type": "display_data"
    },
    {
     "data": {
      "text/html": [
       "<h3>Run summary:</h3><br/><style>\n",
       "    table.wandb td:nth-child(1) { padding: 0 10px; text-align: right }\n",
       "    </style><table class=\"wandb\">\n",
       "<tr><td>epoch</td><td>19</td></tr><tr><td>loss</td><td>0.60523</td></tr><tr><td>accuracy</td><td>0.79267</td></tr><tr><td>val_loss</td><td>0.52049</td></tr><tr><td>val_accuracy</td><td>0.83383</td></tr><tr><td>_runtime</td><td>585</td></tr><tr><td>_timestamp</td><td>1618378480</td></tr><tr><td>_step</td><td>10</td></tr><tr><td>best_val_loss</td><td>0.52049</td></tr><tr><td>best_epoch</td><td>19</td></tr></table>"
      ],
      "text/plain": [
       "<IPython.core.display.HTML object>"
      ]
     },
     "metadata": {},
     "output_type": "display_data"
    },
    {
     "data": {
      "text/html": [
       "<h3>Run history:</h3><br/><style>\n",
       "    table.wandb td:nth-child(1) { padding: 0 10px; text-align: right }\n",
       "    </style><table class=\"wandb\">\n",
       "<tr><td>epoch</td><td>▁▂▂▃▄▅▅▆▇▇█</td></tr><tr><td>loss</td><td>█▇▆▅▄▄▃▃▂▁▁</td></tr><tr><td>accuracy</td><td>▁▃▃▄▅▅▅▆▇██</td></tr><tr><td>val_loss</td><td>█▆▅▄▄▃▃▂▁▁▁</td></tr><tr><td>val_accuracy</td><td>▁▂▄▅▆█▇████</td></tr><tr><td>_runtime</td><td>▁▂▂▃▄▄▅▆▇▇█</td></tr><tr><td>_timestamp</td><td>▁▂▂▃▄▄▅▆▇▇█</td></tr><tr><td>_step</td><td>▁▂▂▃▄▅▅▆▇▇█</td></tr></table><br/>"
      ],
      "text/plain": [
       "<IPython.core.display.HTML object>"
      ]
     },
     "metadata": {},
     "output_type": "display_data"
    },
    {
     "data": {
      "text/html": [
       "Synced 5 W&B file(s), 1 media file(s), 0 artifact file(s) and 1 other file(s)"
      ],
      "text/plain": [
       "<IPython.core.display.HTML object>"
      ]
     },
     "metadata": {},
     "output_type": "display_data"
    },
    {
     "data": {
      "text/html": [
       "\n",
       "                    <br/>Synced <strong style=\"color:#cdcd00\">atomic-sweep-5</strong>: <a href=\"https://wandb.ai/mooizz/conv_inaturalist/runs/f9mic7u3\" target=\"_blank\">https://wandb.ai/mooizz/conv_inaturalist/runs/f9mic7u3</a><br/>\n",
       "                "
      ],
      "text/plain": [
       "<IPython.core.display.HTML object>"
      ]
     },
     "metadata": {},
     "output_type": "display_data"
    },
    {
     "name": "stderr",
     "output_type": "stream",
     "text": [
      "wandb: Agent Starting Run: j9zu5oo9 with config:\n",
      "wandb: \tepochs: 10\n",
      "wandb: \tmodel_name: InceptionResNetV2\n",
      "wandb: \tstrategy: 3\n",
      "wandb: wandb version 0.10.26 is available!  To upgrade, please run:\n",
      "wandb:  $ pip install wandb --upgrade\n"
     ]
    },
    {
     "data": {
      "text/html": [
       "\n",
       "                Tracking run with wandb version 0.10.25<br/>\n",
       "                Syncing run <strong style=\"color:#cdcd00\">smooth-sweep-6</strong> to <a href=\"https://wandb.ai\" target=\"_blank\">Weights & Biases</a> <a href=\"https://docs.wandb.com/integrations/jupyter.html\" target=\"_blank\">(Documentation)</a>.<br/>\n",
       "                Project page: <a href=\"https://wandb.ai/mooizz/conv_inaturalist\" target=\"_blank\">https://wandb.ai/mooizz/conv_inaturalist</a><br/>\n",
       "                Sweep page: <a href=\"https://wandb.ai/mooizz/conv_inaturalist/sweeps/du1jdiy0\" target=\"_blank\">https://wandb.ai/mooizz/conv_inaturalist/sweeps/du1jdiy0</a><br/>\n",
       "Run page: <a href=\"https://wandb.ai/mooizz/conv_inaturalist/runs/j9zu5oo9\" target=\"_blank\">https://wandb.ai/mooizz/conv_inaturalist/runs/j9zu5oo9</a><br/>\n",
       "                Run data is saved locally in <code>C:\\Users\\Jaitesh\\Desktop\\Courses\\DL\\ConvolutionalNetwork\\wandb\\run-20210414_110701-j9zu5oo9</code><br/><br/>\n",
       "            "
      ],
      "text/plain": [
       "<IPython.core.display.HTML object>"
      ]
     },
     "metadata": {},
     "output_type": "display_data"
    },
    {
     "name": "stdout",
     "output_type": "stream",
     "text": [
      "Epoch 1/10\n",
      "141/141 [==============================] - 35s 198ms/step - loss: 2.2891 - accuracy: 0.1995 - val_loss: 1.4258 - val_accuracy: 0.6466\n",
      "Epoch 2/10\n",
      "141/141 [==============================] - 24s 172ms/step - loss: 1.4879 - accuracy: 0.5686 - val_loss: 1.0147 - val_accuracy: 0.7558\n",
      "Epoch 3/10\n",
      "141/141 [==============================] - 24s 171ms/step - loss: 1.1492 - accuracy: 0.6748 - val_loss: 0.8533 - val_accuracy: 0.7758\n",
      "Epoch 4/10\n",
      "141/141 [==============================] - 25s 176ms/step - loss: 1.0304 - accuracy: 0.6955 - val_loss: 0.7725 - val_accuracy: 0.7898\n",
      "Epoch 5/10\n",
      "141/141 [==============================] - 24s 172ms/step - loss: 0.9529 - accuracy: 0.7139 - val_loss: 0.7278 - val_accuracy: 0.7988\n",
      "Epoch 6/10\n",
      "141/141 [==============================] - 25s 176ms/step - loss: 0.9262 - accuracy: 0.7192 - val_loss: 0.6991 - val_accuracy: 0.7998\n",
      "Epoch 7/10\n",
      "141/141 [==============================] - 27s 190ms/step - loss: 0.8873 - accuracy: 0.7327 - val_loss: 0.6814 - val_accuracy: 0.7968\n",
      "Epoch 8/10\n",
      "141/141 [==============================] - 29s 207ms/step - loss: 0.8777 - accuracy: 0.7286 - val_loss: 0.6647 - val_accuracy: 0.7998\n",
      "Epoch 9/10\n",
      "141/141 [==============================] - 29s 206ms/step - loss: 0.8462 - accuracy: 0.7362 - val_loss: 0.6513 - val_accuracy: 0.8008\n",
      "Epoch 10/10\n",
      "141/141 [==============================] - 32s 228ms/step - loss: 0.8355 - accuracy: 0.7414 - val_loss: 0.6429 - val_accuracy: 0.8048\n",
      "Number of layers in base Model:  780\n",
      "34\n",
      "Epoch 10/20\n",
      "141/141 [==============================] - 47s 274ms/step - loss: 0.8062 - accuracy: 0.7439 - val_loss: 0.5648 - val_accuracy: 0.8218\n",
      "Epoch 11/20\n",
      "141/141 [==============================] - 32s 230ms/step - loss: 0.7291 - accuracy: 0.7542 - val_loss: 0.5403 - val_accuracy: 0.8298\n",
      "Epoch 12/20\n",
      "141/141 [==============================] - 35s 252ms/step - loss: 0.7000 - accuracy: 0.7688 - val_loss: 0.5275 - val_accuracy: 0.8348\n",
      "Epoch 13/20\n",
      "141/141 [==============================] - 36s 255ms/step - loss: 0.6677 - accuracy: 0.7711 - val_loss: 0.5173 - val_accuracy: 0.8378\n",
      "Epoch 14/20\n",
      "141/141 [==============================] - 30s 215ms/step - loss: 0.6487 - accuracy: 0.7894 - val_loss: 0.5102 - val_accuracy: 0.8428\n",
      "Epoch 15/20\n",
      "141/141 [==============================] - 29s 208ms/step - loss: 0.6274 - accuracy: 0.7878 - val_loss: 0.5048 - val_accuracy: 0.8448\n",
      "Epoch 16/20\n",
      "141/141 [==============================] - 31s 221ms/step - loss: 0.5954 - accuracy: 0.7948 - val_loss: 0.5028 - val_accuracy: 0.8398\n",
      "Epoch 17/20\n",
      "141/141 [==============================] - 30s 211ms/step - loss: 0.5719 - accuracy: 0.8025 - val_loss: 0.5016 - val_accuracy: 0.8458\n",
      "Epoch 18/20\n",
      "141/141 [==============================] - 29s 204ms/step - loss: 0.5647 - accuracy: 0.8067 - val_loss: 0.5035 - val_accuracy: 0.8428\n",
      "Epoch 19/20\n",
      "141/141 [==============================] - 29s 205ms/step - loss: 0.5358 - accuracy: 0.8191 - val_loss: 0.4970 - val_accuracy: 0.8438\n",
      "Epoch 20/20\n",
      "141/141 [==============================] - 35s 249ms/step - loss: 0.5298 - accuracy: 0.8210 - val_loss: 0.5005 - val_accuracy: 0.8478\n",
      "INFO:tensorflow:Assets written to: models\\du1jdiy0\\smooth-sweep-6\\assets\n"
     ]
    },
    {
     "data": {
      "text/html": [
       "<br/>Waiting for W&B process to finish, PID 39300<br/>Program ended successfully."
      ],
      "text/plain": [
       "<IPython.core.display.HTML object>"
      ]
     },
     "metadata": {},
     "output_type": "display_data"
    },
    {
     "data": {
      "application/vnd.jupyter.widget-view+json": {
       "model_id": "",
       "version_major": 2,
       "version_minor": 0
      },
      "text/plain": [
       "VBox(children=(Label(value=' 0.44MB of 0.44MB uploaded (0.00MB deduped)\\r'), FloatProgress(value=1.0, max=1.0)…"
      ]
     },
     "metadata": {},
     "output_type": "display_data"
    },
    {
     "data": {
      "text/html": [
       "Find user logs for this run at: <code>C:\\Users\\Jaitesh\\Desktop\\Courses\\DL\\ConvolutionalNetwork\\wandb\\run-20210414_110701-j9zu5oo9\\logs\\debug.log</code>"
      ],
      "text/plain": [
       "<IPython.core.display.HTML object>"
      ]
     },
     "metadata": {},
     "output_type": "display_data"
    },
    {
     "data": {
      "text/html": [
       "Find internal logs for this run at: <code>C:\\Users\\Jaitesh\\Desktop\\Courses\\DL\\ConvolutionalNetwork\\wandb\\run-20210414_110701-j9zu5oo9\\logs\\debug-internal.log</code>"
      ],
      "text/plain": [
       "<IPython.core.display.HTML object>"
      ]
     },
     "metadata": {},
     "output_type": "display_data"
    },
    {
     "data": {
      "text/html": [
       "<h3>Run summary:</h3><br/><style>\n",
       "    table.wandb td:nth-child(1) { padding: 0 10px; text-align: right }\n",
       "    </style><table class=\"wandb\">\n",
       "<tr><td>epoch</td><td>19</td></tr><tr><td>loss</td><td>0.51657</td></tr><tr><td>accuracy</td><td>0.82389</td></tr><tr><td>val_loss</td><td>0.5005</td></tr><tr><td>val_accuracy</td><td>0.84785</td></tr><tr><td>_runtime</td><td>652</td></tr><tr><td>_timestamp</td><td>1618379273</td></tr><tr><td>_step</td><td>10</td></tr><tr><td>best_val_loss</td><td>0.49701</td></tr><tr><td>best_epoch</td><td>18</td></tr></table>"
      ],
      "text/plain": [
       "<IPython.core.display.HTML object>"
      ]
     },
     "metadata": {},
     "output_type": "display_data"
    },
    {
     "data": {
      "text/html": [
       "<h3>Run history:</h3><br/><style>\n",
       "    table.wandb td:nth-child(1) { padding: 0 10px; text-align: right }\n",
       "    </style><table class=\"wandb\">\n",
       "<tr><td>epoch</td><td>▁▂▂▃▄▅▅▆▇▇█</td></tr><tr><td>loss</td><td>█▆▅▅▄▄▃▂▂▁▁</td></tr><tr><td>accuracy</td><td>▁▂▃▄▅▅▆▇▇██</td></tr><tr><td>val_loss</td><td>█▅▄▃▂▂▂▁▂▁▁</td></tr><tr><td>val_accuracy</td><td>▁▃▅▅▇▇▆▇▇▇█</td></tr><tr><td>_runtime</td><td>▁▂▃▃▄▅▅▆▇▇█</td></tr><tr><td>_timestamp</td><td>▁▂▃▃▄▅▅▆▇▇█</td></tr><tr><td>_step</td><td>▁▂▂▃▄▅▅▆▇▇█</td></tr></table><br/>"
      ],
      "text/plain": [
       "<IPython.core.display.HTML object>"
      ]
     },
     "metadata": {},
     "output_type": "display_data"
    },
    {
     "data": {
      "text/html": [
       "Synced 5 W&B file(s), 1 media file(s), 0 artifact file(s) and 1 other file(s)"
      ],
      "text/plain": [
       "<IPython.core.display.HTML object>"
      ]
     },
     "metadata": {},
     "output_type": "display_data"
    },
    {
     "data": {
      "text/html": [
       "\n",
       "                    <br/>Synced <strong style=\"color:#cdcd00\">smooth-sweep-6</strong>: <a href=\"https://wandb.ai/mooizz/conv_inaturalist/runs/j9zu5oo9\" target=\"_blank\">https://wandb.ai/mooizz/conv_inaturalist/runs/j9zu5oo9</a><br/>\n",
       "                "
      ],
      "text/plain": [
       "<IPython.core.display.HTML object>"
      ]
     },
     "metadata": {},
     "output_type": "display_data"
    },
    {
     "name": "stderr",
     "output_type": "stream",
     "text": [
      "wandb: Agent Starting Run: wuzao5bx with config:\n",
      "wandb: \tepochs: 10\n",
      "wandb: \tmodel_name: ResNet50\n",
      "wandb: \tstrategy: 1\n",
      "wandb: wandb version 0.10.26 is available!  To upgrade, please run:\n",
      "wandb:  $ pip install wandb --upgrade\n"
     ]
    },
    {
     "data": {
      "text/html": [
       "\n",
       "                Tracking run with wandb version 0.10.25<br/>\n",
       "                Syncing run <strong style=\"color:#cdcd00\">prime-sweep-7</strong> to <a href=\"https://wandb.ai\" target=\"_blank\">Weights & Biases</a> <a href=\"https://docs.wandb.com/integrations/jupyter.html\" target=\"_blank\">(Documentation)</a>.<br/>\n",
       "                Project page: <a href=\"https://wandb.ai/mooizz/conv_inaturalist\" target=\"_blank\">https://wandb.ai/mooizz/conv_inaturalist</a><br/>\n",
       "                Sweep page: <a href=\"https://wandb.ai/mooizz/conv_inaturalist/sweeps/du1jdiy0\" target=\"_blank\">https://wandb.ai/mooizz/conv_inaturalist/sweeps/du1jdiy0</a><br/>\n",
       "Run page: <a href=\"https://wandb.ai/mooizz/conv_inaturalist/runs/wuzao5bx\" target=\"_blank\">https://wandb.ai/mooizz/conv_inaturalist/runs/wuzao5bx</a><br/>\n",
       "                Run data is saved locally in <code>C:\\Users\\Jaitesh\\Desktop\\Courses\\DL\\ConvolutionalNetwork\\wandb\\run-20210414_112011-wuzao5bx</code><br/><br/>\n",
       "            "
      ],
      "text/plain": [
       "<IPython.core.display.HTML object>"
      ]
     },
     "metadata": {},
     "output_type": "display_data"
    },
    {
     "name": "stdout",
     "output_type": "stream",
     "text": [
      "Epoch 1/10\n",
      "141/141 [==============================] - 26s 152ms/step - loss: 2.4094 - accuracy: 0.1800 - val_loss: 1.4719 - val_accuracy: 0.5175\n",
      "Epoch 2/10\n",
      "141/141 [==============================] - 15s 106ms/step - loss: 1.6415 - accuracy: 0.4423 - val_loss: 1.1235 - val_accuracy: 0.6527\n",
      "Epoch 3/10\n",
      "141/141 [==============================] - 14s 102ms/step - loss: 1.3442 - accuracy: 0.5545 - val_loss: 0.9738 - val_accuracy: 0.6947\n",
      "Epoch 4/10\n",
      "141/141 [==============================] - 15s 105ms/step - loss: 1.2191 - accuracy: 0.5887 - val_loss: 0.8892 - val_accuracy: 0.7197\n",
      "Epoch 5/10\n",
      "141/141 [==============================] - 17s 118ms/step - loss: 1.1110 - accuracy: 0.6318 - val_loss: 0.8362 - val_accuracy: 0.7307\n",
      "Epoch 6/10\n",
      "141/141 [==============================] - 16s 117ms/step - loss: 1.0647 - accuracy: 0.6415 - val_loss: 0.8024 - val_accuracy: 0.7387\n",
      "Epoch 7/10\n",
      "141/141 [==============================] - 17s 120ms/step - loss: 1.0234 - accuracy: 0.6609 - val_loss: 0.7750 - val_accuracy: 0.7397\n",
      "Epoch 8/10\n",
      "141/141 [==============================] - 16s 112ms/step - loss: 0.9712 - accuracy: 0.6635 - val_loss: 0.7555 - val_accuracy: 0.7477\n",
      "Epoch 9/10\n",
      "141/141 [==============================] - 17s 123ms/step - loss: 0.9572 - accuracy: 0.6790 - val_loss: 0.7411 - val_accuracy: 0.7538\n",
      "Epoch 10/10\n",
      "141/141 [==============================] - 19s 132ms/step - loss: 0.9191 - accuracy: 0.6886 - val_loss: 0.7290 - val_accuracy: 0.7568\n",
      "Number of layers in base Model:  175\n",
      "2\n",
      "Epoch 10/20\n",
      "141/141 [==============================] - 19s 117ms/step - loss: 0.8990 - accuracy: 0.7017 - val_loss: 0.7283 - val_accuracy: 0.7578\n",
      "Epoch 11/20\n",
      "141/141 [==============================] - 18s 128ms/step - loss: 0.9076 - accuracy: 0.6897 - val_loss: 0.7269 - val_accuracy: 0.7558\n",
      "Epoch 12/20\n",
      "141/141 [==============================] - 15s 107ms/step - loss: 0.9006 - accuracy: 0.6930 - val_loss: 0.7260 - val_accuracy: 0.7578\n",
      "Epoch 13/20\n",
      "141/141 [==============================] - 14s 102ms/step - loss: 0.9078 - accuracy: 0.6950 - val_loss: 0.7244 - val_accuracy: 0.7568\n",
      "Epoch 14/20\n",
      "141/141 [==============================] - 15s 108ms/step - loss: 0.8962 - accuracy: 0.7021 - val_loss: 0.7231 - val_accuracy: 0.7578\n",
      "Epoch 15/20\n",
      "141/141 [==============================] - 15s 110ms/step - loss: 0.8842 - accuracy: 0.7060 - val_loss: 0.7226 - val_accuracy: 0.7598\n",
      "Epoch 16/20\n",
      "141/141 [==============================] - 16s 110ms/step - loss: 0.8937 - accuracy: 0.7012 - val_loss: 0.7212 - val_accuracy: 0.7578\n",
      "Epoch 17/20\n",
      "141/141 [==============================] - 15s 104ms/step - loss: 0.8888 - accuracy: 0.7039 - val_loss: 0.7195 - val_accuracy: 0.7588\n",
      "Epoch 18/20\n",
      "141/141 [==============================] - 15s 106ms/step - loss: 0.8925 - accuracy: 0.6966 - val_loss: 0.7181 - val_accuracy: 0.7598\n",
      "Epoch 19/20\n",
      "141/141 [==============================] - 14s 100ms/step - loss: 0.8882 - accuracy: 0.7005 - val_loss: 0.7171 - val_accuracy: 0.7598\n",
      "Epoch 20/20\n",
      "141/141 [==============================] - 14s 99ms/step - loss: 0.8794 - accuracy: 0.7032 - val_loss: 0.7165 - val_accuracy: 0.7598\n",
      "INFO:tensorflow:Assets written to: models\\du1jdiy0\\prime-sweep-7\\assets\n"
     ]
    },
    {
     "data": {
      "text/html": [
       "<br/>Waiting for W&B process to finish, PID 11856<br/>Program ended successfully."
      ],
      "text/plain": [
       "<IPython.core.display.HTML object>"
      ]
     },
     "metadata": {},
     "output_type": "display_data"
    },
    {
     "data": {
      "application/vnd.jupyter.widget-view+json": {
       "model_id": "",
       "version_major": 2,
       "version_minor": 0
      },
      "text/plain": [
       "VBox(children=(Label(value=' 90.53MB of 90.53MB uploaded (0.00MB deduped)\\r'), FloatProgress(value=1.0, max=1.…"
      ]
     },
     "metadata": {},
     "output_type": "display_data"
    },
    {
     "data": {
      "text/html": [
       "Find user logs for this run at: <code>C:\\Users\\Jaitesh\\Desktop\\Courses\\DL\\ConvolutionalNetwork\\wandb\\run-20210414_112011-wuzao5bx\\logs\\debug.log</code>"
      ],
      "text/plain": [
       "<IPython.core.display.HTML object>"
      ]
     },
     "metadata": {},
     "output_type": "display_data"
    },
    {
     "data": {
      "text/html": [
       "Find internal logs for this run at: <code>C:\\Users\\Jaitesh\\Desktop\\Courses\\DL\\ConvolutionalNetwork\\wandb\\run-20210414_112011-wuzao5bx\\logs\\debug-internal.log</code>"
      ],
      "text/plain": [
       "<IPython.core.display.HTML object>"
      ]
     },
     "metadata": {},
     "output_type": "display_data"
    },
    {
     "data": {
      "text/html": [
       "<h3>Run summary:</h3><br/><style>\n",
       "    table.wandb td:nth-child(1) { padding: 0 10px; text-align: right }\n",
       "    </style><table class=\"wandb\">\n",
       "<tr><td>epoch</td><td>19</td></tr><tr><td>loss</td><td>0.87231</td></tr><tr><td>accuracy</td><td>0.707</td></tr><tr><td>val_loss</td><td>0.71654</td></tr><tr><td>val_accuracy</td><td>0.75976</td></tr><tr><td>_runtime</td><td>349</td></tr><tr><td>_timestamp</td><td>1618379760</td></tr><tr><td>_step</td><td>10</td></tr><tr><td>best_val_loss</td><td>0.71654</td></tr><tr><td>best_epoch</td><td>19</td></tr></table>"
      ],
      "text/plain": [
       "<IPython.core.display.HTML object>"
      ]
     },
     "metadata": {},
     "output_type": "display_data"
    },
    {
     "data": {
      "text/html": [
       "<h3>Run history:</h3><br/><style>\n",
       "    table.wandb td:nth-child(1) { padding: 0 10px; text-align: right }\n",
       "    </style><table class=\"wandb\">\n",
       "<tr><td>epoch</td><td>▁▂▂▃▄▅▅▆▇▇█</td></tr><tr><td>loss</td><td>██▇▆▅▃▆▄▄▃▁</td></tr><tr><td>accuracy</td><td>▃▁▃▅▅█▂▆▄▃█</td></tr><tr><td>val_loss</td><td>█▇▇▆▅▅▄▃▂▁▁</td></tr><tr><td>val_accuracy</td><td>▅▁▅▃▅█▅▆███</td></tr><tr><td>_runtime</td><td>▁▂▃▃▄▅▅▆▇▇█</td></tr><tr><td>_timestamp</td><td>▁▂▃▃▄▅▅▆▇▇█</td></tr><tr><td>_step</td><td>▁▂▂▃▄▅▅▆▇▇█</td></tr></table><br/>"
      ],
      "text/plain": [
       "<IPython.core.display.HTML object>"
      ]
     },
     "metadata": {},
     "output_type": "display_data"
    },
    {
     "data": {
      "text/html": [
       "Synced 5 W&B file(s), 1 media file(s), 0 artifact file(s) and 1 other file(s)"
      ],
      "text/plain": [
       "<IPython.core.display.HTML object>"
      ]
     },
     "metadata": {},
     "output_type": "display_data"
    },
    {
     "data": {
      "text/html": [
       "\n",
       "                    <br/>Synced <strong style=\"color:#cdcd00\">prime-sweep-7</strong>: <a href=\"https://wandb.ai/mooizz/conv_inaturalist/runs/wuzao5bx\" target=\"_blank\">https://wandb.ai/mooizz/conv_inaturalist/runs/wuzao5bx</a><br/>\n",
       "                "
      ],
      "text/plain": [
       "<IPython.core.display.HTML object>"
      ]
     },
     "metadata": {},
     "output_type": "display_data"
    },
    {
     "name": "stderr",
     "output_type": "stream",
     "text": [
      "wandb: Agent Starting Run: vxc31bky with config:\n",
      "wandb: \tepochs: 10\n",
      "wandb: \tmodel_name: ResNet50\n",
      "wandb: \tstrategy: 2\n",
      "wandb: wandb version 0.10.26 is available!  To upgrade, please run:\n",
      "wandb:  $ pip install wandb --upgrade\n"
     ]
    },
    {
     "data": {
      "text/html": [
       "\n",
       "                Tracking run with wandb version 0.10.25<br/>\n",
       "                Syncing run <strong style=\"color:#cdcd00\">rose-sweep-8</strong> to <a href=\"https://wandb.ai\" target=\"_blank\">Weights & Biases</a> <a href=\"https://docs.wandb.com/integrations/jupyter.html\" target=\"_blank\">(Documentation)</a>.<br/>\n",
       "                Project page: <a href=\"https://wandb.ai/mooizz/conv_inaturalist\" target=\"_blank\">https://wandb.ai/mooizz/conv_inaturalist</a><br/>\n",
       "                Sweep page: <a href=\"https://wandb.ai/mooizz/conv_inaturalist/sweeps/du1jdiy0\" target=\"_blank\">https://wandb.ai/mooizz/conv_inaturalist/sweeps/du1jdiy0</a><br/>\n",
       "Run page: <a href=\"https://wandb.ai/mooizz/conv_inaturalist/runs/vxc31bky\" target=\"_blank\">https://wandb.ai/mooizz/conv_inaturalist/runs/vxc31bky</a><br/>\n",
       "                Run data is saved locally in <code>C:\\Users\\Jaitesh\\Desktop\\Courses\\DL\\ConvolutionalNetwork\\wandb\\run-20210414_112643-vxc31bky</code><br/><br/>\n",
       "            "
      ],
      "text/plain": [
       "<IPython.core.display.HTML object>"
      ]
     },
     "metadata": {},
     "output_type": "display_data"
    },
    {
     "name": "stdout",
     "output_type": "stream",
     "text": [
      "Epoch 1/10\n",
      "141/141 [==============================] - 17s 104ms/step - loss: 2.6072 - accuracy: 0.1462 - val_loss: 1.6590 - val_accuracy: 0.4324\n",
      "Epoch 2/10\n",
      "141/141 [==============================] - 14s 98ms/step - loss: 1.7411 - accuracy: 0.3963 - val_loss: 1.2303 - val_accuracy: 0.6046\n",
      "Epoch 3/10\n",
      "141/141 [==============================] - 14s 101ms/step - loss: 1.4016 - accuracy: 0.5378 - val_loss: 1.0475 - val_accuracy: 0.6527\n",
      "Epoch 4/10\n",
      "141/141 [==============================] - 17s 120ms/step - loss: 1.2409 - accuracy: 0.5900 - val_loss: 0.9497 - val_accuracy: 0.6817\n",
      "Epoch 5/10\n",
      "141/141 [==============================] - 16s 115ms/step - loss: 1.1389 - accuracy: 0.6290 - val_loss: 0.8879 - val_accuracy: 0.6927\n",
      "Epoch 6/10\n",
      "141/141 [==============================] - 14s 101ms/step - loss: 1.0869 - accuracy: 0.6404 - val_loss: 0.8453 - val_accuracy: 0.7057\n",
      "Epoch 7/10\n",
      "141/141 [==============================] - 16s 116ms/step - loss: 1.0444 - accuracy: 0.6535 - val_loss: 0.8162 - val_accuracy: 0.7127\n",
      "Epoch 8/10\n",
      "141/141 [==============================] - 15s 105ms/step - loss: 0.9967 - accuracy: 0.6682 - val_loss: 0.7917 - val_accuracy: 0.7187\n",
      "Epoch 9/10\n",
      "141/141 [==============================] - 14s 102ms/step - loss: 0.9736 - accuracy: 0.6745 - val_loss: 0.7726 - val_accuracy: 0.7367\n",
      "Epoch 10/10\n",
      "141/141 [==============================] - 14s 100ms/step - loss: 0.9508 - accuracy: 0.6830 - val_loss: 0.7605 - val_accuracy: 0.7367\n",
      "Number of layers in base Model:  175\n",
      "26\n",
      "Epoch 10/20\n",
      "141/141 [==============================] - 25s 141ms/step - loss: 0.8933 - accuracy: 0.6965 - val_loss: 0.7111 - val_accuracy: 0.7427\n",
      "Epoch 11/20\n",
      "141/141 [==============================] - 17s 120ms/step - loss: 0.7891 - accuracy: 0.7417 - val_loss: 0.6933 - val_accuracy: 0.7588\n",
      "Epoch 12/20\n",
      "141/141 [==============================] - 16s 115ms/step - loss: 0.7473 - accuracy: 0.7500 - val_loss: 0.6650 - val_accuracy: 0.7638\n",
      "Epoch 13/20\n",
      "141/141 [==============================] - 16s 115ms/step - loss: 0.6973 - accuracy: 0.7645 - val_loss: 0.6561 - val_accuracy: 0.7768\n",
      "Epoch 14/20\n",
      "141/141 [==============================] - 16s 116ms/step - loss: 0.6544 - accuracy: 0.7706 - val_loss: 0.6536 - val_accuracy: 0.7818\n",
      "Epoch 15/20\n",
      "141/141 [==============================] - 20s 143ms/step - loss: 0.6228 - accuracy: 0.7908 - val_loss: 0.6630 - val_accuracy: 0.7888\n",
      "Epoch 16/20\n",
      "141/141 [==============================] - 19s 136ms/step - loss: 0.5746 - accuracy: 0.8051 - val_loss: 0.6604 - val_accuracy: 0.7888\n",
      "Epoch 17/20\n",
      "141/141 [==============================] - 19s 133ms/step - loss: 0.5476 - accuracy: 0.8154 - val_loss: 0.6456 - val_accuracy: 0.7968\n",
      "Epoch 18/20\n",
      "141/141 [==============================] - 20s 139ms/step - loss: 0.5167 - accuracy: 0.8212 - val_loss: 0.6750 - val_accuracy: 0.7828\n",
      "Epoch 19/20\n",
      "141/141 [==============================] - 22s 154ms/step - loss: 0.4790 - accuracy: 0.8286 - val_loss: 0.6740 - val_accuracy: 0.7898\n",
      "Epoch 20/20\n",
      "141/141 [==============================] - 21s 146ms/step - loss: 0.4538 - accuracy: 0.8424 - val_loss: 0.6735 - val_accuracy: 0.7958\n",
      "INFO:tensorflow:Assets written to: models\\du1jdiy0\\rose-sweep-8\\assets\n"
     ]
    },
    {
     "data": {
      "text/html": [
       "<br/>Waiting for W&B process to finish, PID 29604<br/>Program ended successfully."
      ],
      "text/plain": [
       "<IPython.core.display.HTML object>"
      ]
     },
     "metadata": {},
     "output_type": "display_data"
    },
    {
     "data": {
      "application/vnd.jupyter.widget-view+json": {
       "model_id": "",
       "version_major": 2,
       "version_minor": 0
      },
      "text/plain": [
       "VBox(children=(Label(value=' 158.72MB of 158.72MB uploaded (0.00MB deduped)\\r'), FloatProgress(value=1.0, max=…"
      ]
     },
     "metadata": {},
     "output_type": "display_data"
    },
    {
     "data": {
      "text/html": [
       "Find user logs for this run at: <code>C:\\Users\\Jaitesh\\Desktop\\Courses\\DL\\ConvolutionalNetwork\\wandb\\run-20210414_112643-vxc31bky\\logs\\debug.log</code>"
      ],
      "text/plain": [
       "<IPython.core.display.HTML object>"
      ]
     },
     "metadata": {},
     "output_type": "display_data"
    },
    {
     "data": {
      "text/html": [
       "Find internal logs for this run at: <code>C:\\Users\\Jaitesh\\Desktop\\Courses\\DL\\ConvolutionalNetwork\\wandb\\run-20210414_112643-vxc31bky\\logs\\debug-internal.log</code>"
      ],
      "text/plain": [
       "<IPython.core.display.HTML object>"
      ]
     },
     "metadata": {},
     "output_type": "display_data"
    },
    {
     "data": {
      "text/html": [
       "<h3>Run summary:</h3><br/><style>\n",
       "    table.wandb td:nth-child(1) { padding: 0 10px; text-align: right }\n",
       "    </style><table class=\"wandb\">\n",
       "<tr><td>epoch</td><td>19</td></tr><tr><td>loss</td><td>0.44753</td></tr><tr><td>accuracy</td><td>0.84556</td></tr><tr><td>val_loss</td><td>0.67348</td></tr><tr><td>val_accuracy</td><td>0.7958</td></tr><tr><td>_runtime</td><td>367</td></tr><tr><td>_timestamp</td><td>1618380170</td></tr><tr><td>_step</td><td>10</td></tr><tr><td>best_val_loss</td><td>0.64562</td></tr><tr><td>best_epoch</td><td>16</td></tr></table>"
      ],
      "text/plain": [
       "<IPython.core.display.HTML object>"
      ]
     },
     "metadata": {},
     "output_type": "display_data"
    },
    {
     "data": {
      "text/html": [
       "<h3>Run history:</h3><br/><style>\n",
       "    table.wandb td:nth-child(1) { padding: 0 10px; text-align: right }\n",
       "    </style><table class=\"wandb\">\n",
       "<tr><td>epoch</td><td>▁▂▂▃▄▅▅▆▇▇█</td></tr><tr><td>loss</td><td>█▇▆▅▄▄▃▃▂▁▁</td></tr><tr><td>accuracy</td><td>▁▃▃▄▅▅▆▇▇▇█</td></tr><tr><td>val_loss</td><td>█▆▃▂▂▃▃▁▄▄▄</td></tr><tr><td>val_accuracy</td><td>▁▃▄▅▆▇▇█▆▇█</td></tr><tr><td>_runtime</td><td>▁▂▂▃▄▄▅▆▆▇█</td></tr><tr><td>_timestamp</td><td>▁▂▂▃▄▄▅▆▆▇█</td></tr><tr><td>_step</td><td>▁▂▂▃▄▅▅▆▇▇█</td></tr></table><br/>"
      ],
      "text/plain": [
       "<IPython.core.display.HTML object>"
      ]
     },
     "metadata": {},
     "output_type": "display_data"
    },
    {
     "data": {
      "text/html": [
       "Synced 5 W&B file(s), 1 media file(s), 0 artifact file(s) and 1 other file(s)"
      ],
      "text/plain": [
       "<IPython.core.display.HTML object>"
      ]
     },
     "metadata": {},
     "output_type": "display_data"
    },
    {
     "data": {
      "text/html": [
       "\n",
       "                    <br/>Synced <strong style=\"color:#cdcd00\">rose-sweep-8</strong>: <a href=\"https://wandb.ai/mooizz/conv_inaturalist/runs/vxc31bky\" target=\"_blank\">https://wandb.ai/mooizz/conv_inaturalist/runs/vxc31bky</a><br/>\n",
       "                "
      ],
      "text/plain": [
       "<IPython.core.display.HTML object>"
      ]
     },
     "metadata": {},
     "output_type": "display_data"
    },
    {
     "name": "stderr",
     "output_type": "stream",
     "text": [
      "wandb: Agent Starting Run: 8wtzdu1n with config:\n",
      "wandb: \tepochs: 10\n",
      "wandb: \tmodel_name: ResNet50\n",
      "wandb: \tstrategy: 3\n",
      "wandb: wandb version 0.10.26 is available!  To upgrade, please run:\n",
      "wandb:  $ pip install wandb --upgrade\n"
     ]
    },
    {
     "data": {
      "text/html": [
       "\n",
       "                Tracking run with wandb version 0.10.25<br/>\n",
       "                Syncing run <strong style=\"color:#cdcd00\">comfy-sweep-9</strong> to <a href=\"https://wandb.ai\" target=\"_blank\">Weights & Biases</a> <a href=\"https://docs.wandb.com/integrations/jupyter.html\" target=\"_blank\">(Documentation)</a>.<br/>\n",
       "                Project page: <a href=\"https://wandb.ai/mooizz/conv_inaturalist\" target=\"_blank\">https://wandb.ai/mooizz/conv_inaturalist</a><br/>\n",
       "                Sweep page: <a href=\"https://wandb.ai/mooizz/conv_inaturalist/sweeps/du1jdiy0\" target=\"_blank\">https://wandb.ai/mooizz/conv_inaturalist/sweeps/du1jdiy0</a><br/>\n",
       "Run page: <a href=\"https://wandb.ai/mooizz/conv_inaturalist/runs/8wtzdu1n\" target=\"_blank\">https://wandb.ai/mooizz/conv_inaturalist/runs/8wtzdu1n</a><br/>\n",
       "                Run data is saved locally in <code>C:\\Users\\Jaitesh\\Desktop\\Courses\\DL\\ConvolutionalNetwork\\wandb\\run-20210414_113333-8wtzdu1n</code><br/><br/>\n",
       "            "
      ],
      "text/plain": [
       "<IPython.core.display.HTML object>"
      ]
     },
     "metadata": {},
     "output_type": "display_data"
    },
    {
     "name": "stdout",
     "output_type": "stream",
     "text": [
      "Epoch 1/10\n",
      "141/141 [==============================] - 20s 126ms/step - loss: 2.5198 - accuracy: 0.1623 - val_loss: 1.6406 - val_accuracy: 0.4464\n",
      "Epoch 2/10\n",
      "141/141 [==============================] - 14s 103ms/step - loss: 1.7137 - accuracy: 0.4179 - val_loss: 1.2290 - val_accuracy: 0.5916\n",
      "Epoch 3/10\n",
      "141/141 [==============================] - 14s 101ms/step - loss: 1.4005 - accuracy: 0.5307 - val_loss: 1.0387 - val_accuracy: 0.6547\n",
      "Epoch 4/10\n",
      "141/141 [==============================] - 18s 126ms/step - loss: 1.2510 - accuracy: 0.5837 - val_loss: 0.9370 - val_accuracy: 0.6887\n",
      "Epoch 5/10\n",
      "141/141 [==============================] - 19s 135ms/step - loss: 1.1637 - accuracy: 0.6100 - val_loss: 0.8741 - val_accuracy: 0.7057\n",
      "Epoch 6/10\n",
      "141/141 [==============================] - 14s 101ms/step - loss: 1.0735 - accuracy: 0.6371 - val_loss: 0.8284 - val_accuracy: 0.7127\n",
      "Epoch 7/10\n",
      "141/141 [==============================] - 15s 107ms/step - loss: 1.0315 - accuracy: 0.6589 - val_loss: 0.7987 - val_accuracy: 0.7287\n",
      "Epoch 8/10\n",
      "141/141 [==============================] - 15s 104ms/step - loss: 0.9947 - accuracy: 0.6696 - val_loss: 0.7730 - val_accuracy: 0.7367\n",
      "Epoch 9/10\n",
      "141/141 [==============================] - 14s 100ms/step - loss: 0.9612 - accuracy: 0.6778 - val_loss: 0.7535 - val_accuracy: 0.7377\n",
      "Epoch 10/10\n",
      "141/141 [==============================] - 14s 100ms/step - loss: 0.9343 - accuracy: 0.6917 - val_loss: 0.7401 - val_accuracy: 0.7367\n",
      "Number of layers in base Model:  175\n",
      "62\n",
      "Epoch 10/20\n",
      "141/141 [==============================] - 25s 144ms/step - loss: 0.8798 - accuracy: 0.7024 - val_loss: 0.6646 - val_accuracy: 0.7598\n",
      "Epoch 11/20\n",
      "141/141 [==============================] - 20s 139ms/step - loss: 0.7343 - accuracy: 0.7471 - val_loss: 0.6411 - val_accuracy: 0.7808\n",
      "Epoch 12/20\n",
      "141/141 [==============================] - 19s 135ms/step - loss: 0.6516 - accuracy: 0.7777 - val_loss: 0.6307 - val_accuracy: 0.7788\n",
      "Epoch 13/20\n",
      "141/141 [==============================] - 20s 144ms/step - loss: 0.5935 - accuracy: 0.7999 - val_loss: 0.6395 - val_accuracy: 0.7868\n",
      "Epoch 14/20\n",
      "141/141 [==============================] - 21s 148ms/step - loss: 0.5431 - accuracy: 0.8117 - val_loss: 0.6322 - val_accuracy: 0.7978\n",
      "Epoch 15/20\n",
      "141/141 [==============================] - 24s 167ms/step - loss: 0.4908 - accuracy: 0.8286 - val_loss: 0.6174 - val_accuracy: 0.8058\n",
      "Epoch 16/20\n",
      "141/141 [==============================] - 23s 160ms/step - loss: 0.4651 - accuracy: 0.8374 - val_loss: 0.6473 - val_accuracy: 0.8038\n",
      "Epoch 17/20\n",
      "141/141 [==============================] - 22s 157ms/step - loss: 0.4168 - accuracy: 0.8552 - val_loss: 0.6477 - val_accuracy: 0.8138\n",
      "Epoch 18/20\n",
      "141/141 [==============================] - 20s 145ms/step - loss: 0.3690 - accuracy: 0.8709 - val_loss: 0.6478 - val_accuracy: 0.8108\n",
      "Epoch 19/20\n",
      "141/141 [==============================] - 23s 166ms/step - loss: 0.3403 - accuracy: 0.8828 - val_loss: 0.6646 - val_accuracy: 0.8078\n",
      "Epoch 20/20\n",
      "141/141 [==============================] - 25s 175ms/step - loss: 0.3258 - accuracy: 0.8897 - val_loss: 0.6863 - val_accuracy: 0.8088\n",
      "INFO:tensorflow:Assets written to: models\\du1jdiy0\\comfy-sweep-9\\assets\n"
     ]
    },
    {
     "data": {
      "text/html": [
       "<br/>Waiting for W&B process to finish, PID 38948<br/>Program ended successfully."
      ],
      "text/plain": [
       "<IPython.core.display.HTML object>"
      ]
     },
     "metadata": {},
     "output_type": "display_data"
    },
    {
     "data": {
      "application/vnd.jupyter.widget-view+json": {
       "model_id": "",
       "version_major": 2,
       "version_minor": 0
      },
      "text/plain": [
       "VBox(children=(Label(value=' 219.98MB of 219.98MB uploaded (0.00MB deduped)\\r'), FloatProgress(value=1.0, max=…"
      ]
     },
     "metadata": {},
     "output_type": "display_data"
    },
    {
     "data": {
      "text/html": [
       "Find user logs for this run at: <code>C:\\Users\\Jaitesh\\Desktop\\Courses\\DL\\ConvolutionalNetwork\\wandb\\run-20210414_113333-8wtzdu1n\\logs\\debug.log</code>"
      ],
      "text/plain": [
       "<IPython.core.display.HTML object>"
      ]
     },
     "metadata": {},
     "output_type": "display_data"
    },
    {
     "data": {
      "text/html": [
       "Find internal logs for this run at: <code>C:\\Users\\Jaitesh\\Desktop\\Courses\\DL\\ConvolutionalNetwork\\wandb\\run-20210414_113333-8wtzdu1n\\logs\\debug-internal.log</code>"
      ],
      "text/plain": [
       "<IPython.core.display.HTML object>"
      ]
     },
     "metadata": {},
     "output_type": "display_data"
    },
    {
     "data": {
      "text/html": [
       "<h3>Run summary:</h3><br/><style>\n",
       "    table.wandb td:nth-child(1) { padding: 0 10px; text-align: right }\n",
       "    </style><table class=\"wandb\">\n",
       "<tr><td>epoch</td><td>19</td></tr><tr><td>loss</td><td>0.31681</td></tr><tr><td>accuracy</td><td>0.891</td></tr><tr><td>val_loss</td><td>0.68627</td></tr><tr><td>val_accuracy</td><td>0.80881</td></tr><tr><td>_runtime</td><td>405</td></tr><tr><td>_timestamp</td><td>1618380618</td></tr><tr><td>_step</td><td>10</td></tr><tr><td>best_val_loss</td><td>0.61743</td></tr><tr><td>best_epoch</td><td>14</td></tr></table>"
      ],
      "text/plain": [
       "<IPython.core.display.HTML object>"
      ]
     },
     "metadata": {},
     "output_type": "display_data"
    },
    {
     "data": {
      "text/html": [
       "<h3>Run history:</h3><br/><style>\n",
       "    table.wandb td:nth-child(1) { padding: 0 10px; text-align: right }\n",
       "    </style><table class=\"wandb\">\n",
       "<tr><td>epoch</td><td>▁▂▂▃▄▅▅▆▇▇█</td></tr><tr><td>loss</td><td>█▆▅▅▄▃▃▂▂▁▁</td></tr><tr><td>accuracy</td><td>▁▃▄▄▅▆▆▇▇██</td></tr><tr><td>val_loss</td><td>▆▃▂▃▃▁▄▄▄▆█</td></tr><tr><td>val_accuracy</td><td>▁▄▃▅▆▇▇██▇▇</td></tr><tr><td>_runtime</td><td>▁▂▂▃▄▄▅▆▆▇█</td></tr><tr><td>_timestamp</td><td>▁▂▂▃▄▄▅▆▆▇█</td></tr><tr><td>_step</td><td>▁▂▂▃▄▅▅▆▇▇█</td></tr></table><br/>"
      ],
      "text/plain": [
       "<IPython.core.display.HTML object>"
      ]
     },
     "metadata": {},
     "output_type": "display_data"
    },
    {
     "data": {
      "text/html": [
       "Synced 5 W&B file(s), 1 media file(s), 0 artifact file(s) and 1 other file(s)"
      ],
      "text/plain": [
       "<IPython.core.display.HTML object>"
      ]
     },
     "metadata": {},
     "output_type": "display_data"
    },
    {
     "data": {
      "text/html": [
       "\n",
       "                    <br/>Synced <strong style=\"color:#cdcd00\">comfy-sweep-9</strong>: <a href=\"https://wandb.ai/mooizz/conv_inaturalist/runs/8wtzdu1n\" target=\"_blank\">https://wandb.ai/mooizz/conv_inaturalist/runs/8wtzdu1n</a><br/>\n",
       "                "
      ],
      "text/plain": [
       "<IPython.core.display.HTML object>"
      ]
     },
     "metadata": {},
     "output_type": "display_data"
    },
    {
     "name": "stderr",
     "output_type": "stream",
     "text": [
      "wandb: Agent Starting Run: z1vk8cvx with config:\n",
      "wandb: \tepochs: 10\n",
      "wandb: \tmodel_name: Xception\n",
      "wandb: \tstrategy: 1\n",
      "wandb: wandb version 0.10.26 is available!  To upgrade, please run:\n",
      "wandb:  $ pip install wandb --upgrade\n"
     ]
    },
    {
     "data": {
      "text/html": [
       "\n",
       "                Tracking run with wandb version 0.10.25<br/>\n",
       "                Syncing run <strong style=\"color:#cdcd00\">wobbly-sweep-10</strong> to <a href=\"https://wandb.ai\" target=\"_blank\">Weights & Biases</a> <a href=\"https://docs.wandb.com/integrations/jupyter.html\" target=\"_blank\">(Documentation)</a>.<br/>\n",
       "                Project page: <a href=\"https://wandb.ai/mooizz/conv_inaturalist\" target=\"_blank\">https://wandb.ai/mooizz/conv_inaturalist</a><br/>\n",
       "                Sweep page: <a href=\"https://wandb.ai/mooizz/conv_inaturalist/sweeps/du1jdiy0\" target=\"_blank\">https://wandb.ai/mooizz/conv_inaturalist/sweeps/du1jdiy0</a><br/>\n",
       "Run page: <a href=\"https://wandb.ai/mooizz/conv_inaturalist/runs/z1vk8cvx\" target=\"_blank\">https://wandb.ai/mooizz/conv_inaturalist/runs/z1vk8cvx</a><br/>\n",
       "                Run data is saved locally in <code>C:\\Users\\Jaitesh\\Desktop\\Courses\\DL\\ConvolutionalNetwork\\wandb\\run-20210414_114109-z1vk8cvx</code><br/><br/>\n",
       "            "
      ],
      "text/plain": [
       "<IPython.core.display.HTML object>"
      ]
     },
     "metadata": {},
     "output_type": "display_data"
    },
    {
     "name": "stdout",
     "output_type": "stream",
     "text": [
      "Epoch 1/10\n",
      "141/141 [==============================] - 25s 144ms/step - loss: 2.1797 - accuracy: 0.2398 - val_loss: 1.6557 - val_accuracy: 0.6306\n",
      "Epoch 2/10\n",
      "141/141 [==============================] - 17s 119ms/step - loss: 1.6414 - accuracy: 0.5794 - val_loss: 1.2797 - val_accuracy: 0.6977\n",
      "Epoch 3/10\n",
      "141/141 [==============================] - 15s 109ms/step - loss: 1.3471 - accuracy: 0.6537 - val_loss: 1.0807 - val_accuracy: 0.7267\n",
      "Epoch 4/10\n",
      "141/141 [==============================] - 16s 116ms/step - loss: 1.1919 - accuracy: 0.6738 - val_loss: 0.9698 - val_accuracy: 0.7377\n",
      "Epoch 5/10\n",
      "141/141 [==============================] - 15s 109ms/step - loss: 1.1012 - accuracy: 0.6827 - val_loss: 0.8992 - val_accuracy: 0.7457\n",
      "Epoch 6/10\n",
      "141/141 [==============================] - 17s 120ms/step - loss: 1.0478 - accuracy: 0.6801 - val_loss: 0.8538 - val_accuracy: 0.7437\n",
      "Epoch 7/10\n",
      "141/141 [==============================] - 15s 109ms/step - loss: 1.0093 - accuracy: 0.6939 - val_loss: 0.8215 - val_accuracy: 0.7477\n",
      "Epoch 8/10\n",
      "141/141 [==============================] - 19s 133ms/step - loss: 0.9668 - accuracy: 0.7005 - val_loss: 0.7971 - val_accuracy: 0.7538\n",
      "Epoch 9/10\n",
      "141/141 [==============================] - 21s 149ms/step - loss: 0.9432 - accuracy: 0.7081 - val_loss: 0.7787 - val_accuracy: 0.7558\n",
      "Epoch 10/10\n",
      "141/141 [==============================] - 21s 147ms/step - loss: 0.9436 - accuracy: 0.6989 - val_loss: 0.7639 - val_accuracy: 0.7578\n",
      "Number of layers in base Model:  132\n",
      "2\n",
      "Epoch 10/20\n",
      "141/141 [==============================] - 23s 146ms/step - loss: 0.9095 - accuracy: 0.7080 - val_loss: 0.7622 - val_accuracy: 0.7568\n",
      "Epoch 11/20\n",
      "141/141 [==============================] - 20s 140ms/step - loss: 0.9113 - accuracy: 0.7071 - val_loss: 0.7607 - val_accuracy: 0.7518\n",
      "Epoch 12/20\n",
      "141/141 [==============================] - 16s 116ms/step - loss: 0.9148 - accuracy: 0.7143 - val_loss: 0.7593 - val_accuracy: 0.7538\n",
      "Epoch 13/20\n",
      "141/141 [==============================] - 15s 108ms/step - loss: 0.9115 - accuracy: 0.7088 - val_loss: 0.7581 - val_accuracy: 0.7548\n",
      "Epoch 14/20\n",
      "141/141 [==============================] - 19s 138ms/step - loss: 0.9159 - accuracy: 0.7078 - val_loss: 0.7567 - val_accuracy: 0.7538\n",
      "Epoch 15/20\n",
      "141/141 [==============================] - 19s 137ms/step - loss: 0.9168 - accuracy: 0.7077 - val_loss: 0.7559 - val_accuracy: 0.7568\n",
      "Epoch 16/20\n",
      "141/141 [==============================] - 17s 121ms/step - loss: 0.8997 - accuracy: 0.7081 - val_loss: 0.7546 - val_accuracy: 0.7578\n",
      "Epoch 17/20\n",
      "141/141 [==============================] - 17s 123ms/step - loss: 0.9028 - accuracy: 0.7057 - val_loss: 0.7534 - val_accuracy: 0.7578\n",
      "Epoch 18/20\n",
      "141/141 [==============================] - 17s 117ms/step - loss: 0.9083 - accuracy: 0.7124 - val_loss: 0.7523 - val_accuracy: 0.7588\n",
      "Epoch 19/20\n",
      "141/141 [==============================] - 17s 121ms/step - loss: 0.9050 - accuracy: 0.7135 - val_loss: 0.7509 - val_accuracy: 0.7578\n",
      "Epoch 20/20\n",
      "141/141 [==============================] - 19s 133ms/step - loss: 0.9052 - accuracy: 0.7154 - val_loss: 0.7496 - val_accuracy: 0.7588\n",
      "INFO:tensorflow:Assets written to: models\\du1jdiy0\\wobbly-sweep-10\\assets\n"
     ]
    },
    {
     "data": {
      "text/html": [
       "<br/>Waiting for W&B process to finish, PID 44348<br/>Program ended successfully."
      ],
      "text/plain": [
       "<IPython.core.display.HTML object>"
      ]
     },
     "metadata": {},
     "output_type": "display_data"
    },
    {
     "data": {
      "application/vnd.jupyter.widget-view+json": {
       "model_id": "",
       "version_major": 2,
       "version_minor": 0
      },
      "text/plain": [
       "VBox(children=(Label(value=' 80.07MB of 80.07MB uploaded (0.00MB deduped)\\r'), FloatProgress(value=1.0, max=1.…"
      ]
     },
     "metadata": {},
     "output_type": "display_data"
    },
    {
     "data": {
      "text/html": [
       "Find user logs for this run at: <code>C:\\Users\\Jaitesh\\Desktop\\Courses\\DL\\ConvolutionalNetwork\\wandb\\run-20210414_114109-z1vk8cvx\\logs\\debug.log</code>"
      ],
      "text/plain": [
       "<IPython.core.display.HTML object>"
      ]
     },
     "metadata": {},
     "output_type": "display_data"
    },
    {
     "data": {
      "text/html": [
       "Find internal logs for this run at: <code>C:\\Users\\Jaitesh\\Desktop\\Courses\\DL\\ConvolutionalNetwork\\wandb\\run-20210414_114109-z1vk8cvx\\logs\\debug-internal.log</code>"
      ],
      "text/plain": [
       "<IPython.core.display.HTML object>"
      ]
     },
     "metadata": {},
     "output_type": "display_data"
    },
    {
     "data": {
      "text/html": [
       "<h3>Run summary:</h3><br/><style>\n",
       "    table.wandb td:nth-child(1) { padding: 0 10px; text-align: right }\n",
       "    </style><table class=\"wandb\">\n",
       "<tr><td>epoch</td><td>19</td></tr><tr><td>loss</td><td>0.89762</td></tr><tr><td>accuracy</td><td>0.71322</td></tr><tr><td>val_loss</td><td>0.74957</td></tr><tr><td>val_accuracy</td><td>0.75876</td></tr><tr><td>_runtime</td><td>387</td></tr><tr><td>_timestamp</td><td>1618381056</td></tr><tr><td>_step</td><td>10</td></tr><tr><td>best_val_loss</td><td>0.74957</td></tr><tr><td>best_epoch</td><td>19</td></tr></table>"
      ],
      "text/plain": [
       "<IPython.core.display.HTML object>"
      ]
     },
     "metadata": {},
     "output_type": "display_data"
    },
    {
     "data": {
      "text/html": [
       "<h3>Run history:</h3><br/><style>\n",
       "    table.wandb td:nth-child(1) { padding: 0 10px; text-align: right }\n",
       "    </style><table class=\"wandb\">\n",
       "<tr><td>epoch</td><td>▁▂▂▃▄▅▅▆▇▇█</td></tr><tr><td>loss</td><td>▆▆█▆▇█▃▃▃▁▃</td></tr><tr><td>accuracy</td><td>▄▂▇▄▂▁▂▂▆█▄</td></tr><tr><td>val_loss</td><td>█▇▆▆▅▅▄▃▃▂▁</td></tr><tr><td>val_accuracy</td><td>▆▁▃▄▃▆▇▇█▇█</td></tr><tr><td>_runtime</td><td>▁▂▂▃▄▅▅▆▇▇█</td></tr><tr><td>_timestamp</td><td>▁▂▂▃▄▅▅▆▇▇█</td></tr><tr><td>_step</td><td>▁▂▂▃▄▅▅▆▇▇█</td></tr></table><br/>"
      ],
      "text/plain": [
       "<IPython.core.display.HTML object>"
      ]
     },
     "metadata": {},
     "output_type": "display_data"
    },
    {
     "data": {
      "text/html": [
       "Synced 5 W&B file(s), 1 media file(s), 0 artifact file(s) and 1 other file(s)"
      ],
      "text/plain": [
       "<IPython.core.display.HTML object>"
      ]
     },
     "metadata": {},
     "output_type": "display_data"
    },
    {
     "data": {
      "text/html": [
       "\n",
       "                    <br/>Synced <strong style=\"color:#cdcd00\">wobbly-sweep-10</strong>: <a href=\"https://wandb.ai/mooizz/conv_inaturalist/runs/z1vk8cvx\" target=\"_blank\">https://wandb.ai/mooizz/conv_inaturalist/runs/z1vk8cvx</a><br/>\n",
       "                "
      ],
      "text/plain": [
       "<IPython.core.display.HTML object>"
      ]
     },
     "metadata": {},
     "output_type": "display_data"
    },
    {
     "name": "stderr",
     "output_type": "stream",
     "text": [
      "wandb: Agent Starting Run: 99im0yxg with config:\n",
      "wandb: \tepochs: 10\n",
      "wandb: \tmodel_name: Xception\n",
      "wandb: \tstrategy: 2\n",
      "wandb: wandb version 0.10.26 is available!  To upgrade, please run:\n",
      "wandb:  $ pip install wandb --upgrade\n"
     ]
    },
    {
     "data": {
      "text/html": [
       "\n",
       "                Tracking run with wandb version 0.10.25<br/>\n",
       "                Syncing run <strong style=\"color:#cdcd00\">glad-sweep-11</strong> to <a href=\"https://wandb.ai\" target=\"_blank\">Weights & Biases</a> <a href=\"https://docs.wandb.com/integrations/jupyter.html\" target=\"_blank\">(Documentation)</a>.<br/>\n",
       "                Project page: <a href=\"https://wandb.ai/mooizz/conv_inaturalist\" target=\"_blank\">https://wandb.ai/mooizz/conv_inaturalist</a><br/>\n",
       "                Sweep page: <a href=\"https://wandb.ai/mooizz/conv_inaturalist/sweeps/du1jdiy0\" target=\"_blank\">https://wandb.ai/mooizz/conv_inaturalist/sweeps/du1jdiy0</a><br/>\n",
       "Run page: <a href=\"https://wandb.ai/mooizz/conv_inaturalist/runs/99im0yxg\" target=\"_blank\">https://wandb.ai/mooizz/conv_inaturalist/runs/99im0yxg</a><br/>\n",
       "                Run data is saved locally in <code>C:\\Users\\Jaitesh\\Desktop\\Courses\\DL\\ConvolutionalNetwork\\wandb\\run-20210414_114809-99im0yxg</code><br/><br/>\n",
       "            "
      ],
      "text/plain": [
       "<IPython.core.display.HTML object>"
      ]
     },
     "metadata": {},
     "output_type": "display_data"
    },
    {
     "name": "stdout",
     "output_type": "stream",
     "text": [
      "Epoch 1/10\n",
      "141/141 [==============================] - 18s 117ms/step - loss: 2.1733 - accuracy: 0.2440 - val_loss: 1.6460 - val_accuracy: 0.6326\n",
      "Epoch 2/10\n",
      "141/141 [==============================] - 16s 114ms/step - loss: 1.6516 - accuracy: 0.5672 - val_loss: 1.2766 - val_accuracy: 0.7047\n",
      "Epoch 3/10\n",
      "141/141 [==============================] - 18s 131ms/step - loss: 1.3623 - accuracy: 0.6459 - val_loss: 1.0797 - val_accuracy: 0.7257\n",
      "Epoch 4/10\n",
      "141/141 [==============================] - 17s 121ms/step - loss: 1.2041 - accuracy: 0.6684 - val_loss: 0.9674 - val_accuracy: 0.7407\n",
      "Epoch 5/10\n",
      "141/141 [==============================] - 17s 118ms/step - loss: 1.1061 - accuracy: 0.6776 - val_loss: 0.8976 - val_accuracy: 0.7407\n",
      "Epoch 6/10\n",
      "141/141 [==============================] - 15s 108ms/step - loss: 1.0530 - accuracy: 0.6899 - val_loss: 0.8529 - val_accuracy: 0.7477\n",
      "Epoch 7/10\n",
      "141/141 [==============================] - 15s 108ms/step - loss: 1.0169 - accuracy: 0.6876 - val_loss: 0.8202 - val_accuracy: 0.7538\n",
      "Epoch 8/10\n",
      "141/141 [==============================] - 15s 109ms/step - loss: 0.9771 - accuracy: 0.6957 - val_loss: 0.7965 - val_accuracy: 0.7538\n",
      "Epoch 9/10\n",
      "141/141 [==============================] - 15s 110ms/step - loss: 0.9519 - accuracy: 0.7046 - val_loss: 0.7779 - val_accuracy: 0.7538\n",
      "Epoch 10/10\n",
      "141/141 [==============================] - 15s 109ms/step - loss: 0.9221 - accuracy: 0.7077 - val_loss: 0.7632 - val_accuracy: 0.7608\n",
      "Number of layers in base Model:  132\n",
      "25\n",
      "Epoch 10/20\n",
      "141/141 [==============================] - 23s 144ms/step - loss: 0.9051 - accuracy: 0.7065 - val_loss: 0.6905 - val_accuracy: 0.7678\n",
      "Epoch 11/20\n",
      "141/141 [==============================] - 19s 133ms/step - loss: 0.8267 - accuracy: 0.7204 - val_loss: 0.6672 - val_accuracy: 0.7808\n",
      "Epoch 12/20\n",
      "141/141 [==============================] - 18s 130ms/step - loss: 0.7974 - accuracy: 0.7286 - val_loss: 0.6535 - val_accuracy: 0.7808\n",
      "Epoch 13/20\n",
      "141/141 [==============================] - 19s 134ms/step - loss: 0.7694 - accuracy: 0.7412 - val_loss: 0.6431 - val_accuracy: 0.7878\n",
      "Epoch 14/20\n",
      "141/141 [==============================] - 21s 146ms/step - loss: 0.7463 - accuracy: 0.7459 - val_loss: 0.6349 - val_accuracy: 0.7878\n",
      "Epoch 15/20\n",
      "141/141 [==============================] - 20s 141ms/step - loss: 0.7519 - accuracy: 0.7464 - val_loss: 0.6264 - val_accuracy: 0.7918\n",
      "Epoch 16/20\n",
      "141/141 [==============================] - 19s 134ms/step - loss: 0.7032 - accuracy: 0.7607 - val_loss: 0.6219 - val_accuracy: 0.7978\n",
      "Epoch 17/20\n",
      "141/141 [==============================] - 20s 139ms/step - loss: 0.6843 - accuracy: 0.7700 - val_loss: 0.6207 - val_accuracy: 0.7988\n",
      "Epoch 18/20\n",
      "141/141 [==============================] - 22s 160ms/step - loss: 0.6909 - accuracy: 0.7688 - val_loss: 0.6128 - val_accuracy: 0.7988\n",
      "Epoch 19/20\n",
      "141/141 [==============================] - 20s 144ms/step - loss: 0.6858 - accuracy: 0.7652 - val_loss: 0.6101 - val_accuracy: 0.8118\n",
      "Epoch 20/20\n",
      "141/141 [==============================] - 20s 139ms/step - loss: 0.6473 - accuracy: 0.7720 - val_loss: 0.6056 - val_accuracy: 0.8128\n",
      "INFO:tensorflow:Assets written to: models\\du1jdiy0\\glad-sweep-11\\assets\n"
     ]
    },
    {
     "data": {
      "text/html": [
       "<br/>Waiting for W&B process to finish, PID 46736<br/>Program ended successfully."
      ],
      "text/plain": [
       "<IPython.core.display.HTML object>"
      ]
     },
     "metadata": {},
     "output_type": "display_data"
    },
    {
     "data": {
      "application/vnd.jupyter.widget-view+json": {
       "model_id": "",
       "version_major": 2,
       "version_minor": 0
      },
      "text/plain": [
       "VBox(children=(Label(value=' 136.02MB of 136.02MB uploaded (0.00MB deduped)\\r'), FloatProgress(value=1.0, max=…"
      ]
     },
     "metadata": {},
     "output_type": "display_data"
    },
    {
     "data": {
      "text/html": [
       "Find user logs for this run at: <code>C:\\Users\\Jaitesh\\Desktop\\Courses\\DL\\ConvolutionalNetwork\\wandb\\run-20210414_114809-99im0yxg\\logs\\debug.log</code>"
      ],
      "text/plain": [
       "<IPython.core.display.HTML object>"
      ]
     },
     "metadata": {},
     "output_type": "display_data"
    },
    {
     "data": {
      "text/html": [
       "Find internal logs for this run at: <code>C:\\Users\\Jaitesh\\Desktop\\Courses\\DL\\ConvolutionalNetwork\\wandb\\run-20210414_114809-99im0yxg\\logs\\debug-internal.log</code>"
      ],
      "text/plain": [
       "<IPython.core.display.HTML object>"
      ]
     },
     "metadata": {},
     "output_type": "display_data"
    },
    {
     "data": {
      "text/html": [
       "<h3>Run summary:</h3><br/><style>\n",
       "    table.wandb td:nth-child(1) { padding: 0 10px; text-align: right }\n",
       "    </style><table class=\"wandb\">\n",
       "<tr><td>epoch</td><td>19</td></tr><tr><td>loss</td><td>0.64203</td></tr><tr><td>accuracy</td><td>0.777</td></tr><tr><td>val_loss</td><td>0.60559</td></tr><tr><td>val_accuracy</td><td>0.81281</td></tr><tr><td>_runtime</td><td>389</td></tr><tr><td>_timestamp</td><td>1618381478</td></tr><tr><td>_step</td><td>10</td></tr><tr><td>best_val_loss</td><td>0.60559</td></tr><tr><td>best_epoch</td><td>19</td></tr></table>"
      ],
      "text/plain": [
       "<IPython.core.display.HTML object>"
      ]
     },
     "metadata": {},
     "output_type": "display_data"
    },
    {
     "data": {
      "text/html": [
       "<h3>Run history:</h3><br/><style>\n",
       "    table.wandb td:nth-child(1) { padding: 0 10px; text-align: right }\n",
       "    </style><table class=\"wandb\">\n",
       "<tr><td>epoch</td><td>▁▂▂▃▄▅▅▆▇▇█</td></tr><tr><td>loss</td><td>█▆▆▅▄▄▃▂▂▂▁</td></tr><tr><td>accuracy</td><td>▁▃▃▄▅▅▇▇▇▇█</td></tr><tr><td>val_loss</td><td>█▆▅▄▃▃▂▂▂▁▁</td></tr><tr><td>val_accuracy</td><td>▁▃▃▄▄▅▆▆▆██</td></tr><tr><td>_runtime</td><td>▁▂▂▃▄▄▅▆▇▇█</td></tr><tr><td>_timestamp</td><td>▁▂▂▃▄▄▅▆▇▇█</td></tr><tr><td>_step</td><td>▁▂▂▃▄▅▅▆▇▇█</td></tr></table><br/>"
      ],
      "text/plain": [
       "<IPython.core.display.HTML object>"
      ]
     },
     "metadata": {},
     "output_type": "display_data"
    },
    {
     "data": {
      "text/html": [
       "Synced 5 W&B file(s), 1 media file(s), 0 artifact file(s) and 1 other file(s)"
      ],
      "text/plain": [
       "<IPython.core.display.HTML object>"
      ]
     },
     "metadata": {},
     "output_type": "display_data"
    },
    {
     "data": {
      "text/html": [
       "\n",
       "                    <br/>Synced <strong style=\"color:#cdcd00\">glad-sweep-11</strong>: <a href=\"https://wandb.ai/mooizz/conv_inaturalist/runs/99im0yxg\" target=\"_blank\">https://wandb.ai/mooizz/conv_inaturalist/runs/99im0yxg</a><br/>\n",
       "                "
      ],
      "text/plain": [
       "<IPython.core.display.HTML object>"
      ]
     },
     "metadata": {},
     "output_type": "display_data"
    },
    {
     "name": "stderr",
     "output_type": "stream",
     "text": [
      "wandb: Agent Starting Run: 93qhupbk with config:\n",
      "wandb: \tepochs: 10\n",
      "wandb: \tmodel_name: Xception\n",
      "wandb: \tstrategy: 3\n",
      "wandb: wandb version 0.10.26 is available!  To upgrade, please run:\n",
      "wandb:  $ pip install wandb --upgrade\n"
     ]
    },
    {
     "data": {
      "text/html": [
       "\n",
       "                Tracking run with wandb version 0.10.25<br/>\n",
       "                Syncing run <strong style=\"color:#cdcd00\">eager-sweep-12</strong> to <a href=\"https://wandb.ai\" target=\"_blank\">Weights & Biases</a> <a href=\"https://docs.wandb.com/integrations/jupyter.html\" target=\"_blank\">(Documentation)</a>.<br/>\n",
       "                Project page: <a href=\"https://wandb.ai/mooizz/conv_inaturalist\" target=\"_blank\">https://wandb.ai/mooizz/conv_inaturalist</a><br/>\n",
       "                Sweep page: <a href=\"https://wandb.ai/mooizz/conv_inaturalist/sweeps/du1jdiy0\" target=\"_blank\">https://wandb.ai/mooizz/conv_inaturalist/sweeps/du1jdiy0</a><br/>\n",
       "Run page: <a href=\"https://wandb.ai/mooizz/conv_inaturalist/runs/93qhupbk\" target=\"_blank\">https://wandb.ai/mooizz/conv_inaturalist/runs/93qhupbk</a><br/>\n",
       "                Run data is saved locally in <code>C:\\Users\\Jaitesh\\Desktop\\Courses\\DL\\ConvolutionalNetwork\\wandb\\run-20210414_115515-93qhupbk</code><br/><br/>\n",
       "            "
      ],
      "text/plain": [
       "<IPython.core.display.HTML object>"
      ]
     },
     "metadata": {},
     "output_type": "display_data"
    },
    {
     "name": "stdout",
     "output_type": "stream",
     "text": [
      "Epoch 1/10\n",
      "141/141 [==============================] - 18s 113ms/step - loss: 2.2338 - accuracy: 0.1973 - val_loss: 1.6976 - val_accuracy: 0.6106\n",
      "Epoch 2/10\n",
      "141/141 [==============================] - 16s 110ms/step - loss: 1.6907 - accuracy: 0.5341 - val_loss: 1.3068 - val_accuracy: 0.6977\n",
      "Epoch 3/10\n",
      "141/141 [==============================] - 16s 113ms/step - loss: 1.3798 - accuracy: 0.6330 - val_loss: 1.0972 - val_accuracy: 0.7267\n",
      "Epoch 4/10\n",
      "141/141 [==============================] - 18s 128ms/step - loss: 1.2108 - accuracy: 0.6625 - val_loss: 0.9782 - val_accuracy: 0.7377\n",
      "Epoch 5/10\n",
      "141/141 [==============================] - 20s 141ms/step - loss: 1.1152 - accuracy: 0.6764 - val_loss: 0.9034 - val_accuracy: 0.7477\n",
      "Epoch 6/10\n",
      "141/141 [==============================] - 20s 141ms/step - loss: 1.0630 - accuracy: 0.6774 - val_loss: 0.8540 - val_accuracy: 0.7508\n",
      "Epoch 7/10\n",
      "141/141 [==============================] - 20s 141ms/step - loss: 1.0193 - accuracy: 0.6835 - val_loss: 0.8199 - val_accuracy: 0.7598\n",
      "Epoch 8/10\n",
      "141/141 [==============================] - 20s 139ms/step - loss: 0.9726 - accuracy: 0.7018 - val_loss: 0.7946 - val_accuracy: 0.7628\n",
      "Epoch 9/10\n",
      "141/141 [==============================] - 19s 136ms/step - loss: 0.9564 - accuracy: 0.6949 - val_loss: 0.7755 - val_accuracy: 0.7648\n",
      "Epoch 10/10\n",
      "141/141 [==============================] - 19s 135ms/step - loss: 0.9405 - accuracy: 0.7028 - val_loss: 0.7594 - val_accuracy: 0.7678\n",
      "Number of layers in base Model:  132\n",
      "61\n",
      "Epoch 10/20\n",
      "141/141 [==============================] - 33s 214ms/step - loss: 0.8805 - accuracy: 0.7140 - val_loss: 0.6613 - val_accuracy: 0.7818\n",
      "Epoch 11/20\n",
      "141/141 [==============================] - 30s 212ms/step - loss: 0.7882 - accuracy: 0.7370 - val_loss: 0.6330 - val_accuracy: 0.7838\n",
      "Epoch 12/20\n",
      "141/141 [==============================] - 30s 211ms/step - loss: 0.7515 - accuracy: 0.7456 - val_loss: 0.6157 - val_accuracy: 0.7948\n",
      "Epoch 13/20\n",
      "141/141 [==============================] - 30s 210ms/step - loss: 0.7047 - accuracy: 0.7615 - val_loss: 0.5977 - val_accuracy: 0.7928\n",
      "Epoch 14/20\n",
      "141/141 [==============================] - 30s 211ms/step - loss: 0.6659 - accuracy: 0.7790 - val_loss: 0.5844 - val_accuracy: 0.8028\n",
      "Epoch 15/20\n",
      "141/141 [==============================] - 30s 212ms/step - loss: 0.6555 - accuracy: 0.7792 - val_loss: 0.5770 - val_accuracy: 0.8108\n",
      "Epoch 16/20\n",
      "141/141 [==============================] - 30s 211ms/step - loss: 0.6369 - accuracy: 0.7885 - val_loss: 0.5726 - val_accuracy: 0.8088\n",
      "Epoch 17/20\n",
      "141/141 [==============================] - 30s 210ms/step - loss: 0.5916 - accuracy: 0.8043 - val_loss: 0.5669 - val_accuracy: 0.8118\n",
      "Epoch 18/20\n",
      "141/141 [==============================] - 27s 195ms/step - loss: 0.5816 - accuracy: 0.8059 - val_loss: 0.5621 - val_accuracy: 0.8128\n",
      "Epoch 19/20\n",
      "141/141 [==============================] - 28s 201ms/step - loss: 0.5590 - accuracy: 0.8091 - val_loss: 0.5589 - val_accuracy: 0.8108\n",
      "Epoch 20/20\n",
      "141/141 [==============================] - 25s 177ms/step - loss: 0.5428 - accuracy: 0.8096 - val_loss: 0.5550 - val_accuracy: 0.8148\n",
      "INFO:tensorflow:Assets written to: models\\du1jdiy0\\eager-sweep-12\\assets\n"
     ]
    },
    {
     "data": {
      "text/html": [
       "<br/>Waiting for W&B process to finish, PID 51096<br/>Program ended successfully."
      ],
      "text/plain": [
       "<IPython.core.display.HTML object>"
      ]
     },
     "metadata": {},
     "output_type": "display_data"
    },
    {
     "data": {
      "application/vnd.jupyter.widget-view+json": {
       "model_id": "",
       "version_major": 2,
       "version_minor": 0
      },
      "text/plain": [
       "VBox(children=(Label(value=' 173.04MB of 173.04MB uploaded (0.00MB deduped)\\r'), FloatProgress(value=1.0, max=…"
      ]
     },
     "metadata": {},
     "output_type": "display_data"
    },
    {
     "data": {
      "text/html": [
       "Find user logs for this run at: <code>C:\\Users\\Jaitesh\\Desktop\\Courses\\DL\\ConvolutionalNetwork\\wandb\\run-20210414_115515-93qhupbk\\logs\\debug.log</code>"
      ],
      "text/plain": [
       "<IPython.core.display.HTML object>"
      ]
     },
     "metadata": {},
     "output_type": "display_data"
    },
    {
     "data": {
      "text/html": [
       "Find internal logs for this run at: <code>C:\\Users\\Jaitesh\\Desktop\\Courses\\DL\\ConvolutionalNetwork\\wandb\\run-20210414_115515-93qhupbk\\logs\\debug-internal.log</code>"
      ],
      "text/plain": [
       "<IPython.core.display.HTML object>"
      ]
     },
     "metadata": {},
     "output_type": "display_data"
    },
    {
     "data": {
      "text/html": [
       "<h3>Run summary:</h3><br/><style>\n",
       "    table.wandb td:nth-child(1) { padding: 0 10px; text-align: right }\n",
       "    </style><table class=\"wandb\">\n",
       "<tr><td>epoch</td><td>19</td></tr><tr><td>loss</td><td>0.5329</td></tr><tr><td>accuracy</td><td>0.81578</td></tr><tr><td>val_loss</td><td>0.55504</td></tr><tr><td>val_accuracy</td><td>0.81481</td></tr><tr><td>_runtime</td><td>513</td></tr><tr><td>_timestamp</td><td>1618382028</td></tr><tr><td>_step</td><td>10</td></tr><tr><td>best_val_loss</td><td>0.55504</td></tr><tr><td>best_epoch</td><td>19</td></tr></table>"
      ],
      "text/plain": [
       "<IPython.core.display.HTML object>"
      ]
     },
     "metadata": {},
     "output_type": "display_data"
    },
    {
     "data": {
      "text/html": [
       "<h3>Run history:</h3><br/><style>\n",
       "    table.wandb td:nth-child(1) { padding: 0 10px; text-align: right }\n",
       "    </style><table class=\"wandb\">\n",
       "<tr><td>epoch</td><td>▁▂▂▃▄▅▅▆▇▇█</td></tr><tr><td>loss</td><td>█▆▅▅▄▃▃▂▂▁▁</td></tr><tr><td>accuracy</td><td>▁▃▄▄▅▆▇▇███</td></tr><tr><td>val_loss</td><td>█▆▅▄▃▂▂▂▁▁▁</td></tr><tr><td>val_accuracy</td><td>▁▁▄▃▅▇▇▇█▇█</td></tr><tr><td>_runtime</td><td>▁▂▂▃▄▅▅▆▇▇█</td></tr><tr><td>_timestamp</td><td>▁▂▂▃▄▅▅▆▇▇█</td></tr><tr><td>_step</td><td>▁▂▂▃▄▅▅▆▇▇█</td></tr></table><br/>"
      ],
      "text/plain": [
       "<IPython.core.display.HTML object>"
      ]
     },
     "metadata": {},
     "output_type": "display_data"
    },
    {
     "data": {
      "text/html": [
       "Synced 5 W&B file(s), 1 media file(s), 0 artifact file(s) and 1 other file(s)"
      ],
      "text/plain": [
       "<IPython.core.display.HTML object>"
      ]
     },
     "metadata": {},
     "output_type": "display_data"
    },
    {
     "data": {
      "text/html": [
       "\n",
       "                    <br/>Synced <strong style=\"color:#cdcd00\">eager-sweep-12</strong>: <a href=\"https://wandb.ai/mooizz/conv_inaturalist/runs/93qhupbk\" target=\"_blank\">https://wandb.ai/mooizz/conv_inaturalist/runs/93qhupbk</a><br/>\n",
       "                "
      ],
      "text/plain": [
       "<IPython.core.display.HTML object>"
      ]
     },
     "metadata": {},
     "output_type": "display_data"
    },
    {
     "name": "stderr",
     "output_type": "stream",
     "text": [
      "wandb: Sweep Agent: Waiting for job.\n",
      "wandb: Sweep Agent: Exiting.\n"
     ]
    }
   ],
   "source": [
    "wandb.agent(sweep_id, finetune)"
   ]
  },
  {
   "cell_type": "code",
   "execution_count": null,
   "metadata": {},
   "outputs": [],
   "source": []
  }
 ],
 "metadata": {
  "kernelspec": {
   "display_name": "tf2.4",
   "language": "python",
   "name": "tf2.4"
  },
  "language_info": {
   "codemirror_mode": {
    "name": "ipython",
    "version": 3
   },
   "file_extension": ".py",
   "mimetype": "text/x-python",
   "name": "python",
   "nbconvert_exporter": "python",
   "pygments_lexer": "ipython3",
   "version": "3.8.8"
  }
 },
 "nbformat": 4,
 "nbformat_minor": 4
}
