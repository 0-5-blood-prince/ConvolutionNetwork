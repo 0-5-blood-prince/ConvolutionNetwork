{
 "cells": [
  {
   "cell_type": "code",
   "execution_count": 26,
   "metadata": {},
   "outputs": [],
   "source": [
    "import matplotlib.pyplot as plt\n",
    "import numpy as np\n",
    "import os\n",
    "import tensorflow as tf\n",
    "import os\n",
    "import PIL"
   ]
  },
  {
   "cell_type": "code",
   "execution_count": 27,
   "metadata": {},
   "outputs": [],
   "source": [
    "import os\n",
    "import numpy as np\n",
    "import matplotlib.pyplot as plt\n",
    "import matplotlib.image as mpimg\n",
    "from keras.preprocessing.image import img_to_array\n",
    "from keras.preprocessing.image import array_to_img\n",
    "import cv2\n",
    "import csv\n",
    "import PIL\n",
    "\n",
    "Dataset_Path = os.path.join(os.getcwd(),'inaturalist_12K')\n",
    "# Dataset_Path = '/content/drive/MyDrive/inaturalist_12K'\n",
    "train_path = os.path.join(Dataset_Path , 'train')\n",
    "test_path = os.path.join(Dataset_Path , 'val')\n",
    "# test_path1 = test_path\n",
    "import pathlib\n",
    "Dataset_Path = pathlib.Path(Dataset_Path)\n",
    "train_path = pathlib.Path(train_path)\n",
    "test_path = pathlib.Path(test_path)"
   ]
  },
  {
   "cell_type": "code",
   "execution_count": 28,
   "metadata": {},
   "outputs": [],
   "source": [
    "# import tensorflow as tf\n",
    "# tf.test.gpu_device_name()\n",
    "gpus = tf.config.experimental.list_physical_devices('GPU')\n",
    "if gpus:\n",
    "  try:\n",
    "    tf.config.experimental.set_virtual_device_configuration(gpus[0],\n",
    "                                                            [tf.config.experimental.VirtualDeviceConfiguration(memory_limit=5500)])\n",
    "  except RuntimeError as e:\n",
    "    print(e)"
   ]
  },
  {
   "cell_type": "code",
   "execution_count": 29,
   "metadata": {},
   "outputs": [],
   "source": [
    "batch_size = 64\n",
    "IMAGE_SIZE = 256"
   ]
  },
  {
   "cell_type": "code",
   "execution_count": 30,
   "metadata": {},
   "outputs": [
    {
     "name": "stdout",
     "output_type": "stream",
     "text": [
      "Found 9999 files belonging to 10 classes.\n",
      "Using 9000 files for training.\n"
     ]
    }
   ],
   "source": [
    "train_ds = tf.keras.preprocessing.image_dataset_from_directory(\n",
    "    train_path, \n",
    "    class_names=None, \n",
    "    color_mode='rgb', \n",
    "    batch_size=batch_size, \n",
    "    image_size=(IMAGE_SIZE,IMAGE_SIZE), \n",
    "    shuffle=True, \n",
    "    seed=1234, \n",
    "    validation_split=0.1,\n",
    "    subset=\"training\",\n",
    "    interpolation='bilinear'\n",
    ")"
   ]
  },
  {
   "cell_type": "code",
   "execution_count": 31,
   "metadata": {},
   "outputs": [
    {
     "name": "stdout",
     "output_type": "stream",
     "text": [
      "Found 9999 files belonging to 10 classes.\n",
      "Using 999 files for validation.\n"
     ]
    }
   ],
   "source": [
    "val_ds = tf.keras.preprocessing.image_dataset_from_directory(\n",
    "    train_path, \n",
    "    class_names=None, \n",
    "    color_mode='rgb', \n",
    "    batch_size=batch_size, \n",
    "    image_size=(IMAGE_SIZE,IMAGE_SIZE), \n",
    "    shuffle=True, \n",
    "    seed=1234, \n",
    "    validation_split=0.1,\n",
    "    subset=\"validation\",\n",
    "    interpolation='bilinear'\n",
    ")"
   ]
  },
  {
   "cell_type": "code",
   "execution_count": 32,
   "metadata": {},
   "outputs": [
    {
     "name": "stdout",
     "output_type": "stream",
     "text": [
      "Found 2000 files belonging to 10 classes.\n"
     ]
    }
   ],
   "source": [
    "test_ds = tf.keras.preprocessing.image_dataset_from_directory(\n",
    "    test_path, \n",
    "    class_names=None, \n",
    "    color_mode='rgb', \n",
    "    batch_size=batch_size, \n",
    "    image_size=(IMAGE_SIZE,IMAGE_SIZE), \n",
    "    shuffle=True,\n",
    "    seed=1234,\n",
    "    interpolation='bilinear'\n",
    ")"
   ]
  },
  {
   "cell_type": "code",
   "execution_count": 33,
   "metadata": {},
   "outputs": [
    {
     "name": "stdout",
     "output_type": "stream",
     "text": [
      "['Amphibia', 'Animalia', 'Arachnida', 'Aves', 'Fungi', 'Insecta', 'Mammalia', 'Mollusca', 'Plantae', 'Reptilia']\n"
     ]
    }
   ],
   "source": [
    "class_names = train_ds.class_names\n",
    "print(class_names)"
   ]
  },
  {
   "cell_type": "code",
   "execution_count": 34,
   "metadata": {},
   "outputs": [],
   "source": [
    "AUTOTUNE = tf.data.AUTOTUNE\n",
    "\n",
    "train_ds = train_ds.cache().prefetch(buffer_size=AUTOTUNE)\n",
    "val_ds = val_ds.cache().prefetch(buffer_size=AUTOTUNE)\n",
    "test_ds = test_ds.cache().prefetch(buffer_size=AUTOTUNE)"
   ]
  },
  {
   "cell_type": "code",
   "execution_count": 35,
   "metadata": {},
   "outputs": [],
   "source": [
    "from keras.models import Sequential\n",
    "from keras.layers import Dense, Conv2D, Flatten, Activation, MaxPooling2D, Dropout , BatchNormalization, experimental"
   ]
  },
  {
   "cell_type": "code",
   "execution_count": 36,
   "metadata": {},
   "outputs": [],
   "source": [
    "data_augmentation = Sequential(\n",
    "  [\n",
    "    experimental.preprocessing.RandomFlip(\"horizontal\", \n",
    "                                                 input_shape=(IMAGE_SIZE, \n",
    "                                                              IMAGE_SIZE,\n",
    "                                                              3)),\n",
    "    experimental.preprocessing.RandomRotation(0.2),\n",
    "    experimental.preprocessing.RandomZoom(0.2),\n",
    "  ]\n",
    ")"
   ]
  },
  {
   "cell_type": "markdown",
   "metadata": {},
   "source": [
    "# Pretrained Model"
   ]
  },
  {
   "cell_type": "code",
   "execution_count": 37,
   "metadata": {},
   "outputs": [],
   "source": [
    "from wandb.keras import WandbCallback"
   ]
  },
  {
   "cell_type": "code",
   "execution_count": 38,
   "metadata": {},
   "outputs": [],
   "source": [
    "def get_pretrained_model(model_name, epochs=10):\n",
    "    global_average_layer = tf.keras.layers.GlobalAveragePooling2D()\n",
    "    prediction_layer = tf.keras.layers.Dense(10,activation='softmax')\n",
    "    inputs = tf.keras.Input(shape=(IMAGE_SIZE, IMAGE_SIZE, 3))\n",
    "    x = data_augmentation(inputs)\n",
    "    if model_name == 'InceptionV3':\n",
    "        base_model = tf.keras.applications.InceptionV3(input_shape=(IMAGE_SIZE,IMAGE_SIZE,3), include_top=False, weights='imagenet')\n",
    "        x = tf.keras.applications.imagenet_utils.preprocess_input(x,mode='tf')\n",
    "    elif model_name == 'InceptionResNetV2':\n",
    "        base_model = tf.keras.applications.InceptionResNetV2(input_shape=(IMAGE_SIZE,IMAGE_SIZE,3),\n",
    "                                               include_top=False,\n",
    "                                               weights='imagenet')\n",
    "        x = tf.keras.applications.imagenet_utils.preprocess_input(x,mode='tf')\n",
    "    elif model_name == 'ResNet50':\n",
    "        base_model = tf.keras.applications.ResNet50(input_shape=(IMAGE_SIZE,IMAGE_SIZE,3),\n",
    "                                               include_top=False,\n",
    "                                               weights='imagenet')\n",
    "        x = tf.keras.applications.imagenet_utils.preprocess_input(x,mode='caffe')\n",
    "    elif model_name == 'Xception':\n",
    "        base_model = tf.keras.applications.Xception(input_shape=(IMAGE_SIZE,IMAGE_SIZE,3),\n",
    "                                               include_top=False,\n",
    "                                               weights='imagenet')\n",
    "        x = tf.keras.applications.imagenet_utils.preprocess_input(x,mode='tf')\n",
    "    else:\n",
    "        base_model = None\n",
    "        preprocess_input = None\n",
    "    base_model.trainable = False\n",
    "    x = base_model(x, training=False)\n",
    "    x = global_average_layer(x)\n",
    "    x = tf.keras.layers.Dropout(0.2)(x)\n",
    "    outputs = prediction_layer(x)\n",
    "    model = tf.keras.Model(inputs, outputs)\n",
    "    model.compile(loss=tf.keras.losses.SparseCategoricalCrossentropy(from_logits=True),\n",
    "              optimizer=tf.keras.optimizers.Adam(lr=0.0001),\n",
    "              metrics=['accuracy'])\n",
    "    initial_epochs = epochs\n",
    "    history = model.fit(train_ds,\n",
    "                    epochs=initial_epochs,\n",
    "                    validation_data=val_ds,\n",
    "                       callbacks=[WandbCallback()])\n",
    "#     model.save('PartB_models' + os.sep + 'base_models' + os.sep + model_name)\n",
    "#     model.save('PartB_models' + os.sep + 'models' + os.sep + model_name)\n",
    "    return model,history,base_model "
   ]
  },
  {
   "cell_type": "code",
   "execution_count": 39,
   "metadata": {},
   "outputs": [],
   "source": [
    "# for model_name in ['InceptionV3','InceptionResNetV2','ResNet50','Xception']:\n",
    "#     save_pretrained_model(model_name)"
   ]
  },
  {
   "cell_type": "code",
   "execution_count": 40,
   "metadata": {},
   "outputs": [],
   "source": [
    "# def get_saved_pretrained_model(model_name, epochs=10):\n",
    "#     base_model = tf.keras.models.load_model('PartB_models' + os.sep + 'base_models' + os.sep + model_name)\n",
    "#     model = tf.keras.models.load_model('PartB_models' + os.sep + 'models' + os.sep + model_name)\n",
    "#     return base_model, model"
   ]
  },
  {
   "cell_type": "code",
   "execution_count": 41,
   "metadata": {},
   "outputs": [],
   "source": [
    "# get_pretrain_conv_model('InceptionV3',10)"
   ]
  },
  {
   "cell_type": "markdown",
   "metadata": {},
   "source": [
    "# Fine tuning"
   ]
  },
  {
   "cell_type": "code",
   "execution_count": 42,
   "metadata": {},
   "outputs": [
    {
     "name": "stderr",
     "output_type": "stream",
     "text": [
      "wandb: WARNING If you're specifying your api key in code, ensure this code is not shared publically.\n",
      "wandb: WARNING Consider setting the WANDB_API_KEY environment variable, or running `wandb login` from the command line.\n",
      "wandb: Appending key for api.wandb.ai to your netrc file: C:\\Users\\Jaitesh/.netrc\n"
     ]
    },
    {
     "data": {
      "text/plain": [
       "True"
      ]
     },
     "execution_count": 42,
     "metadata": {},
     "output_type": "execute_result"
    }
   ],
   "source": [
    "import wandb\n",
    "wandb.login(key=\"866040d7d81f67025d43e7d50ecd83d54b6cf977\", relogin=False)"
   ]
  },
  {
   "cell_type": "code",
   "execution_count": 43,
   "metadata": {},
   "outputs": [],
   "source": [
    "sweep_config = {\n",
    "    'method': 'grid', #grid, random\n",
    "    'metric': {\n",
    "      'name': 'val_accuracy',\n",
    "      'goal': 'maximize'   \n",
    "    },\n",
    "    'parameters': {\n",
    "        'epochs':{\n",
    "            'values': [10]\n",
    "        },\n",
    "        'model_name': {  \n",
    "            'values': ['InceptionV3','InceptionResNetV2','ResNet50','Xception']\n",
    "        },\n",
    "        'strategy':{\n",
    "            'values': [1,2,3]\n",
    "        }\n",
    "    }\n",
    "}"
   ]
  },
  {
   "cell_type": "code",
   "execution_count": 44,
   "metadata": {},
   "outputs": [
    {
     "name": "stdout",
     "output_type": "stream",
     "text": [
      "Create sweep with ID: 1f8m104a\n",
      "Sweep URL: https://wandb.ai/mooizz/conv_inaturalist/sweeps/1f8m104a\n"
     ]
    }
   ],
   "source": [
    "from wandb.keras import WandbCallback\n",
    "sweep_id = wandb.sweep(sweep_config, entity=\"mooizz\",project=\"conv_inaturalist\")"
   ]
  },
  {
   "cell_type": "code",
   "execution_count": 45,
   "metadata": {},
   "outputs": [],
   "source": [
    "def finetune():\n",
    "    config_defaults = {\n",
    "        'epochs' : 10,\n",
    "        'model_name': 'InceptionV3',\n",
    "        'strategy': '1'\n",
    "    }\n",
    "    wandb.init(config=config_defaults)\n",
    "    config = wandb.config\n",
    "    model, history, base_model = get_pretrained_model(config.model_name,config.epochs)\n",
    "    print(\"Number of layers in base Model: \", len(base_model.layers))\n",
    "    n = len(base_model.layers)\n",
    "    l = base_model.layers\n",
    "    fine_tune_at = n\n",
    "    base_model.trainable = True\n",
    "#     if config.strategy == 0:\n",
    "#         fine_tune_at = n\n",
    "    if config.strategy == 1:\n",
    "        fine_tune_at = n-1\n",
    "    if config.strategy == 2:\n",
    "        fine_tune_at = n-10\n",
    "    if config.strategy == 3:\n",
    "        fine_tune_at = n-50\n",
    "    for layer in base_model.layers[:fine_tune_at]:\n",
    "        layer.trainable =  False   \n",
    "    print(len(model.trainable_variables))\n",
    "    model.compile(loss=tf.keras.losses.SparseCategoricalCrossentropy(from_logits=True),\n",
    "              optimizer=tf.keras.optimizers.Adam(lr=0.00001),\n",
    "              metrics=['accuracy'])\n",
    "    \n",
    "    total_epochs = 2*config.epochs\n",
    "    \n",
    "    history_fine = model.fit(train_ds,\n",
    "                         epochs=total_epochs,\n",
    "                         initial_epoch=history.epoch[-1],\n",
    "                         validation_data=val_ds,\n",
    "                            callbacks=[WandbCallback()])\n",
    "    model.save('models'+os.sep+str(sweep_id)+os.sep+wandb.run.name)\n",
    "\n",
    "        "
   ]
  },
  {
   "cell_type": "code",
   "execution_count": 46,
   "metadata": {},
   "outputs": [],
   "source": [
    "# wandb.init(config=config_defaults)"
   ]
  },
  {
   "cell_type": "markdown",
   "metadata": {},
   "source": [
    "# Wandb Sweep"
   ]
  },
  {
   "cell_type": "code",
   "execution_count": 47,
   "metadata": {},
   "outputs": [],
   "source": [
    "# sweep_id = wandb.sweep(sweep_config, entity=\"mooizz\",project=\"conv_inaturalist\")"
   ]
  },
  {
   "cell_type": "code",
   "execution_count": 48,
   "metadata": {},
   "outputs": [
    {
     "name": "stderr",
     "output_type": "stream",
     "text": [
      "wandb: Agent Starting Run: s1t4jmxq with config:\n",
      "wandb: \tepochs: 10\n",
      "wandb: \tmodel_name: InceptionV3\n",
      "wandb: \tstrategy: 1\n",
      "wandb: wandb version 0.10.26 is available!  To upgrade, please run:\n",
      "wandb:  $ pip install wandb --upgrade\n"
     ]
    },
    {
     "data": {
      "text/html": [
       "\n",
       "                Tracking run with wandb version 0.10.25<br/>\n",
       "                Syncing run <strong style=\"color:#cdcd00\">exalted-sweep-1</strong> to <a href=\"https://wandb.ai\" target=\"_blank\">Weights & Biases</a> <a href=\"https://docs.wandb.com/integrations/jupyter.html\" target=\"_blank\">(Documentation)</a>.<br/>\n",
       "                Project page: <a href=\"https://wandb.ai/mooizz/conv_inaturalist\" target=\"_blank\">https://wandb.ai/mooizz/conv_inaturalist</a><br/>\n",
       "                Sweep page: <a href=\"https://wandb.ai/mooizz/conv_inaturalist/sweeps/1f8m104a\" target=\"_blank\">https://wandb.ai/mooizz/conv_inaturalist/sweeps/1f8m104a</a><br/>\n",
       "Run page: <a href=\"https://wandb.ai/mooizz/conv_inaturalist/runs/s1t4jmxq\" target=\"_blank\">https://wandb.ai/mooizz/conv_inaturalist/runs/s1t4jmxq</a><br/>\n",
       "                Run data is saved locally in <code>C:\\Users\\Jaitesh\\Desktop\\Courses\\DL\\ConvolutionalNetwork\\wandb\\run-20210415_092840-s1t4jmxq</code><br/><br/>\n",
       "            "
      ],
      "text/plain": [
       "<IPython.core.display.HTML object>"
      ]
     },
     "metadata": {},
     "output_type": "display_data"
    },
    {
     "name": "stdout",
     "output_type": "stream",
     "text": [
      "Epoch 1/10\n",
      "141/141 [==============================] - 70s 395ms/step - loss: 2.2659 - accuracy: 0.1928 - val_loss: 1.5641 - val_accuracy: 0.5746\n",
      "Epoch 2/10\n",
      "141/141 [==============================] - 10s 74ms/step - loss: 1.5657 - accuracy: 0.5277 - val_loss: 1.1735 - val_accuracy: 0.6957\n",
      "Epoch 3/10\n",
      "141/141 [==============================] - 10s 74ms/step - loss: 1.2775 - accuracy: 0.6201 - val_loss: 0.9945 - val_accuracy: 0.7287\n",
      "Epoch 4/10\n",
      "141/141 [==============================] - 10s 74ms/step - loss: 1.1178 - accuracy: 0.6631 - val_loss: 0.9003 - val_accuracy: 0.7417\n",
      "Epoch 5/10\n",
      "141/141 [==============================] - 10s 74ms/step - loss: 1.0554 - accuracy: 0.6780 - val_loss: 0.8454 - val_accuracy: 0.7548\n",
      "Epoch 6/10\n",
      "141/141 [==============================] - 11s 75ms/step - loss: 0.9991 - accuracy: 0.6854 - val_loss: 0.8076 - val_accuracy: 0.7548\n",
      "Epoch 7/10\n",
      "141/141 [==============================] - 10s 74ms/step - loss: 0.9781 - accuracy: 0.6942 - val_loss: 0.7820 - val_accuracy: 0.7618\n",
      "Epoch 8/10\n",
      "141/141 [==============================] - 11s 75ms/step - loss: 0.9353 - accuracy: 0.7065 - val_loss: 0.7615 - val_accuracy: 0.7678\n",
      "Epoch 9/10\n",
      "141/141 [==============================] - 10s 74ms/step - loss: 0.9111 - accuracy: 0.7112 - val_loss: 0.7466 - val_accuracy: 0.7668\n",
      "Epoch 10/10\n",
      "141/141 [==============================] - 10s 74ms/step - loss: 0.9040 - accuracy: 0.7087 - val_loss: 0.7360 - val_accuracy: 0.7688\n",
      "Number of layers in base Model:  311\n",
      "2\n",
      "Epoch 10/20\n",
      "141/141 [==============================] - 15s 81ms/step - loss: 0.8990 - accuracy: 0.7113 - val_loss: 0.7323 - val_accuracy: 0.7718\n",
      "Epoch 11/20\n",
      "141/141 [==============================] - 11s 77ms/step - loss: 0.8805 - accuracy: 0.7218 - val_loss: 0.7316 - val_accuracy: 0.7738\n",
      "Epoch 12/20\n",
      "141/141 [==============================] - 11s 75ms/step - loss: 0.8849 - accuracy: 0.7179 - val_loss: 0.7307 - val_accuracy: 0.7708\n",
      "Epoch 13/20\n",
      "141/141 [==============================] - 11s 76ms/step - loss: 0.8730 - accuracy: 0.7264 - val_loss: 0.7294 - val_accuracy: 0.7718\n",
      "Epoch 14/20\n",
      "141/141 [==============================] - 11s 77ms/step - loss: 0.8882 - accuracy: 0.7215 - val_loss: 0.7278 - val_accuracy: 0.7718\n",
      "Epoch 15/20\n",
      "141/141 [==============================] - 10s 72ms/step - loss: 0.8551 - accuracy: 0.7307 - val_loss: 0.7268 - val_accuracy: 0.7718\n",
      "Epoch 16/20\n",
      "141/141 [==============================] - 11s 75ms/step - loss: 0.8721 - accuracy: 0.7256 - val_loss: 0.7257 - val_accuracy: 0.7708\n",
      "Epoch 17/20\n",
      "141/141 [==============================] - 11s 76ms/step - loss: 0.8921 - accuracy: 0.7154 - val_loss: 0.7246 - val_accuracy: 0.7708\n",
      "Epoch 18/20\n",
      "141/141 [==============================] - 10s 74ms/step - loss: 0.8780 - accuracy: 0.7196 - val_loss: 0.7236 - val_accuracy: 0.7698\n",
      "Epoch 19/20\n",
      "141/141 [==============================] - 10s 69ms/step - loss: 0.8997 - accuracy: 0.7104 - val_loss: 0.7225 - val_accuracy: 0.7718\n",
      "Epoch 20/20\n",
      "141/141 [==============================] - 10s 68ms/step - loss: 0.8638 - accuracy: 0.7257 - val_loss: 0.7215 - val_accuracy: 0.7718\n",
      "INFO:tensorflow:Assets written to: models\\1f8m104a\\exalted-sweep-1\\assets\n"
     ]
    },
    {
     "data": {
      "text/html": [
       "<br/>Waiting for W&B process to finish, PID 7384<br/>Program ended successfully."
      ],
      "text/plain": [
       "<IPython.core.display.HTML object>"
      ]
     },
     "metadata": {},
     "output_type": "display_data"
    },
    {
     "data": {
      "application/vnd.jupyter.widget-view+json": {
       "model_id": "",
       "version_major": 2,
       "version_minor": 0
      },
      "text/plain": [
       "VBox(children=(Label(value=' 83.89MB of 83.89MB uploaded (0.00MB deduped)\\r'), FloatProgress(value=1.0, max=1.…"
      ]
     },
     "metadata": {},
     "output_type": "display_data"
    },
    {
     "data": {
      "text/html": [
       "Find user logs for this run at: <code>C:\\Users\\Jaitesh\\Desktop\\Courses\\DL\\ConvolutionalNetwork\\wandb\\run-20210415_092840-s1t4jmxq\\logs\\debug.log</code>"
      ],
      "text/plain": [
       "<IPython.core.display.HTML object>"
      ]
     },
     "metadata": {},
     "output_type": "display_data"
    },
    {
     "data": {
      "text/html": [
       "Find internal logs for this run at: <code>C:\\Users\\Jaitesh\\Desktop\\Courses\\DL\\ConvolutionalNetwork\\wandb\\run-20210415_092840-s1t4jmxq\\logs\\debug-internal.log</code>"
      ],
      "text/plain": [
       "<IPython.core.display.HTML object>"
      ]
     },
     "metadata": {},
     "output_type": "display_data"
    },
    {
     "data": {
      "text/html": [
       "<h3>Run summary:</h3><br/><style>\n",
       "    table.wandb td:nth-child(1) { padding: 0 10px; text-align: right }\n",
       "    </style><table class=\"wandb\">\n",
       "<tr><td>epoch</td><td>19</td></tr><tr><td>loss</td><td>0.86946</td></tr><tr><td>accuracy</td><td>0.72</td></tr><tr><td>val_loss</td><td>0.72148</td></tr><tr><td>val_accuracy</td><td>0.77177</td></tr><tr><td>_runtime</td><td>294</td></tr><tr><td>_timestamp</td><td>1618459414</td></tr><tr><td>_step</td><td>20</td></tr><tr><td>best_val_loss</td><td>0.72148</td></tr><tr><td>best_epoch</td><td>19</td></tr></table>"
      ],
      "text/plain": [
       "<IPython.core.display.HTML object>"
      ]
     },
     "metadata": {},
     "output_type": "display_data"
    },
    {
     "data": {
      "text/html": [
       "<h3>Run history:</h3><br/><style>\n",
       "    table.wandb td:nth-child(1) { padding: 0 10px; text-align: right }\n",
       "    </style><table class=\"wandb\">\n",
       "<tr><td>epoch</td><td>▁▁▂▂▂▃▃▄▄▄▄▅▅▅▆▆▇▇▇██</td></tr><tr><td>loss</td><td>█▅▃▂▂▂▂▁▁▁▁▁▁▁▁▁▁▁▁▁▁</td></tr><tr><td>accuracy</td><td>▁▅▇▇▇▇▇██████████████</td></tr><tr><td>val_loss</td><td>█▅▃▂▂▂▂▁▁▁▁▁▁▁▁▁▁▁▁▁▁</td></tr><tr><td>val_accuracy</td><td>▁▅▆▇▇▇███████████████</td></tr><tr><td>_runtime</td><td>▁▁▂▂▂▃▃▃▄▄▅▅▅▆▆▆▇▇▇██</td></tr><tr><td>_timestamp</td><td>▁▁▂▂▂▃▃▃▄▄▅▅▅▆▆▆▇▇▇██</td></tr><tr><td>_step</td><td>▁▁▂▂▂▃▃▃▄▄▅▅▅▆▆▆▇▇▇██</td></tr></table><br/>"
      ],
      "text/plain": [
       "<IPython.core.display.HTML object>"
      ]
     },
     "metadata": {},
     "output_type": "display_data"
    },
    {
     "data": {
      "text/html": [
       "Synced 5 W&B file(s), 1 media file(s), 0 artifact file(s) and 1 other file(s)"
      ],
      "text/plain": [
       "<IPython.core.display.HTML object>"
      ]
     },
     "metadata": {},
     "output_type": "display_data"
    },
    {
     "data": {
      "text/html": [
       "\n",
       "                    <br/>Synced <strong style=\"color:#cdcd00\">exalted-sweep-1</strong>: <a href=\"https://wandb.ai/mooizz/conv_inaturalist/runs/s1t4jmxq\" target=\"_blank\">https://wandb.ai/mooizz/conv_inaturalist/runs/s1t4jmxq</a><br/>\n",
       "                "
      ],
      "text/plain": [
       "<IPython.core.display.HTML object>"
      ]
     },
     "metadata": {},
     "output_type": "display_data"
    },
    {
     "name": "stderr",
     "output_type": "stream",
     "text": [
      "wandb: Agent Starting Run: s2gy11hi with config:\n",
      "wandb: \tepochs: 10\n",
      "wandb: \tmodel_name: InceptionV3\n",
      "wandb: \tstrategy: 2\n",
      "wandb: wandb version 0.10.26 is available!  To upgrade, please run:\n",
      "wandb:  $ pip install wandb --upgrade\n"
     ]
    },
    {
     "data": {
      "text/html": [
       "\n",
       "                Tracking run with wandb version 0.10.25<br/>\n",
       "                Syncing run <strong style=\"color:#cdcd00\">eager-sweep-2</strong> to <a href=\"https://wandb.ai\" target=\"_blank\">Weights & Biases</a> <a href=\"https://docs.wandb.com/integrations/jupyter.html\" target=\"_blank\">(Documentation)</a>.<br/>\n",
       "                Project page: <a href=\"https://wandb.ai/mooizz/conv_inaturalist\" target=\"_blank\">https://wandb.ai/mooizz/conv_inaturalist</a><br/>\n",
       "                Sweep page: <a href=\"https://wandb.ai/mooizz/conv_inaturalist/sweeps/1f8m104a\" target=\"_blank\">https://wandb.ai/mooizz/conv_inaturalist/sweeps/1f8m104a</a><br/>\n",
       "Run page: <a href=\"https://wandb.ai/mooizz/conv_inaturalist/runs/s2gy11hi\" target=\"_blank\">https://wandb.ai/mooizz/conv_inaturalist/runs/s2gy11hi</a><br/>\n",
       "                Run data is saved locally in <code>C:\\Users\\Jaitesh\\Desktop\\Courses\\DL\\ConvolutionalNetwork\\wandb\\run-20210415_093429-s2gy11hi</code><br/><br/>\n",
       "            "
      ],
      "text/plain": [
       "<IPython.core.display.HTML object>"
      ]
     },
     "metadata": {},
     "output_type": "display_data"
    },
    {
     "name": "stdout",
     "output_type": "stream",
     "text": [
      "Epoch 1/10\n",
      "141/141 [==============================] - 14s 75ms/step - loss: 2.2457 - accuracy: 0.2027 - val_loss: 1.5618 - val_accuracy: 0.5706\n",
      "Epoch 2/10\n",
      "141/141 [==============================] - 10s 69ms/step - loss: 1.5760 - accuracy: 0.5185 - val_loss: 1.1713 - val_accuracy: 0.6767\n",
      "Epoch 3/10\n",
      "141/141 [==============================] - 10s 68ms/step - loss: 1.2693 - accuracy: 0.6240 - val_loss: 0.9949 - val_accuracy: 0.7187\n",
      "Epoch 4/10\n",
      "141/141 [==============================] - 10s 70ms/step - loss: 1.1283 - accuracy: 0.6558 - val_loss: 0.9020 - val_accuracy: 0.7457\n",
      "Epoch 5/10\n",
      "141/141 [==============================] - 10s 70ms/step - loss: 1.0512 - accuracy: 0.6774 - val_loss: 0.8462 - val_accuracy: 0.7598\n",
      "Epoch 6/10\n",
      "141/141 [==============================] - 10s 72ms/step - loss: 1.0014 - accuracy: 0.6922 - val_loss: 0.8098 - val_accuracy: 0.7638\n",
      "Epoch 7/10\n",
      "141/141 [==============================] - 10s 69ms/step - loss: 0.9590 - accuracy: 0.7047 - val_loss: 0.7831 - val_accuracy: 0.7718\n",
      "Epoch 8/10\n",
      "141/141 [==============================] - 10s 68ms/step - loss: 0.9421 - accuracy: 0.7093 - val_loss: 0.7649 - val_accuracy: 0.7728\n",
      "Epoch 9/10\n",
      "141/141 [==============================] - 10s 71ms/step - loss: 0.9123 - accuracy: 0.7059 - val_loss: 0.7502 - val_accuracy: 0.7708\n",
      "Epoch 10/10\n",
      "141/141 [==============================] - 10s 68ms/step - loss: 0.8969 - accuracy: 0.7112 - val_loss: 0.7369 - val_accuracy: 0.7788\n",
      "Number of layers in base Model:  311\n",
      "3\n",
      "Epoch 10/20\n",
      "141/141 [==============================] - 14s 77ms/step - loss: 0.8916 - accuracy: 0.7173 - val_loss: 0.7361 - val_accuracy: 0.7738\n",
      "Epoch 11/20\n",
      "141/141 [==============================] - 10s 72ms/step - loss: 0.8884 - accuracy: 0.7164 - val_loss: 0.7355 - val_accuracy: 0.7768\n",
      "Epoch 12/20\n",
      "141/141 [==============================] - 11s 76ms/step - loss: 0.8839 - accuracy: 0.7238 - val_loss: 0.7345 - val_accuracy: 0.7778\n",
      "Epoch 13/20\n",
      "141/141 [==============================] - 11s 78ms/step - loss: 0.8790 - accuracy: 0.7186 - val_loss: 0.7338 - val_accuracy: 0.7758\n",
      "Epoch 14/20\n",
      "141/141 [==============================] - 10s 71ms/step - loss: 0.8901 - accuracy: 0.7234 - val_loss: 0.7325 - val_accuracy: 0.7768\n",
      "Epoch 15/20\n",
      "141/141 [==============================] - 11s 79ms/step - loss: 0.8791 - accuracy: 0.7168 - val_loss: 0.7313 - val_accuracy: 0.7778\n",
      "Epoch 16/20\n",
      "141/141 [==============================] - 11s 75ms/step - loss: 0.8621 - accuracy: 0.7226 - val_loss: 0.7307 - val_accuracy: 0.7748\n",
      "Epoch 17/20\n",
      "141/141 [==============================] - 11s 75ms/step - loss: 0.8754 - accuracy: 0.7196 - val_loss: 0.7293 - val_accuracy: 0.7778\n",
      "Epoch 18/20\n",
      "141/141 [==============================] - 11s 78ms/step - loss: 0.8789 - accuracy: 0.7173 - val_loss: 0.7286 - val_accuracy: 0.7758\n",
      "Epoch 19/20\n",
      "141/141 [==============================] - 11s 79ms/step - loss: 0.8595 - accuracy: 0.7280 - val_loss: 0.7269 - val_accuracy: 0.7768\n",
      "Epoch 20/20\n",
      "141/141 [==============================] - 11s 77ms/step - loss: 0.8640 - accuracy: 0.7206 - val_loss: 0.7260 - val_accuracy: 0.7768\n",
      "INFO:tensorflow:Assets written to: models\\1f8m104a\\eager-sweep-2\\assets\n"
     ]
    },
    {
     "data": {
      "text/html": [
       "<br/>Waiting for W&B process to finish, PID 29440<br/>Program ended successfully."
      ],
      "text/plain": [
       "<IPython.core.display.HTML object>"
      ]
     },
     "metadata": {},
     "output_type": "display_data"
    },
    {
     "data": {
      "application/vnd.jupyter.widget-view+json": {
       "model_id": "",
       "version_major": 2,
       "version_minor": 0
      },
      "text/plain": [
       "VBox(children=(Label(value=' 83.89MB of 83.89MB uploaded (0.00MB deduped)\\r'), FloatProgress(value=1.0, max=1.…"
      ]
     },
     "metadata": {},
     "output_type": "display_data"
    },
    {
     "data": {
      "text/html": [
       "Find user logs for this run at: <code>C:\\Users\\Jaitesh\\Desktop\\Courses\\DL\\ConvolutionalNetwork\\wandb\\run-20210415_093429-s2gy11hi\\logs\\debug.log</code>"
      ],
      "text/plain": [
       "<IPython.core.display.HTML object>"
      ]
     },
     "metadata": {},
     "output_type": "display_data"
    },
    {
     "data": {
      "text/html": [
       "Find internal logs for this run at: <code>C:\\Users\\Jaitesh\\Desktop\\Courses\\DL\\ConvolutionalNetwork\\wandb\\run-20210415_093429-s2gy11hi\\logs\\debug-internal.log</code>"
      ],
      "text/plain": [
       "<IPython.core.display.HTML object>"
      ]
     },
     "metadata": {},
     "output_type": "display_data"
    },
    {
     "data": {
      "text/html": [
       "<h3>Run summary:</h3><br/><style>\n",
       "    table.wandb td:nth-child(1) { padding: 0 10px; text-align: right }\n",
       "    </style><table class=\"wandb\">\n",
       "<tr><td>epoch</td><td>19</td></tr><tr><td>loss</td><td>0.86761</td></tr><tr><td>accuracy</td><td>0.72289</td></tr><tr><td>val_loss</td><td>0.72601</td></tr><tr><td>val_accuracy</td><td>0.77678</td></tr><tr><td>_runtime</td><td>233</td></tr><tr><td>_timestamp</td><td>1618459702</td></tr><tr><td>_step</td><td>20</td></tr><tr><td>best_val_loss</td><td>0.72601</td></tr><tr><td>best_epoch</td><td>19</td></tr></table>"
      ],
      "text/plain": [
       "<IPython.core.display.HTML object>"
      ]
     },
     "metadata": {},
     "output_type": "display_data"
    },
    {
     "data": {
      "text/html": [
       "<h3>Run history:</h3><br/><style>\n",
       "    table.wandb td:nth-child(1) { padding: 0 10px; text-align: right }\n",
       "    </style><table class=\"wandb\">\n",
       "<tr><td>epoch</td><td>▁▁▂▂▂▃▃▄▄▄▄▅▅▅▆▆▇▇▇██</td></tr><tr><td>loss</td><td>█▅▃▂▂▂▂▁▁▁▁▁▁▁▁▁▁▁▁▁▁</td></tr><tr><td>accuracy</td><td>▁▅▇▇▇▇███████████████</td></tr><tr><td>val_loss</td><td>█▅▃▂▂▂▁▁▁▁▁▁▁▁▁▁▁▁▁▁▁</td></tr><tr><td>val_accuracy</td><td>▁▅▆▇▇▇███████████████</td></tr><tr><td>_runtime</td><td>▁▁▂▂▂▃▃▃▄▄▄▅▅▅▆▆▇▇▇██</td></tr><tr><td>_timestamp</td><td>▁▁▂▂▂▃▃▃▄▄▄▅▅▅▆▆▇▇▇██</td></tr><tr><td>_step</td><td>▁▁▂▂▂▃▃▃▄▄▅▅▅▆▆▆▇▇▇██</td></tr></table><br/>"
      ],
      "text/plain": [
       "<IPython.core.display.HTML object>"
      ]
     },
     "metadata": {},
     "output_type": "display_data"
    },
    {
     "data": {
      "text/html": [
       "Synced 5 W&B file(s), 1 media file(s), 0 artifact file(s) and 1 other file(s)"
      ],
      "text/plain": [
       "<IPython.core.display.HTML object>"
      ]
     },
     "metadata": {},
     "output_type": "display_data"
    },
    {
     "data": {
      "text/html": [
       "\n",
       "                    <br/>Synced <strong style=\"color:#cdcd00\">eager-sweep-2</strong>: <a href=\"https://wandb.ai/mooizz/conv_inaturalist/runs/s2gy11hi\" target=\"_blank\">https://wandb.ai/mooizz/conv_inaturalist/runs/s2gy11hi</a><br/>\n",
       "                "
      ],
      "text/plain": [
       "<IPython.core.display.HTML object>"
      ]
     },
     "metadata": {},
     "output_type": "display_data"
    },
    {
     "name": "stderr",
     "output_type": "stream",
     "text": [
      "wandb: Agent Starting Run: obcioj3t with config:\n",
      "wandb: \tepochs: 10\n",
      "wandb: \tmodel_name: InceptionV3\n",
      "wandb: \tstrategy: 3\n",
      "wandb: wandb version 0.10.26 is available!  To upgrade, please run:\n",
      "wandb:  $ pip install wandb --upgrade\n"
     ]
    },
    {
     "data": {
      "text/html": [
       "\n",
       "                Tracking run with wandb version 0.10.25<br/>\n",
       "                Syncing run <strong style=\"color:#cdcd00\">robust-sweep-3</strong> to <a href=\"https://wandb.ai\" target=\"_blank\">Weights & Biases</a> <a href=\"https://docs.wandb.com/integrations/jupyter.html\" target=\"_blank\">(Documentation)</a>.<br/>\n",
       "                Project page: <a href=\"https://wandb.ai/mooizz/conv_inaturalist\" target=\"_blank\">https://wandb.ai/mooizz/conv_inaturalist</a><br/>\n",
       "                Sweep page: <a href=\"https://wandb.ai/mooizz/conv_inaturalist/sweeps/1f8m104a\" target=\"_blank\">https://wandb.ai/mooizz/conv_inaturalist/sweeps/1f8m104a</a><br/>\n",
       "Run page: <a href=\"https://wandb.ai/mooizz/conv_inaturalist/runs/obcioj3t\" target=\"_blank\">https://wandb.ai/mooizz/conv_inaturalist/runs/obcioj3t</a><br/>\n",
       "                Run data is saved locally in <code>C:\\Users\\Jaitesh\\Desktop\\Courses\\DL\\ConvolutionalNetwork\\wandb\\run-20210415_093918-obcioj3t</code><br/><br/>\n",
       "            "
      ],
      "text/plain": [
       "<IPython.core.display.HTML object>"
      ]
     },
     "metadata": {},
     "output_type": "display_data"
    },
    {
     "name": "stdout",
     "output_type": "stream",
     "text": [
      "Epoch 1/10\n",
      "141/141 [==============================] - 16s 80ms/step - loss: 2.2464 - accuracy: 0.2013 - val_loss: 1.5430 - val_accuracy: 0.5716\n",
      "Epoch 2/10\n",
      "141/141 [==============================] - 10s 68ms/step - loss: 1.5654 - accuracy: 0.5208 - val_loss: 1.1604 - val_accuracy: 0.6837\n",
      "Epoch 3/10\n",
      "141/141 [==============================] - 10s 69ms/step - loss: 1.2530 - accuracy: 0.6389 - val_loss: 0.9886 - val_accuracy: 0.7167\n",
      "Epoch 4/10\n",
      "141/141 [==============================] - 10s 70ms/step - loss: 1.1128 - accuracy: 0.6729 - val_loss: 0.8959 - val_accuracy: 0.7327\n",
      "Epoch 5/10\n",
      "141/141 [==============================] - 10s 69ms/step - loss: 1.0285 - accuracy: 0.6815 - val_loss: 0.8440 - val_accuracy: 0.7447\n",
      "Epoch 6/10\n",
      "141/141 [==============================] - 11s 75ms/step - loss: 1.0051 - accuracy: 0.6869 - val_loss: 0.8082 - val_accuracy: 0.7568\n",
      "Epoch 7/10\n",
      "141/141 [==============================] - 10s 73ms/step - loss: 0.9570 - accuracy: 0.6987 - val_loss: 0.7817 - val_accuracy: 0.7558\n",
      "Epoch 8/10\n",
      "141/141 [==============================] - 10s 71ms/step - loss: 0.9424 - accuracy: 0.6978 - val_loss: 0.7639 - val_accuracy: 0.7648\n",
      "Epoch 9/10\n",
      "141/141 [==============================] - 10s 70ms/step - loss: 0.8994 - accuracy: 0.7164 - val_loss: 0.7470 - val_accuracy: 0.7648\n",
      "Epoch 10/10\n",
      "141/141 [==============================] - 10s 74ms/step - loss: 0.8976 - accuracy: 0.7156 - val_loss: 0.7345 - val_accuracy: 0.7698\n",
      "Number of layers in base Model:  311\n",
      "29\n",
      "Epoch 10/20\n",
      "141/141 [==============================] - 19s 96ms/step - loss: 0.8789 - accuracy: 0.7189 - val_loss: 0.6712 - val_accuracy: 0.7868\n",
      "Epoch 11/20\n",
      "141/141 [==============================] - 11s 81ms/step - loss: 0.8240 - accuracy: 0.7324 - val_loss: 0.6466 - val_accuracy: 0.7898\n",
      "Epoch 12/20\n",
      "141/141 [==============================] - 13s 94ms/step - loss: 0.7476 - accuracy: 0.7513 - val_loss: 0.6278 - val_accuracy: 0.7908\n",
      "Epoch 13/20\n",
      "141/141 [==============================] - 13s 95ms/step - loss: 0.7077 - accuracy: 0.7633 - val_loss: 0.6115 - val_accuracy: 0.7938\n",
      "Epoch 14/20\n",
      "141/141 [==============================] - 12s 84ms/step - loss: 0.6964 - accuracy: 0.7702 - val_loss: 0.6053 - val_accuracy: 0.7988\n",
      "Epoch 15/20\n",
      "141/141 [==============================] - 13s 89ms/step - loss: 0.6541 - accuracy: 0.7808 - val_loss: 0.6007 - val_accuracy: 0.7998\n",
      "Epoch 16/20\n",
      "141/141 [==============================] - 15s 103ms/step - loss: 0.6377 - accuracy: 0.7881 - val_loss: 0.5914 - val_accuracy: 0.8058\n",
      "Epoch 17/20\n",
      "141/141 [==============================] - 13s 95ms/step - loss: 0.6253 - accuracy: 0.7858 - val_loss: 0.5924 - val_accuracy: 0.7978\n",
      "Epoch 18/20\n",
      "141/141 [==============================] - 13s 95ms/step - loss: 0.5961 - accuracy: 0.7999 - val_loss: 0.5873 - val_accuracy: 0.8078\n",
      "Epoch 19/20\n",
      "141/141 [==============================] - 14s 96ms/step - loss: 0.5790 - accuracy: 0.8056 - val_loss: 0.5852 - val_accuracy: 0.8058\n",
      "Epoch 20/20\n",
      "141/141 [==============================] - 13s 91ms/step - loss: 0.5656 - accuracy: 0.8096 - val_loss: 0.5760 - val_accuracy: 0.8068\n",
      "INFO:tensorflow:Assets written to: models\\1f8m104a\\robust-sweep-3\\assets\n"
     ]
    },
    {
     "data": {
      "text/html": [
       "<br/>Waiting for W&B process to finish, PID 29492<br/>Program ended successfully."
      ],
      "text/plain": [
       "<IPython.core.display.HTML object>"
      ]
     },
     "metadata": {},
     "output_type": "display_data"
    },
    {
     "data": {
      "application/vnd.jupyter.widget-view+json": {
       "model_id": "",
       "version_major": 2,
       "version_minor": 0
      },
      "text/plain": [
       "VBox(children=(Label(value=' 83.89MB of 83.89MB uploaded (0.00MB deduped)\\r'), FloatProgress(value=1.0, max=1.…"
      ]
     },
     "metadata": {},
     "output_type": "display_data"
    },
    {
     "data": {
      "text/html": [
       "Find user logs for this run at: <code>C:\\Users\\Jaitesh\\Desktop\\Courses\\DL\\ConvolutionalNetwork\\wandb\\run-20210415_093918-obcioj3t\\logs\\debug.log</code>"
      ],
      "text/plain": [
       "<IPython.core.display.HTML object>"
      ]
     },
     "metadata": {},
     "output_type": "display_data"
    },
    {
     "data": {
      "text/html": [
       "Find internal logs for this run at: <code>C:\\Users\\Jaitesh\\Desktop\\Courses\\DL\\ConvolutionalNetwork\\wandb\\run-20210415_093918-obcioj3t\\logs\\debug-internal.log</code>"
      ],
      "text/plain": [
       "<IPython.core.display.HTML object>"
      ]
     },
     "metadata": {},
     "output_type": "display_data"
    },
    {
     "data": {
      "text/html": [
       "<h3>Run summary:</h3><br/><style>\n",
       "    table.wandb td:nth-child(1) { padding: 0 10px; text-align: right }\n",
       "    </style><table class=\"wandb\">\n",
       "<tr><td>epoch</td><td>19</td></tr><tr><td>loss</td><td>0.56885</td></tr><tr><td>accuracy</td><td>0.80711</td></tr><tr><td>val_loss</td><td>0.57601</td></tr><tr><td>val_accuracy</td><td>0.80681</td></tr><tr><td>_runtime</td><td>266</td></tr><tr><td>_timestamp</td><td>1618460024</td></tr><tr><td>_step</td><td>20</td></tr><tr><td>best_val_loss</td><td>0.57601</td></tr><tr><td>best_epoch</td><td>19</td></tr></table>"
      ],
      "text/plain": [
       "<IPython.core.display.HTML object>"
      ]
     },
     "metadata": {},
     "output_type": "display_data"
    },
    {
     "data": {
      "text/html": [
       "<h3>Run history:</h3><br/><style>\n",
       "    table.wandb td:nth-child(1) { padding: 0 10px; text-align: right }\n",
       "    </style><table class=\"wandb\">\n",
       "<tr><td>epoch</td><td>▁▁▂▂▂▃▃▄▄▄▄▅▅▅▆▆▇▇▇██</td></tr><tr><td>loss</td><td>█▅▄▄▃▃▃▃▃▃▂▂▂▂▂▁▁▁▁▁▁</td></tr><tr><td>accuracy</td><td>▁▅▆▆▆▆▇▇▇▇▇▇▇▇███████</td></tr><tr><td>val_loss</td><td>█▅▄▃▃▃▂▂▂▂▂▂▁▁▁▁▁▁▁▁▁</td></tr><tr><td>val_accuracy</td><td>▁▄▅▆▆▆▆▇▇▇▇▇▇████████</td></tr><tr><td>_runtime</td><td>▁▁▂▂▂▂▃▃▃▄▄▅▅▅▆▆▆▇▇██</td></tr><tr><td>_timestamp</td><td>▁▁▂▂▂▂▃▃▃▄▄▅▅▅▆▆▆▇▇██</td></tr><tr><td>_step</td><td>▁▁▂▂▂▃▃▃▄▄▅▅▅▆▆▆▇▇▇██</td></tr></table><br/>"
      ],
      "text/plain": [
       "<IPython.core.display.HTML object>"
      ]
     },
     "metadata": {},
     "output_type": "display_data"
    },
    {
     "data": {
      "text/html": [
       "Synced 5 W&B file(s), 1 media file(s), 0 artifact file(s) and 1 other file(s)"
      ],
      "text/plain": [
       "<IPython.core.display.HTML object>"
      ]
     },
     "metadata": {},
     "output_type": "display_data"
    },
    {
     "data": {
      "text/html": [
       "\n",
       "                    <br/>Synced <strong style=\"color:#cdcd00\">robust-sweep-3</strong>: <a href=\"https://wandb.ai/mooizz/conv_inaturalist/runs/obcioj3t\" target=\"_blank\">https://wandb.ai/mooizz/conv_inaturalist/runs/obcioj3t</a><br/>\n",
       "                "
      ],
      "text/plain": [
       "<IPython.core.display.HTML object>"
      ]
     },
     "metadata": {},
     "output_type": "display_data"
    },
    {
     "name": "stderr",
     "output_type": "stream",
     "text": [
      "wandb: Agent Starting Run: 36fdvxya with config:\n",
      "wandb: \tepochs: 10\n",
      "wandb: \tmodel_name: InceptionResNetV2\n",
      "wandb: \tstrategy: 1\n",
      "wandb: wandb version 0.10.26 is available!  To upgrade, please run:\n",
      "wandb:  $ pip install wandb --upgrade\n"
     ]
    },
    {
     "data": {
      "text/html": [
       "\n",
       "                Tracking run with wandb version 0.10.25<br/>\n",
       "                Syncing run <strong style=\"color:#cdcd00\">faithful-sweep-4</strong> to <a href=\"https://wandb.ai\" target=\"_blank\">Weights & Biases</a> <a href=\"https://docs.wandb.com/integrations/jupyter.html\" target=\"_blank\">(Documentation)</a>.<br/>\n",
       "                Project page: <a href=\"https://wandb.ai/mooizz/conv_inaturalist\" target=\"_blank\">https://wandb.ai/mooizz/conv_inaturalist</a><br/>\n",
       "                Sweep page: <a href=\"https://wandb.ai/mooizz/conv_inaturalist/sweeps/1f8m104a\" target=\"_blank\">https://wandb.ai/mooizz/conv_inaturalist/sweeps/1f8m104a</a><br/>\n",
       "Run page: <a href=\"https://wandb.ai/mooizz/conv_inaturalist/runs/36fdvxya\" target=\"_blank\">https://wandb.ai/mooizz/conv_inaturalist/runs/36fdvxya</a><br/>\n",
       "                Run data is saved locally in <code>C:\\Users\\Jaitesh\\Desktop\\Courses\\DL\\ConvolutionalNetwork\\wandb\\run-20210415_094444-36fdvxya</code><br/><br/>\n",
       "            "
      ],
      "text/plain": [
       "<IPython.core.display.HTML object>"
      ]
     },
     "metadata": {},
     "output_type": "display_data"
    },
    {
     "name": "stdout",
     "output_type": "stream",
     "text": [
      "Epoch 1/10\n",
      "141/141 [==============================] - 48s 258ms/step - loss: 2.3094 - accuracy: 0.1979 - val_loss: 1.4213 - val_accuracy: 0.6767\n",
      "Epoch 2/10\n",
      "141/141 [==============================] - 28s 198ms/step - loss: 1.4778 - accuracy: 0.5772 - val_loss: 1.0051 - val_accuracy: 0.7578\n",
      "Epoch 3/10\n",
      "141/141 [==============================] - 30s 213ms/step - loss: 1.1473 - accuracy: 0.6746 - val_loss: 0.8413 - val_accuracy: 0.7838\n",
      "Epoch 4/10\n",
      "141/141 [==============================] - 32s 225ms/step - loss: 1.0148 - accuracy: 0.7050 - val_loss: 0.7582 - val_accuracy: 0.7908\n",
      "Epoch 5/10\n",
      "141/141 [==============================] - 33s 236ms/step - loss: 0.9458 - accuracy: 0.7159 - val_loss: 0.7145 - val_accuracy: 0.7948\n",
      "Epoch 6/10\n",
      "141/141 [==============================] - 31s 221ms/step - loss: 0.9157 - accuracy: 0.7249 - val_loss: 0.6863 - val_accuracy: 0.7918\n",
      "Epoch 7/10\n",
      "141/141 [==============================] - 31s 223ms/step - loss: 0.8979 - accuracy: 0.7306 - val_loss: 0.6685 - val_accuracy: 0.7948\n",
      "Epoch 8/10\n",
      "141/141 [==============================] - 33s 235ms/step - loss: 0.8538 - accuracy: 0.7364 - val_loss: 0.6514 - val_accuracy: 0.7988\n",
      "Epoch 9/10\n",
      "141/141 [==============================] - 30s 214ms/step - loss: 0.8574 - accuracy: 0.7389 - val_loss: 0.6386 - val_accuracy: 0.8038\n",
      "Epoch 10/10\n",
      "141/141 [==============================] - 31s 219ms/step - loss: 0.8169 - accuracy: 0.7447 - val_loss: 0.6311 - val_accuracy: 0.8048\n",
      "Number of layers in base Model:  780\n",
      "2\n",
      "Epoch 10/20\n",
      "141/141 [==============================] - 44s 252ms/step - loss: 0.8328 - accuracy: 0.7404 - val_loss: 0.6298 - val_accuracy: 0.8108\n",
      "Epoch 11/20\n",
      "141/141 [==============================] - 27s 191ms/step - loss: 0.8086 - accuracy: 0.7487 - val_loss: 0.6292 - val_accuracy: 0.8108\n",
      "Epoch 12/20\n",
      "141/141 [==============================] - 34s 240ms/step - loss: 0.8259 - accuracy: 0.7438 - val_loss: 0.6285 - val_accuracy: 0.8128\n",
      "Epoch 13/20\n",
      "141/141 [==============================] - 32s 225ms/step - loss: 0.8103 - accuracy: 0.7476 - val_loss: 0.6280 - val_accuracy: 0.8128\n",
      "Epoch 14/20\n",
      "141/141 [==============================] - 28s 199ms/step - loss: 0.8285 - accuracy: 0.7445 - val_loss: 0.6268 - val_accuracy: 0.8138\n",
      "Epoch 15/20\n",
      "141/141 [==============================] - 28s 200ms/step - loss: 0.8087 - accuracy: 0.7522 - val_loss: 0.6264 - val_accuracy: 0.8148\n",
      "Epoch 16/20\n",
      "141/141 [==============================] - 29s 206ms/step - loss: 0.8178 - accuracy: 0.7377 - val_loss: 0.6258 - val_accuracy: 0.8138\n",
      "Epoch 17/20\n",
      "141/141 [==============================] - 31s 217ms/step - loss: 0.8297 - accuracy: 0.7373 - val_loss: 0.6249 - val_accuracy: 0.8148\n",
      "Epoch 18/20\n",
      "141/141 [==============================] - 30s 211ms/step - loss: 0.8060 - accuracy: 0.7498 - val_loss: 0.6244 - val_accuracy: 0.8148\n",
      "Epoch 19/20\n",
      "141/141 [==============================] - 31s 222ms/step - loss: 0.7974 - accuracy: 0.7535 - val_loss: 0.6232 - val_accuracy: 0.8128\n",
      "Epoch 20/20\n",
      "141/141 [==============================] - 30s 213ms/step - loss: 0.8177 - accuracy: 0.7430 - val_loss: 0.6222 - val_accuracy: 0.8138\n",
      "INFO:tensorflow:Assets written to: models\\1f8m104a\\faithful-sweep-4\\assets\n"
     ]
    },
    {
     "data": {
      "text/html": [
       "<br/>Waiting for W&B process to finish, PID 31852<br/>Program ended successfully."
      ],
      "text/plain": [
       "<IPython.core.display.HTML object>"
      ]
     },
     "metadata": {},
     "output_type": "display_data"
    },
    {
     "data": {
      "application/vnd.jupyter.widget-view+json": {
       "model_id": "",
       "version_major": 2,
       "version_minor": 0
      },
      "text/plain": [
       "VBox(children=(Label(value=' 208.61MB of 208.61MB uploaded (0.00MB deduped)\\r'), FloatProgress(value=1.0, max=…"
      ]
     },
     "metadata": {},
     "output_type": "display_data"
    },
    {
     "data": {
      "text/html": [
       "Find user logs for this run at: <code>C:\\Users\\Jaitesh\\Desktop\\Courses\\DL\\ConvolutionalNetwork\\wandb\\run-20210415_094444-36fdvxya\\logs\\debug.log</code>"
      ],
      "text/plain": [
       "<IPython.core.display.HTML object>"
      ]
     },
     "metadata": {},
     "output_type": "display_data"
    },
    {
     "data": {
      "text/html": [
       "Find internal logs for this run at: <code>C:\\Users\\Jaitesh\\Desktop\\Courses\\DL\\ConvolutionalNetwork\\wandb\\run-20210415_094444-36fdvxya\\logs\\debug-internal.log</code>"
      ],
      "text/plain": [
       "<IPython.core.display.HTML object>"
      ]
     },
     "metadata": {},
     "output_type": "display_data"
    },
    {
     "data": {
      "text/html": [
       "<h3>Run summary:</h3><br/><style>\n",
       "    table.wandb td:nth-child(1) { padding: 0 10px; text-align: right }\n",
       "    </style><table class=\"wandb\">\n",
       "<tr><td>epoch</td><td>19</td></tr><tr><td>loss</td><td>0.80941</td></tr><tr><td>accuracy</td><td>0.745</td></tr><tr><td>val_loss</td><td>0.62222</td></tr><tr><td>val_accuracy</td><td>0.81381</td></tr><tr><td>_runtime</td><td>691</td></tr><tr><td>_timestamp</td><td>1618460775</td></tr><tr><td>_step</td><td>20</td></tr><tr><td>best_val_loss</td><td>0.62222</td></tr><tr><td>best_epoch</td><td>19</td></tr></table>"
      ],
      "text/plain": [
       "<IPython.core.display.HTML object>"
      ]
     },
     "metadata": {},
     "output_type": "display_data"
    },
    {
     "data": {
      "text/html": [
       "<h3>Run history:</h3><br/><style>\n",
       "    table.wandb td:nth-child(1) { padding: 0 10px; text-align: right }\n",
       "    </style><table class=\"wandb\">\n",
       "<tr><td>epoch</td><td>▁▁▂▂▂▃▃▄▄▄▄▅▅▅▆▆▇▇▇██</td></tr><tr><td>loss</td><td>█▄▃▂▂▂▁▁▁▁▁▁▁▁▁▁▁▁▁▁▁</td></tr><tr><td>accuracy</td><td>▁▆▇▇▇████████████████</td></tr><tr><td>val_loss</td><td>█▄▃▂▂▂▁▁▁▁▁▁▁▁▁▁▁▁▁▁▁</td></tr><tr><td>val_accuracy</td><td>▁▅▆▇▇▇▇▇▇▇███████████</td></tr><tr><td>_runtime</td><td>▁▁▂▂▂▃▃▃▄▄▅▅▅▆▆▆▇▇▇██</td></tr><tr><td>_timestamp</td><td>▁▁▂▂▂▃▃▃▄▄▅▅▅▆▆▆▇▇▇██</td></tr><tr><td>_step</td><td>▁▁▂▂▂▃▃▃▄▄▅▅▅▆▆▆▇▇▇██</td></tr></table><br/>"
      ],
      "text/plain": [
       "<IPython.core.display.HTML object>"
      ]
     },
     "metadata": {},
     "output_type": "display_data"
    },
    {
     "data": {
      "text/html": [
       "Synced 5 W&B file(s), 1 media file(s), 0 artifact file(s) and 1 other file(s)"
      ],
      "text/plain": [
       "<IPython.core.display.HTML object>"
      ]
     },
     "metadata": {},
     "output_type": "display_data"
    },
    {
     "data": {
      "text/html": [
       "\n",
       "                    <br/>Synced <strong style=\"color:#cdcd00\">faithful-sweep-4</strong>: <a href=\"https://wandb.ai/mooizz/conv_inaturalist/runs/36fdvxya\" target=\"_blank\">https://wandb.ai/mooizz/conv_inaturalist/runs/36fdvxya</a><br/>\n",
       "                "
      ],
      "text/plain": [
       "<IPython.core.display.HTML object>"
      ]
     },
     "metadata": {},
     "output_type": "display_data"
    },
    {
     "name": "stderr",
     "output_type": "stream",
     "text": [
      "wandb: Agent Starting Run: qdxapn6p with config:\n",
      "wandb: \tepochs: 10\n",
      "wandb: \tmodel_name: InceptionResNetV2\n",
      "wandb: \tstrategy: 2\n"
     ]
    },
    {
     "data": {
      "text/html": [
       "\n",
       "                Tracking run with wandb version 0.10.25<br/>\n",
       "                Syncing run <strong style=\"color:#cdcd00\">amber-sweep-5</strong> to <a href=\"https://wandb.ai\" target=\"_blank\">Weights & Biases</a> <a href=\"https://docs.wandb.com/integrations/jupyter.html\" target=\"_blank\">(Documentation)</a>.<br/>\n",
       "                Project page: <a href=\"https://wandb.ai/mooizz/conv_inaturalist\" target=\"_blank\">https://wandb.ai/mooizz/conv_inaturalist</a><br/>\n",
       "                Sweep page: <a href=\"https://wandb.ai/mooizz/conv_inaturalist/sweeps/1f8m104a\" target=\"_blank\">https://wandb.ai/mooizz/conv_inaturalist/sweeps/1f8m104a</a><br/>\n",
       "Run page: <a href=\"https://wandb.ai/mooizz/conv_inaturalist/runs/qdxapn6p\" target=\"_blank\">https://wandb.ai/mooizz/conv_inaturalist/runs/qdxapn6p</a><br/>\n",
       "                Run data is saved locally in <code>C:\\Users\\Jaitesh\\Desktop\\Courses\\DL\\ConvolutionalNetwork\\wandb\\run-20210415_095820-qdxapn6p</code><br/><br/>\n",
       "            "
      ],
      "text/plain": [
       "<IPython.core.display.HTML object>"
      ]
     },
     "metadata": {},
     "output_type": "display_data"
    },
    {
     "name": "stdout",
     "output_type": "stream",
     "text": [
      "Epoch 1/10\n",
      "141/141 [==============================] - 41s 235ms/step - loss: 2.3573 - accuracy: 0.1756 - val_loss: 1.4682 - val_accuracy: 0.6406\n",
      "Epoch 2/10\n",
      "141/141 [==============================] - 31s 222ms/step - loss: 1.5210 - accuracy: 0.5511 - val_loss: 1.0256 - val_accuracy: 0.7487\n",
      "Epoch 3/10\n",
      "141/141 [==============================] - 31s 222ms/step - loss: 1.1744 - accuracy: 0.6635 - val_loss: 0.8538 - val_accuracy: 0.7848\n",
      "Epoch 4/10\n",
      "141/141 [==============================] - 31s 223ms/step - loss: 1.0374 - accuracy: 0.6998 - val_loss: 0.7709 - val_accuracy: 0.7928\n",
      "Epoch 5/10\n",
      "141/141 [==============================] - 31s 223ms/step - loss: 0.9835 - accuracy: 0.7073 - val_loss: 0.7252 - val_accuracy: 0.7948\n",
      "Epoch 6/10\n",
      "141/141 [==============================] - 31s 224ms/step - loss: 0.9274 - accuracy: 0.7237 - val_loss: 0.6950 - val_accuracy: 0.7998\n",
      "Epoch 7/10\n",
      "141/141 [==============================] - 32s 224ms/step - loss: 0.8927 - accuracy: 0.7269 - val_loss: 0.6765 - val_accuracy: 0.8008\n",
      "Epoch 8/10\n",
      "141/141 [==============================] - 31s 224ms/step - loss: 0.8699 - accuracy: 0.7406 - val_loss: 0.6616 - val_accuracy: 0.7988\n",
      "Epoch 9/10\n",
      "141/141 [==============================] - 32s 224ms/step - loss: 0.8414 - accuracy: 0.7412 - val_loss: 0.6508 - val_accuracy: 0.7988\n",
      "Epoch 10/10\n",
      "141/141 [==============================] - 32s 224ms/step - loss: 0.8567 - accuracy: 0.7318 - val_loss: 0.6412 - val_accuracy: 0.8068\n",
      "Number of layers in base Model:  780\n",
      "8\n",
      "Epoch 10/20\n",
      "141/141 [==============================] - 47s 254ms/step - loss: 0.8316 - accuracy: 0.7383 - val_loss: 0.6157 - val_accuracy: 0.8138\n",
      "Epoch 11/20\n",
      "141/141 [==============================] - 32s 231ms/step - loss: 0.8091 - accuracy: 0.7483 - val_loss: 0.6000 - val_accuracy: 0.8148\n",
      "Epoch 12/20\n",
      "141/141 [==============================] - 32s 230ms/step - loss: 0.7652 - accuracy: 0.7584 - val_loss: 0.5869 - val_accuracy: 0.8158\n",
      "Epoch 13/20\n",
      "141/141 [==============================] - 32s 230ms/step - loss: 0.7512 - accuracy: 0.7583 - val_loss: 0.5780 - val_accuracy: 0.8178\n",
      "Epoch 14/20\n",
      "141/141 [==============================] - 33s 231ms/step - loss: 0.7348 - accuracy: 0.7655 - val_loss: 0.5707 - val_accuracy: 0.8178\n",
      "Epoch 15/20\n",
      "141/141 [==============================] - 32s 230ms/step - loss: 0.7157 - accuracy: 0.7729 - val_loss: 0.5632 - val_accuracy: 0.8198\n",
      "Epoch 16/20\n",
      "141/141 [==============================] - 32s 230ms/step - loss: 0.7008 - accuracy: 0.7752 - val_loss: 0.5562 - val_accuracy: 0.8268\n",
      "Epoch 17/20\n",
      "141/141 [==============================] - 32s 230ms/step - loss: 0.6931 - accuracy: 0.7814 - val_loss: 0.5503 - val_accuracy: 0.8268\n",
      "Epoch 18/20\n",
      "141/141 [==============================] - 32s 230ms/step - loss: 0.6760 - accuracy: 0.7820 - val_loss: 0.5463 - val_accuracy: 0.8308\n",
      "Epoch 19/20\n",
      "141/141 [==============================] - 32s 231ms/step - loss: 0.6723 - accuracy: 0.7813 - val_loss: 0.5411 - val_accuracy: 0.8328\n",
      "Epoch 20/20\n",
      "141/141 [==============================] - 32s 230ms/step - loss: 0.6591 - accuracy: 0.7884 - val_loss: 0.5380 - val_accuracy: 0.8338\n",
      "INFO:tensorflow:Assets written to: models\\1f8m104a\\amber-sweep-5\\assets\n"
     ]
    },
    {
     "data": {
      "text/html": [
       "<br/>Waiting for W&B process to finish, PID 38268<br/>Program ended successfully."
      ],
      "text/plain": [
       "<IPython.core.display.HTML object>"
      ]
     },
     "metadata": {},
     "output_type": "display_data"
    },
    {
     "data": {
      "application/vnd.jupyter.widget-view+json": {
       "model_id": "",
       "version_major": 2,
       "version_minor": 0
      },
      "text/plain": [
       "VBox(children=(Label(value=' 208.61MB of 208.61MB uploaded (0.00MB deduped)\\r'), FloatProgress(value=1.0, max=…"
      ]
     },
     "metadata": {},
     "output_type": "display_data"
    },
    {
     "data": {
      "text/html": [
       "Find user logs for this run at: <code>C:\\Users\\Jaitesh\\Desktop\\Courses\\DL\\ConvolutionalNetwork\\wandb\\run-20210415_095820-qdxapn6p\\logs\\debug.log</code>"
      ],
      "text/plain": [
       "<IPython.core.display.HTML object>"
      ]
     },
     "metadata": {},
     "output_type": "display_data"
    },
    {
     "data": {
      "text/html": [
       "Find internal logs for this run at: <code>C:\\Users\\Jaitesh\\Desktop\\Courses\\DL\\ConvolutionalNetwork\\wandb\\run-20210415_095820-qdxapn6p\\logs\\debug-internal.log</code>"
      ],
      "text/plain": [
       "<IPython.core.display.HTML object>"
      ]
     },
     "metadata": {},
     "output_type": "display_data"
    },
    {
     "data": {
      "text/html": [
       "<h3>Run summary:</h3><br/><style>\n",
       "    table.wandb td:nth-child(1) { padding: 0 10px; text-align: right }\n",
       "    </style><table class=\"wandb\">\n",
       "<tr><td>epoch</td><td>19</td></tr><tr><td>loss</td><td>0.65311</td></tr><tr><td>accuracy</td><td>0.78722</td></tr><tr><td>val_loss</td><td>0.53804</td></tr><tr><td>val_accuracy</td><td>0.83383</td></tr><tr><td>_runtime</td><td>721</td></tr><tr><td>_timestamp</td><td>1618461621</td></tr><tr><td>_step</td><td>20</td></tr><tr><td>best_val_loss</td><td>0.53804</td></tr><tr><td>best_epoch</td><td>19</td></tr></table>"
      ],
      "text/plain": [
       "<IPython.core.display.HTML object>"
      ]
     },
     "metadata": {},
     "output_type": "display_data"
    },
    {
     "data": {
      "text/html": [
       "<h3>Run history:</h3><br/><style>\n",
       "    table.wandb td:nth-child(1) { padding: 0 10px; text-align: right }\n",
       "    </style><table class=\"wandb\">\n",
       "<tr><td>epoch</td><td>▁▁▂▂▂▃▃▄▄▄▄▅▅▅▆▆▇▇▇██</td></tr><tr><td>loss</td><td>█▅▃▃▃▂▂▂▂▂▂▂▁▁▁▁▁▁▁▁▁</td></tr><tr><td>accuracy</td><td>▁▅▆▇▇▇▇▇▇▇▇▇█████████</td></tr><tr><td>val_loss</td><td>█▅▃▃▂▂▂▂▂▂▂▁▁▁▁▁▁▁▁▁▁</td></tr><tr><td>val_accuracy</td><td>▁▅▆▇▇▇▇▇▇▇▇▇▇▇▇▇█████</td></tr><tr><td>_runtime</td><td>▁▁▂▂▂▃▃▃▄▄▅▅▅▆▆▆▇▇▇██</td></tr><tr><td>_timestamp</td><td>▁▁▂▂▂▃▃▃▄▄▅▅▅▆▆▆▇▇▇██</td></tr><tr><td>_step</td><td>▁▁▂▂▂▃▃▃▄▄▅▅▅▆▆▆▇▇▇██</td></tr></table><br/>"
      ],
      "text/plain": [
       "<IPython.core.display.HTML object>"
      ]
     },
     "metadata": {},
     "output_type": "display_data"
    },
    {
     "data": {
      "text/html": [
       "Synced 5 W&B file(s), 1 media file(s), 0 artifact file(s) and 1 other file(s)"
      ],
      "text/plain": [
       "<IPython.core.display.HTML object>"
      ]
     },
     "metadata": {},
     "output_type": "display_data"
    },
    {
     "data": {
      "text/html": [
       "\n",
       "                    <br/>Synced <strong style=\"color:#cdcd00\">amber-sweep-5</strong>: <a href=\"https://wandb.ai/mooizz/conv_inaturalist/runs/qdxapn6p\" target=\"_blank\">https://wandb.ai/mooizz/conv_inaturalist/runs/qdxapn6p</a><br/>\n",
       "                "
      ],
      "text/plain": [
       "<IPython.core.display.HTML object>"
      ]
     },
     "metadata": {},
     "output_type": "display_data"
    },
    {
     "name": "stderr",
     "output_type": "stream",
     "text": [
      "wandb: Agent Starting Run: erynsucg with config:\n",
      "wandb: \tepochs: 10\n",
      "wandb: \tmodel_name: InceptionResNetV2\n",
      "wandb: \tstrategy: 3\n",
      "wandb: wandb version 0.10.26 is available!  To upgrade, please run:\n",
      "wandb:  $ pip install wandb --upgrade\n"
     ]
    },
    {
     "data": {
      "text/html": [
       "\n",
       "                Tracking run with wandb version 0.10.25<br/>\n",
       "                Syncing run <strong style=\"color:#cdcd00\">worthy-sweep-6</strong> to <a href=\"https://wandb.ai\" target=\"_blank\">Weights & Biases</a> <a href=\"https://docs.wandb.com/integrations/jupyter.html\" target=\"_blank\">(Documentation)</a>.<br/>\n",
       "                Project page: <a href=\"https://wandb.ai/mooizz/conv_inaturalist\" target=\"_blank\">https://wandb.ai/mooizz/conv_inaturalist</a><br/>\n",
       "                Sweep page: <a href=\"https://wandb.ai/mooizz/conv_inaturalist/sweeps/1f8m104a\" target=\"_blank\">https://wandb.ai/mooizz/conv_inaturalist/sweeps/1f8m104a</a><br/>\n",
       "Run page: <a href=\"https://wandb.ai/mooizz/conv_inaturalist/runs/erynsucg\" target=\"_blank\">https://wandb.ai/mooizz/conv_inaturalist/runs/erynsucg</a><br/>\n",
       "                Run data is saved locally in <code>C:\\Users\\Jaitesh\\Desktop\\Courses\\DL\\ConvolutionalNetwork\\wandb\\run-20210415_101232-erynsucg</code><br/><br/>\n",
       "            "
      ],
      "text/plain": [
       "<IPython.core.display.HTML object>"
      ]
     },
     "metadata": {},
     "output_type": "display_data"
    },
    {
     "name": "stdout",
     "output_type": "stream",
     "text": [
      "Epoch 1/10\n",
      "141/141 [==============================] - 41s 240ms/step - loss: 2.3351 - accuracy: 0.1843 - val_loss: 1.5124 - val_accuracy: 0.6036\n",
      "Epoch 2/10\n",
      "141/141 [==============================] - 31s 223ms/step - loss: 1.4934 - accuracy: 0.5682 - val_loss: 1.0602 - val_accuracy: 0.7397\n",
      "Epoch 3/10\n",
      "141/141 [==============================] - 32s 224ms/step - loss: 1.1658 - accuracy: 0.6769 - val_loss: 0.8759 - val_accuracy: 0.7728\n",
      "Epoch 4/10\n",
      "141/141 [==============================] - 32s 226ms/step - loss: 1.0254 - accuracy: 0.6969 - val_loss: 0.7885 - val_accuracy: 0.7858\n",
      "Epoch 5/10\n",
      "141/141 [==============================] - 32s 225ms/step - loss: 0.9646 - accuracy: 0.7224 - val_loss: 0.7397 - val_accuracy: 0.7918\n",
      "Epoch 6/10\n",
      "141/141 [==============================] - 32s 226ms/step - loss: 0.9173 - accuracy: 0.7271 - val_loss: 0.7066 - val_accuracy: 0.7978\n",
      "Epoch 7/10\n",
      "141/141 [==============================] - 32s 226ms/step - loss: 0.8782 - accuracy: 0.7321 - val_loss: 0.6852 - val_accuracy: 0.7998\n",
      "Epoch 8/10\n",
      "141/141 [==============================] - 32s 226ms/step - loss: 0.8702 - accuracy: 0.7286 - val_loss: 0.6693 - val_accuracy: 0.8018\n",
      "Epoch 9/10\n",
      "141/141 [==============================] - 32s 227ms/step - loss: 0.8477 - accuracy: 0.7375 - val_loss: 0.6581 - val_accuracy: 0.8018\n",
      "Epoch 10/10\n",
      "141/141 [==============================] - 32s 226ms/step - loss: 0.8401 - accuracy: 0.7432 - val_loss: 0.6470 - val_accuracy: 0.8108\n",
      "Number of layers in base Model:  780\n",
      "34\n",
      "Epoch 10/20\n",
      "141/141 [==============================] - 45s 259ms/step - loss: 0.7913 - accuracy: 0.7568 - val_loss: 0.5718 - val_accuracy: 0.8188\n",
      "Epoch 11/20\n",
      "141/141 [==============================] - 34s 241ms/step - loss: 0.7257 - accuracy: 0.7561 - val_loss: 0.5419 - val_accuracy: 0.8268\n",
      "Epoch 12/20\n",
      "141/141 [==============================] - 34s 241ms/step - loss: 0.6933 - accuracy: 0.7660 - val_loss: 0.5306 - val_accuracy: 0.8348\n",
      "Epoch 13/20\n",
      "141/141 [==============================] - 34s 241ms/step - loss: 0.6834 - accuracy: 0.7723 - val_loss: 0.5222 - val_accuracy: 0.8298\n",
      "Epoch 14/20\n",
      "141/141 [==============================] - 34s 241ms/step - loss: 0.6332 - accuracy: 0.7863 - val_loss: 0.5130 - val_accuracy: 0.8328\n",
      "Epoch 15/20\n",
      "141/141 [==============================] - 34s 241ms/step - loss: 0.6147 - accuracy: 0.7909 - val_loss: 0.5107 - val_accuracy: 0.8368\n",
      "Epoch 16/20\n",
      "141/141 [==============================] - 34s 240ms/step - loss: 0.5968 - accuracy: 0.7953 - val_loss: 0.5092 - val_accuracy: 0.8428\n",
      "Epoch 17/20\n",
      "141/141 [==============================] - 34s 241ms/step - loss: 0.5730 - accuracy: 0.8037 - val_loss: 0.5134 - val_accuracy: 0.8398\n",
      "Epoch 18/20\n",
      "141/141 [==============================] - 34s 241ms/step - loss: 0.5584 - accuracy: 0.8086 - val_loss: 0.5111 - val_accuracy: 0.8378\n",
      "Epoch 19/20\n",
      "141/141 [==============================] - 34s 242ms/step - loss: 0.5391 - accuracy: 0.8119 - val_loss: 0.5219 - val_accuracy: 0.8368\n",
      "Epoch 20/20\n",
      "141/141 [==============================] - 34s 241ms/step - loss: 0.5192 - accuracy: 0.8175 - val_loss: 0.5111 - val_accuracy: 0.8378\n",
      "INFO:tensorflow:Assets written to: models\\1f8m104a\\worthy-sweep-6\\assets\n"
     ]
    },
    {
     "data": {
      "text/html": [
       "<br/>Waiting for W&B process to finish, PID 37104<br/>Program ended successfully."
      ],
      "text/plain": [
       "<IPython.core.display.HTML object>"
      ]
     },
     "metadata": {},
     "output_type": "display_data"
    },
    {
     "data": {
      "application/vnd.jupyter.widget-view+json": {
       "model_id": "",
       "version_major": 2,
       "version_minor": 0
      },
      "text/plain": [
       "VBox(children=(Label(value=' 208.61MB of 208.61MB uploaded (0.00MB deduped)\\r'), FloatProgress(value=1.0, max=…"
      ]
     },
     "metadata": {},
     "output_type": "display_data"
    },
    {
     "data": {
      "text/html": [
       "Find user logs for this run at: <code>C:\\Users\\Jaitesh\\Desktop\\Courses\\DL\\ConvolutionalNetwork\\wandb\\run-20210415_101232-erynsucg\\logs\\debug.log</code>"
      ],
      "text/plain": [
       "<IPython.core.display.HTML object>"
      ]
     },
     "metadata": {},
     "output_type": "display_data"
    },
    {
     "data": {
      "text/html": [
       "Find internal logs for this run at: <code>C:\\Users\\Jaitesh\\Desktop\\Courses\\DL\\ConvolutionalNetwork\\wandb\\run-20210415_101232-erynsucg\\logs\\debug-internal.log</code>"
      ],
      "text/plain": [
       "<IPython.core.display.HTML object>"
      ]
     },
     "metadata": {},
     "output_type": "display_data"
    },
    {
     "data": {
      "text/html": [
       "<h3>Run summary:</h3><br/><style>\n",
       "    table.wandb td:nth-child(1) { padding: 0 10px; text-align: right }\n",
       "    </style><table class=\"wandb\">\n",
       "<tr><td>epoch</td><td>19</td></tr><tr><td>loss</td><td>0.50814</td></tr><tr><td>accuracy</td><td>0.82422</td></tr><tr><td>val_loss</td><td>0.51108</td></tr><tr><td>val_accuracy</td><td>0.83784</td></tr><tr><td>_runtime</td><td>729</td></tr><tr><td>_timestamp</td><td>1618462481</td></tr><tr><td>_step</td><td>20</td></tr><tr><td>best_val_loss</td><td>0.50918</td></tr><tr><td>best_epoch</td><td>15</td></tr></table>"
      ],
      "text/plain": [
       "<IPython.core.display.HTML object>"
      ]
     },
     "metadata": {},
     "output_type": "display_data"
    },
    {
     "data": {
      "text/html": [
       "<h3>Run history:</h3><br/><style>\n",
       "    table.wandb td:nth-child(1) { padding: 0 10px; text-align: right }\n",
       "    </style><table class=\"wandb\">\n",
       "<tr><td>epoch</td><td>▁▁▂▂▂▃▃▄▄▄▄▅▅▅▆▆▇▇▇██</td></tr><tr><td>loss</td><td>█▅▄▃▃▃▃▃▂▂▂▂▂▂▂▁▁▁▁▁▁</td></tr><tr><td>accuracy</td><td>▁▅▆▆▇▇▇▇▇▇▇▇▇▇███████</td></tr><tr><td>val_loss</td><td>█▅▄▃▃▂▂▂▂▂▁▁▁▁▁▁▁▁▁▁▁</td></tr><tr><td>val_accuracy</td><td>▁▅▆▆▇▇▇▇▇▇▇██████████</td></tr><tr><td>_runtime</td><td>▁▁▂▂▂▃▃▃▄▄▄▅▅▆▆▆▇▇▇██</td></tr><tr><td>_timestamp</td><td>▁▁▂▂▂▃▃▃▄▄▄▅▅▆▆▆▇▇▇██</td></tr><tr><td>_step</td><td>▁▁▂▂▂▃▃▃▄▄▅▅▅▆▆▆▇▇▇██</td></tr></table><br/>"
      ],
      "text/plain": [
       "<IPython.core.display.HTML object>"
      ]
     },
     "metadata": {},
     "output_type": "display_data"
    },
    {
     "data": {
      "text/html": [
       "Synced 5 W&B file(s), 1 media file(s), 0 artifact file(s) and 1 other file(s)"
      ],
      "text/plain": [
       "<IPython.core.display.HTML object>"
      ]
     },
     "metadata": {},
     "output_type": "display_data"
    },
    {
     "data": {
      "text/html": [
       "\n",
       "                    <br/>Synced <strong style=\"color:#cdcd00\">worthy-sweep-6</strong>: <a href=\"https://wandb.ai/mooizz/conv_inaturalist/runs/erynsucg\" target=\"_blank\">https://wandb.ai/mooizz/conv_inaturalist/runs/erynsucg</a><br/>\n",
       "                "
      ],
      "text/plain": [
       "<IPython.core.display.HTML object>"
      ]
     },
     "metadata": {},
     "output_type": "display_data"
    },
    {
     "name": "stderr",
     "output_type": "stream",
     "text": [
      "wandb: Agent Starting Run: stcq9xtl with config:\n",
      "wandb: \tepochs: 10\n",
      "wandb: \tmodel_name: ResNet50\n",
      "wandb: \tstrategy: 1\n",
      "wandb: wandb version 0.10.26 is available!  To upgrade, please run:\n",
      "wandb:  $ pip install wandb --upgrade\n"
     ]
    },
    {
     "data": {
      "text/html": [
       "\n",
       "                Tracking run with wandb version 0.10.25<br/>\n",
       "                Syncing run <strong style=\"color:#cdcd00\">scarlet-sweep-7</strong> to <a href=\"https://wandb.ai\" target=\"_blank\">Weights & Biases</a> <a href=\"https://docs.wandb.com/integrations/jupyter.html\" target=\"_blank\">(Documentation)</a>.<br/>\n",
       "                Project page: <a href=\"https://wandb.ai/mooizz/conv_inaturalist\" target=\"_blank\">https://wandb.ai/mooizz/conv_inaturalist</a><br/>\n",
       "                Sweep page: <a href=\"https://wandb.ai/mooizz/conv_inaturalist/sweeps/1f8m104a\" target=\"_blank\">https://wandb.ai/mooizz/conv_inaturalist/sweeps/1f8m104a</a><br/>\n",
       "Run page: <a href=\"https://wandb.ai/mooizz/conv_inaturalist/runs/stcq9xtl\" target=\"_blank\">https://wandb.ai/mooizz/conv_inaturalist/runs/stcq9xtl</a><br/>\n",
       "                Run data is saved locally in <code>C:\\Users\\Jaitesh\\Desktop\\Courses\\DL\\ConvolutionalNetwork\\wandb\\run-20210415_102656-stcq9xtl</code><br/><br/>\n",
       "            "
      ],
      "text/plain": [
       "<IPython.core.display.HTML object>"
      ]
     },
     "metadata": {},
     "output_type": "display_data"
    },
    {
     "name": "stdout",
     "output_type": "stream",
     "text": [
      "Epoch 1/10\n",
      "141/141 [==============================] - 27s 155ms/step - loss: 2.5389 - accuracy: 0.1513 - val_loss: 1.6344 - val_accuracy: 0.4725\n",
      "Epoch 2/10\n",
      "141/141 [==============================] - 17s 119ms/step - loss: 1.7016 - accuracy: 0.4175 - val_loss: 1.2225 - val_accuracy: 0.6156\n",
      "Epoch 3/10\n",
      "141/141 [==============================] - 17s 119ms/step - loss: 1.3848 - accuracy: 0.5421 - val_loss: 1.0441 - val_accuracy: 0.6627\n",
      "Epoch 4/10\n",
      "141/141 [==============================] - 17s 119ms/step - loss: 1.2288 - accuracy: 0.5873 - val_loss: 0.9479 - val_accuracy: 0.6867\n",
      "Epoch 5/10\n",
      "141/141 [==============================] - 17s 119ms/step - loss: 1.1438 - accuracy: 0.6215 - val_loss: 0.8874 - val_accuracy: 0.7117\n",
      "Epoch 6/10\n",
      "141/141 [==============================] - 17s 120ms/step - loss: 1.0633 - accuracy: 0.6430 - val_loss: 0.8433 - val_accuracy: 0.7237\n",
      "Epoch 7/10\n",
      "141/141 [==============================] - 17s 120ms/step - loss: 1.0289 - accuracy: 0.6582 - val_loss: 0.8141 - val_accuracy: 0.7307\n",
      "Epoch 8/10\n",
      "141/141 [==============================] - 17s 119ms/step - loss: 0.9909 - accuracy: 0.6676 - val_loss: 0.7841 - val_accuracy: 0.7397\n",
      "Epoch 9/10\n",
      "141/141 [==============================] - 17s 119ms/step - loss: 0.9610 - accuracy: 0.6741 - val_loss: 0.7655 - val_accuracy: 0.7447\n",
      "Epoch 10/10\n",
      "141/141 [==============================] - 17s 119ms/step - loss: 0.9300 - accuracy: 0.6961 - val_loss: 0.7504 - val_accuracy: 0.7528\n",
      "Number of layers in base Model:  175\n",
      "2\n",
      "Epoch 10/20\n",
      "141/141 [==============================] - 20s 125ms/step - loss: 0.9092 - accuracy: 0.6933 - val_loss: 0.7472 - val_accuracy: 0.7508\n",
      "Epoch 11/20\n",
      "141/141 [==============================] - 17s 120ms/step - loss: 0.9105 - accuracy: 0.6953 - val_loss: 0.7473 - val_accuracy: 0.7508\n",
      "Epoch 12/20\n",
      "141/141 [==============================] - 17s 119ms/step - loss: 0.9062 - accuracy: 0.6923 - val_loss: 0.7457 - val_accuracy: 0.7508\n",
      "Epoch 13/20\n",
      "141/141 [==============================] - 17s 120ms/step - loss: 0.9038 - accuracy: 0.6965 - val_loss: 0.7444 - val_accuracy: 0.7518\n",
      "Epoch 14/20\n",
      "141/141 [==============================] - 17s 120ms/step - loss: 0.9013 - accuracy: 0.7004 - val_loss: 0.7425 - val_accuracy: 0.7518\n",
      "Epoch 15/20\n",
      "141/141 [==============================] - 17s 120ms/step - loss: 0.8978 - accuracy: 0.6893 - val_loss: 0.7412 - val_accuracy: 0.7497\n",
      "Epoch 16/20\n",
      "141/141 [==============================] - 17s 121ms/step - loss: 0.8982 - accuracy: 0.6976 - val_loss: 0.7396 - val_accuracy: 0.7548\n",
      "Epoch 17/20\n",
      "141/141 [==============================] - 17s 120ms/step - loss: 0.8896 - accuracy: 0.7111 - val_loss: 0.7380 - val_accuracy: 0.7538\n",
      "Epoch 18/20\n",
      "141/141 [==============================] - 17s 120ms/step - loss: 0.8884 - accuracy: 0.7071 - val_loss: 0.7371 - val_accuracy: 0.7548\n",
      "Epoch 19/20\n",
      "141/141 [==============================] - 17s 120ms/step - loss: 0.8940 - accuracy: 0.6981 - val_loss: 0.7354 - val_accuracy: 0.7558\n",
      "Epoch 20/20\n",
      "141/141 [==============================] - 17s 120ms/step - loss: 0.8957 - accuracy: 0.6964 - val_loss: 0.7348 - val_accuracy: 0.7548\n",
      "INFO:tensorflow:Assets written to: models\\1f8m104a\\scarlet-sweep-7\\assets\n"
     ]
    },
    {
     "data": {
      "text/html": [
       "<br/>Waiting for W&B process to finish, PID 33064<br/>Program ended successfully."
      ],
      "text/plain": [
       "<IPython.core.display.HTML object>"
      ]
     },
     "metadata": {},
     "output_type": "display_data"
    },
    {
     "data": {
      "application/vnd.jupyter.widget-view+json": {
       "model_id": "",
       "version_major": 2,
       "version_minor": 0
      },
      "text/plain": [
       "VBox(children=(Label(value=' 90.53MB of 90.53MB uploaded (0.00MB deduped)\\r'), FloatProgress(value=1.0, max=1.…"
      ]
     },
     "metadata": {},
     "output_type": "display_data"
    },
    {
     "data": {
      "text/html": [
       "Find user logs for this run at: <code>C:\\Users\\Jaitesh\\Desktop\\Courses\\DL\\ConvolutionalNetwork\\wandb\\run-20210415_102656-stcq9xtl\\logs\\debug.log</code>"
      ],
      "text/plain": [
       "<IPython.core.display.HTML object>"
      ]
     },
     "metadata": {},
     "output_type": "display_data"
    },
    {
     "data": {
      "text/html": [
       "Find internal logs for this run at: <code>C:\\Users\\Jaitesh\\Desktop\\Courses\\DL\\ConvolutionalNetwork\\wandb\\run-20210415_102656-stcq9xtl\\logs\\debug-internal.log</code>"
      ],
      "text/plain": [
       "<IPython.core.display.HTML object>"
      ]
     },
     "metadata": {},
     "output_type": "display_data"
    },
    {
     "data": {
      "text/html": [
       "<h3>Run summary:</h3><br/><style>\n",
       "    table.wandb td:nth-child(1) { padding: 0 10px; text-align: right }\n",
       "    </style><table class=\"wandb\">\n",
       "<tr><td>epoch</td><td>19</td></tr><tr><td>loss</td><td>0.88566</td></tr><tr><td>accuracy</td><td>0.69944</td></tr><tr><td>val_loss</td><td>0.73485</td></tr><tr><td>val_accuracy</td><td>0.75475</td></tr><tr><td>_runtime</td><td>375</td></tr><tr><td>_timestamp</td><td>1618462991</td></tr><tr><td>_step</td><td>20</td></tr><tr><td>best_val_loss</td><td>0.73485</td></tr><tr><td>best_epoch</td><td>19</td></tr></table>"
      ],
      "text/plain": [
       "<IPython.core.display.HTML object>"
      ]
     },
     "metadata": {},
     "output_type": "display_data"
    },
    {
     "data": {
      "text/html": [
       "<h3>Run history:</h3><br/><style>\n",
       "    table.wandb td:nth-child(1) { padding: 0 10px; text-align: right }\n",
       "    </style><table class=\"wandb\">\n",
       "<tr><td>epoch</td><td>▁▁▂▂▂▃▃▄▄▄▄▅▅▅▆▆▇▇▇██</td></tr><tr><td>loss</td><td>█▅▃▃▂▂▂▂▁▁▁▁▁▁▁▁▁▁▁▁▁</td></tr><tr><td>accuracy</td><td>▁▄▆▆▇▇▇▇█████████████</td></tr><tr><td>val_loss</td><td>█▅▃▃▂▂▂▁▁▁▁▁▁▁▁▁▁▁▁▁▁</td></tr><tr><td>val_accuracy</td><td>▁▅▆▆▇▇▇██████████████</td></tr><tr><td>_runtime</td><td>▁▁▂▂▂▃▃▃▄▄▅▅▅▆▆▆▇▇▇██</td></tr><tr><td>_timestamp</td><td>▁▁▂▂▂▃▃▃▄▄▅▅▅▆▆▆▇▇▇██</td></tr><tr><td>_step</td><td>▁▁▂▂▂▃▃▃▄▄▅▅▅▆▆▆▇▇▇██</td></tr></table><br/>"
      ],
      "text/plain": [
       "<IPython.core.display.HTML object>"
      ]
     },
     "metadata": {},
     "output_type": "display_data"
    },
    {
     "data": {
      "text/html": [
       "Synced 5 W&B file(s), 1 media file(s), 0 artifact file(s) and 1 other file(s)"
      ],
      "text/plain": [
       "<IPython.core.display.HTML object>"
      ]
     },
     "metadata": {},
     "output_type": "display_data"
    },
    {
     "data": {
      "text/html": [
       "\n",
       "                    <br/>Synced <strong style=\"color:#cdcd00\">scarlet-sweep-7</strong>: <a href=\"https://wandb.ai/mooizz/conv_inaturalist/runs/stcq9xtl\" target=\"_blank\">https://wandb.ai/mooizz/conv_inaturalist/runs/stcq9xtl</a><br/>\n",
       "                "
      ],
      "text/plain": [
       "<IPython.core.display.HTML object>"
      ]
     },
     "metadata": {},
     "output_type": "display_data"
    },
    {
     "name": "stderr",
     "output_type": "stream",
     "text": [
      "wandb: Agent Starting Run: bhnwtpgv with config:\n",
      "wandb: \tepochs: 10\n",
      "wandb: \tmodel_name: ResNet50\n",
      "wandb: \tstrategy: 2\n",
      "wandb: wandb version 0.10.26 is available!  To upgrade, please run:\n",
      "wandb:  $ pip install wandb --upgrade\n"
     ]
    },
    {
     "data": {
      "text/html": [
       "\n",
       "                Tracking run with wandb version 0.10.25<br/>\n",
       "                Syncing run <strong style=\"color:#cdcd00\">restful-sweep-8</strong> to <a href=\"https://wandb.ai\" target=\"_blank\">Weights & Biases</a> <a href=\"https://docs.wandb.com/integrations/jupyter.html\" target=\"_blank\">(Documentation)</a>.<br/>\n",
       "                Project page: <a href=\"https://wandb.ai/mooizz/conv_inaturalist\" target=\"_blank\">https://wandb.ai/mooizz/conv_inaturalist</a><br/>\n",
       "                Sweep page: <a href=\"https://wandb.ai/mooizz/conv_inaturalist/sweeps/1f8m104a\" target=\"_blank\">https://wandb.ai/mooizz/conv_inaturalist/sweeps/1f8m104a</a><br/>\n",
       "Run page: <a href=\"https://wandb.ai/mooizz/conv_inaturalist/runs/bhnwtpgv\" target=\"_blank\">https://wandb.ai/mooizz/conv_inaturalist/runs/bhnwtpgv</a><br/>\n",
       "                Run data is saved locally in <code>C:\\Users\\Jaitesh\\Desktop\\Courses\\DL\\ConvolutionalNetwork\\wandb\\run-20210415_103352-bhnwtpgv</code><br/><br/>\n",
       "            "
      ],
      "text/plain": [
       "<IPython.core.display.HTML object>"
      ]
     },
     "metadata": {},
     "output_type": "display_data"
    },
    {
     "name": "stdout",
     "output_type": "stream",
     "text": [
      "Epoch 1/10\n",
      "141/141 [==============================] - 20s 124ms/step - loss: 2.5134 - accuracy: 0.1655 - val_loss: 1.6054 - val_accuracy: 0.4494\n",
      "Epoch 2/10\n",
      "141/141 [==============================] - 17s 119ms/step - loss: 1.7137 - accuracy: 0.4041 - val_loss: 1.1733 - val_accuracy: 0.6186\n",
      "Epoch 3/10\n",
      "141/141 [==============================] - 17s 120ms/step - loss: 1.3728 - accuracy: 0.5380 - val_loss: 0.9895 - val_accuracy: 0.6697\n",
      "Epoch 4/10\n",
      "141/141 [==============================] - 17s 120ms/step - loss: 1.2266 - accuracy: 0.5869 - val_loss: 0.8932 - val_accuracy: 0.7007\n",
      "Epoch 5/10\n",
      "141/141 [==============================] - 17s 120ms/step - loss: 1.1214 - accuracy: 0.6274 - val_loss: 0.8362 - val_accuracy: 0.7217\n",
      "Epoch 6/10\n",
      "141/141 [==============================] - 17s 120ms/step - loss: 1.0658 - accuracy: 0.6481 - val_loss: 0.7946 - val_accuracy: 0.7257\n",
      "Epoch 7/10\n",
      "141/141 [==============================] - 17s 120ms/step - loss: 1.0153 - accuracy: 0.6609 - val_loss: 0.7662 - val_accuracy: 0.7327\n",
      "Epoch 8/10\n",
      "141/141 [==============================] - 17s 120ms/step - loss: 0.9815 - accuracy: 0.6787 - val_loss: 0.7428 - val_accuracy: 0.7367\n",
      "Epoch 9/10\n",
      "141/141 [==============================] - 17s 120ms/step - loss: 0.9429 - accuracy: 0.6846 - val_loss: 0.7260 - val_accuracy: 0.7417\n",
      "Epoch 10/10\n",
      "141/141 [==============================] - 17s 120ms/step - loss: 0.9429 - accuracy: 0.6811 - val_loss: 0.7139 - val_accuracy: 0.7457\n",
      "Number of layers in base Model:  175\n",
      "14\n",
      "Epoch 10/20\n",
      "141/141 [==============================] - 23s 133ms/step - loss: 0.8875 - accuracy: 0.7036 - val_loss: 0.6839 - val_accuracy: 0.7558\n",
      "Epoch 11/20\n",
      "141/141 [==============================] - 18s 125ms/step - loss: 0.8485 - accuracy: 0.7117 - val_loss: 0.6697 - val_accuracy: 0.7578\n",
      "Epoch 12/20\n",
      "141/141 [==============================] - 18s 125ms/step - loss: 0.8155 - accuracy: 0.7247 - val_loss: 0.6631 - val_accuracy: 0.7648\n",
      "Epoch 13/20\n",
      "141/141 [==============================] - 18s 126ms/step - loss: 0.7893 - accuracy: 0.7272 - val_loss: 0.6450 - val_accuracy: 0.7658\n",
      "Epoch 14/20\n",
      "141/141 [==============================] - 18s 126ms/step - loss: 0.7339 - accuracy: 0.7494 - val_loss: 0.6381 - val_accuracy: 0.7728\n",
      "Epoch 15/20\n",
      "141/141 [==============================] - 18s 126ms/step - loss: 0.7135 - accuracy: 0.7569 - val_loss: 0.6312 - val_accuracy: 0.7738\n",
      "Epoch 16/20\n",
      "141/141 [==============================] - 18s 126ms/step - loss: 0.6886 - accuracy: 0.7635 - val_loss: 0.6274 - val_accuracy: 0.7808\n",
      "Epoch 17/20\n",
      "141/141 [==============================] - 18s 125ms/step - loss: 0.6665 - accuracy: 0.7768 - val_loss: 0.6282 - val_accuracy: 0.7818\n",
      "Epoch 18/20\n",
      "141/141 [==============================] - 18s 126ms/step - loss: 0.6324 - accuracy: 0.7858 - val_loss: 0.6181 - val_accuracy: 0.7908\n",
      "Epoch 19/20\n",
      "141/141 [==============================] - 18s 126ms/step - loss: 0.6260 - accuracy: 0.7883 - val_loss: 0.6249 - val_accuracy: 0.7858\n",
      "Epoch 20/20\n",
      "141/141 [==============================] - 18s 125ms/step - loss: 0.6022 - accuracy: 0.7937 - val_loss: 0.6207 - val_accuracy: 0.7888\n",
      "INFO:tensorflow:Assets written to: models\\1f8m104a\\restful-sweep-8\\assets\n"
     ]
    },
    {
     "data": {
      "text/html": [
       "<br/>Waiting for W&B process to finish, PID 3540<br/>Program ended successfully."
      ],
      "text/plain": [
       "<IPython.core.display.HTML object>"
      ]
     },
     "metadata": {},
     "output_type": "display_data"
    },
    {
     "data": {
      "application/vnd.jupyter.widget-view+json": {
       "model_id": "",
       "version_major": 2,
       "version_minor": 0
      },
      "text/plain": [
       "VBox(children=(Label(value=' 90.53MB of 90.53MB uploaded (0.00MB deduped)\\r'), FloatProgress(value=1.0, max=1.…"
      ]
     },
     "metadata": {},
     "output_type": "display_data"
    },
    {
     "data": {
      "text/html": [
       "Find user logs for this run at: <code>C:\\Users\\Jaitesh\\Desktop\\Courses\\DL\\ConvolutionalNetwork\\wandb\\run-20210415_103352-bhnwtpgv\\logs\\debug.log</code>"
      ],
      "text/plain": [
       "<IPython.core.display.HTML object>"
      ]
     },
     "metadata": {},
     "output_type": "display_data"
    },
    {
     "data": {
      "text/html": [
       "Find internal logs for this run at: <code>C:\\Users\\Jaitesh\\Desktop\\Courses\\DL\\ConvolutionalNetwork\\wandb\\run-20210415_103352-bhnwtpgv\\logs\\debug-internal.log</code>"
      ],
      "text/plain": [
       "<IPython.core.display.HTML object>"
      ]
     },
     "metadata": {},
     "output_type": "display_data"
    },
    {
     "data": {
      "text/html": [
       "<h3>Run summary:</h3><br/><style>\n",
       "    table.wandb td:nth-child(1) { padding: 0 10px; text-align: right }\n",
       "    </style><table class=\"wandb\">\n",
       "<tr><td>epoch</td><td>19</td></tr><tr><td>loss</td><td>0.59956</td></tr><tr><td>accuracy</td><td>0.79422</td></tr><tr><td>val_loss</td><td>0.62067</td></tr><tr><td>val_accuracy</td><td>0.78879</td></tr><tr><td>_runtime</td><td>380</td></tr><tr><td>_timestamp</td><td>1618463412</td></tr><tr><td>_step</td><td>20</td></tr><tr><td>best_val_loss</td><td>0.61808</td></tr><tr><td>best_epoch</td><td>17</td></tr></table>"
      ],
      "text/plain": [
       "<IPython.core.display.HTML object>"
      ]
     },
     "metadata": {},
     "output_type": "display_data"
    },
    {
     "data": {
      "text/html": [
       "<h3>Run history:</h3><br/><style>\n",
       "    table.wandb td:nth-child(1) { padding: 0 10px; text-align: right }\n",
       "    </style><table class=\"wandb\">\n",
       "<tr><td>epoch</td><td>▁▁▂▂▂▃▃▄▄▄▄▅▅▅▆▆▇▇▇██</td></tr><tr><td>loss</td><td>█▅▄▄▃▃▃▃▂▂▂▂▂▂▂▁▁▁▁▁▁</td></tr><tr><td>accuracy</td><td>▁▄▅▆▆▆▆▇▇▇▇▇▇▇▇██████</td></tr><tr><td>val_loss</td><td>█▅▄▃▃▂▂▂▂▂▁▁▁▁▁▁▁▁▁▁▁</td></tr><tr><td>val_accuracy</td><td>▁▄▆▆▇▇▇▇▇▇▇▇▇▇███████</td></tr><tr><td>_runtime</td><td>▁▁▂▂▂▃▃▃▄▄▄▅▅▆▆▆▇▇▇██</td></tr><tr><td>_timestamp</td><td>▁▁▂▂▂▃▃▃▄▄▄▅▅▆▆▆▇▇▇██</td></tr><tr><td>_step</td><td>▁▁▂▂▂▃▃▃▄▄▅▅▅▆▆▆▇▇▇██</td></tr></table><br/>"
      ],
      "text/plain": [
       "<IPython.core.display.HTML object>"
      ]
     },
     "metadata": {},
     "output_type": "display_data"
    },
    {
     "data": {
      "text/html": [
       "Synced 5 W&B file(s), 1 media file(s), 0 artifact file(s) and 1 other file(s)"
      ],
      "text/plain": [
       "<IPython.core.display.HTML object>"
      ]
     },
     "metadata": {},
     "output_type": "display_data"
    },
    {
     "data": {
      "text/html": [
       "\n",
       "                    <br/>Synced <strong style=\"color:#cdcd00\">restful-sweep-8</strong>: <a href=\"https://wandb.ai/mooizz/conv_inaturalist/runs/bhnwtpgv\" target=\"_blank\">https://wandb.ai/mooizz/conv_inaturalist/runs/bhnwtpgv</a><br/>\n",
       "                "
      ],
      "text/plain": [
       "<IPython.core.display.HTML object>"
      ]
     },
     "metadata": {},
     "output_type": "display_data"
    },
    {
     "name": "stderr",
     "output_type": "stream",
     "text": [
      "wandb: Agent Starting Run: 8tetn8ci with config:\n",
      "wandb: \tepochs: 10\n",
      "wandb: \tmodel_name: ResNet50\n",
      "wandb: \tstrategy: 3\n",
      "wandb: wandb version 0.10.26 is available!  To upgrade, please run:\n",
      "wandb:  $ pip install wandb --upgrade\n"
     ]
    },
    {
     "data": {
      "text/html": [
       "\n",
       "                Tracking run with wandb version 0.10.25<br/>\n",
       "                Syncing run <strong style=\"color:#cdcd00\">upbeat-sweep-9</strong> to <a href=\"https://wandb.ai\" target=\"_blank\">Weights & Biases</a> <a href=\"https://docs.wandb.com/integrations/jupyter.html\" target=\"_blank\">(Documentation)</a>.<br/>\n",
       "                Project page: <a href=\"https://wandb.ai/mooizz/conv_inaturalist\" target=\"_blank\">https://wandb.ai/mooizz/conv_inaturalist</a><br/>\n",
       "                Sweep page: <a href=\"https://wandb.ai/mooizz/conv_inaturalist/sweeps/1f8m104a\" target=\"_blank\">https://wandb.ai/mooizz/conv_inaturalist/sweeps/1f8m104a</a><br/>\n",
       "Run page: <a href=\"https://wandb.ai/mooizz/conv_inaturalist/runs/8tetn8ci\" target=\"_blank\">https://wandb.ai/mooizz/conv_inaturalist/runs/8tetn8ci</a><br/>\n",
       "                Run data is saved locally in <code>C:\\Users\\Jaitesh\\Desktop\\Courses\\DL\\ConvolutionalNetwork\\wandb\\run-20210415_104053-8tetn8ci</code><br/><br/>\n",
       "            "
      ],
      "text/plain": [
       "<IPython.core.display.HTML object>"
      ]
     },
     "metadata": {},
     "output_type": "display_data"
    },
    {
     "name": "stdout",
     "output_type": "stream",
     "text": [
      "Epoch 1/10\n",
      "141/141 [==============================] - 20s 123ms/step - loss: 2.5344 - accuracy: 0.1484 - val_loss: 1.5873 - val_accuracy: 0.4725\n",
      "Epoch 2/10\n",
      "141/141 [==============================] - 17s 119ms/step - loss: 1.7144 - accuracy: 0.4104 - val_loss: 1.1809 - val_accuracy: 0.6326\n",
      "Epoch 3/10\n",
      "141/141 [==============================] - 17s 119ms/step - loss: 1.4053 - accuracy: 0.5273 - val_loss: 1.0039 - val_accuracy: 0.6817\n",
      "Epoch 4/10\n",
      "141/141 [==============================] - 17s 119ms/step - loss: 1.2459 - accuracy: 0.5840 - val_loss: 0.9117 - val_accuracy: 0.7027\n",
      "Epoch 5/10\n",
      "141/141 [==============================] - 17s 119ms/step - loss: 1.1430 - accuracy: 0.6241 - val_loss: 0.8553 - val_accuracy: 0.7167\n",
      "Epoch 6/10\n",
      "141/141 [==============================] - 17s 119ms/step - loss: 1.0680 - accuracy: 0.6459 - val_loss: 0.8169 - val_accuracy: 0.7307\n",
      "Epoch 7/10\n",
      "141/141 [==============================] - 17s 120ms/step - loss: 1.0232 - accuracy: 0.6578 - val_loss: 0.7867 - val_accuracy: 0.7397\n",
      "Epoch 8/10\n",
      "141/141 [==============================] - 17s 119ms/step - loss: 0.9918 - accuracy: 0.6712 - val_loss: 0.7663 - val_accuracy: 0.7518\n",
      "Epoch 9/10\n",
      "141/141 [==============================] - 17s 119ms/step - loss: 0.9547 - accuracy: 0.6761 - val_loss: 0.7482 - val_accuracy: 0.7518\n",
      "Epoch 10/10\n",
      "141/141 [==============================] - 17s 119ms/step - loss: 0.9307 - accuracy: 0.6880 - val_loss: 0.7339 - val_accuracy: 0.7568\n",
      "Number of layers in base Model:  175\n",
      "62\n",
      "Epoch 10/20\n",
      "141/141 [==============================] - 29s 173ms/step - loss: 0.8837 - accuracy: 0.6952 - val_loss: 0.6650 - val_accuracy: 0.7698\n",
      "Epoch 11/20\n",
      "141/141 [==============================] - 23s 162ms/step - loss: 0.7328 - accuracy: 0.7581 - val_loss: 0.6393 - val_accuracy: 0.7818\n",
      "Epoch 12/20\n",
      "141/141 [==============================] - 23s 162ms/step - loss: 0.6685 - accuracy: 0.7693 - val_loss: 0.6355 - val_accuracy: 0.7938\n",
      "Epoch 13/20\n",
      "141/141 [==============================] - 23s 161ms/step - loss: 0.5963 - accuracy: 0.7938 - val_loss: 0.6205 - val_accuracy: 0.7998\n",
      "Epoch 14/20\n",
      "141/141 [==============================] - 23s 161ms/step - loss: 0.5358 - accuracy: 0.8157 - val_loss: 0.6331 - val_accuracy: 0.7988\n",
      "Epoch 15/20\n",
      "141/141 [==============================] - 23s 162ms/step - loss: 0.4961 - accuracy: 0.8271 - val_loss: 0.6240 - val_accuracy: 0.8118\n",
      "Epoch 16/20\n",
      "141/141 [==============================] - 23s 162ms/step - loss: 0.4543 - accuracy: 0.8465 - val_loss: 0.6493 - val_accuracy: 0.8038\n",
      "Epoch 17/20\n",
      "141/141 [==============================] - 23s 161ms/step - loss: 0.4129 - accuracy: 0.8546 - val_loss: 0.6454 - val_accuracy: 0.8098\n",
      "Epoch 18/20\n",
      "141/141 [==============================] - 23s 162ms/step - loss: 0.3751 - accuracy: 0.8709 - val_loss: 0.6844 - val_accuracy: 0.8138\n",
      "Epoch 19/20\n",
      "141/141 [==============================] - 23s 162ms/step - loss: 0.3467 - accuracy: 0.8770 - val_loss: 0.6638 - val_accuracy: 0.8108\n",
      "Epoch 20/20\n",
      "141/141 [==============================] - 23s 161ms/step - loss: 0.3178 - accuracy: 0.8870 - val_loss: 0.6983 - val_accuracy: 0.8138\n",
      "INFO:tensorflow:Assets written to: models\\1f8m104a\\upbeat-sweep-9\\assets\n"
     ]
    },
    {
     "data": {
      "text/html": [
       "<br/>Waiting for W&B process to finish, PID 18220<br/>Program ended successfully."
      ],
      "text/plain": [
       "<IPython.core.display.HTML object>"
      ]
     },
     "metadata": {},
     "output_type": "display_data"
    },
    {
     "data": {
      "application/vnd.jupyter.widget-view+json": {
       "model_id": "",
       "version_major": 2,
       "version_minor": 0
      },
      "text/plain": [
       "VBox(children=(Label(value=' 90.53MB of 90.53MB uploaded (0.00MB deduped)\\r'), FloatProgress(value=1.0, max=1.…"
      ]
     },
     "metadata": {},
     "output_type": "display_data"
    },
    {
     "data": {
      "text/html": [
       "Find user logs for this run at: <code>C:\\Users\\Jaitesh\\Desktop\\Courses\\DL\\ConvolutionalNetwork\\wandb\\run-20210415_104053-8tetn8ci\\logs\\debug.log</code>"
      ],
      "text/plain": [
       "<IPython.core.display.HTML object>"
      ]
     },
     "metadata": {},
     "output_type": "display_data"
    },
    {
     "data": {
      "text/html": [
       "Find internal logs for this run at: <code>C:\\Users\\Jaitesh\\Desktop\\Courses\\DL\\ConvolutionalNetwork\\wandb\\run-20210415_104053-8tetn8ci\\logs\\debug-internal.log</code>"
      ],
      "text/plain": [
       "<IPython.core.display.HTML object>"
      ]
     },
     "metadata": {},
     "output_type": "display_data"
    },
    {
     "data": {
      "text/html": [
       "<h3>Run summary:</h3><br/><style>\n",
       "    table.wandb td:nth-child(1) { padding: 0 10px; text-align: right }\n",
       "    </style><table class=\"wandb\">\n",
       "<tr><td>epoch</td><td>19</td></tr><tr><td>loss</td><td>0.30973</td></tr><tr><td>accuracy</td><td>0.89122</td></tr><tr><td>val_loss</td><td>0.69829</td></tr><tr><td>val_accuracy</td><td>0.81381</td></tr><tr><td>_runtime</td><td>435</td></tr><tr><td>_timestamp</td><td>1618463888</td></tr><tr><td>_step</td><td>20</td></tr><tr><td>best_val_loss</td><td>0.62049</td></tr><tr><td>best_epoch</td><td>12</td></tr></table>"
      ],
      "text/plain": [
       "<IPython.core.display.HTML object>"
      ]
     },
     "metadata": {},
     "output_type": "display_data"
    },
    {
     "data": {
      "text/html": [
       "<h3>Run history:</h3><br/><style>\n",
       "    table.wandb td:nth-child(1) { padding: 0 10px; text-align: right }\n",
       "    </style><table class=\"wandb\">\n",
       "<tr><td>epoch</td><td>▁▁▂▂▂▃▃▄▄▄▄▅▅▅▆▆▇▇▇██</td></tr><tr><td>loss</td><td>█▆▅▄▄▄▄▃▃▃▃▂▂▂▂▂▁▁▁▁▁</td></tr><tr><td>accuracy</td><td>▁▃▄▅▅▆▆▆▆▆▆▇▇▇▇▇█████</td></tr><tr><td>val_loss</td><td>█▅▄▃▃▂▂▂▂▂▁▁▁▁▁▁▁▁▁▁▂</td></tr><tr><td>val_accuracy</td><td>▁▄▅▆▆▆▆▇▇▇▇▇█████████</td></tr><tr><td>_runtime</td><td>▁▁▂▂▂▂▃▃▃▄▄▅▅▅▆▆▆▇▇██</td></tr><tr><td>_timestamp</td><td>▁▁▂▂▂▂▃▃▃▄▄▅▅▅▆▆▆▇▇██</td></tr><tr><td>_step</td><td>▁▁▂▂▂▃▃▃▄▄▅▅▅▆▆▆▇▇▇██</td></tr></table><br/>"
      ],
      "text/plain": [
       "<IPython.core.display.HTML object>"
      ]
     },
     "metadata": {},
     "output_type": "display_data"
    },
    {
     "data": {
      "text/html": [
       "Synced 5 W&B file(s), 1 media file(s), 0 artifact file(s) and 1 other file(s)"
      ],
      "text/plain": [
       "<IPython.core.display.HTML object>"
      ]
     },
     "metadata": {},
     "output_type": "display_data"
    },
    {
     "data": {
      "text/html": [
       "\n",
       "                    <br/>Synced <strong style=\"color:#cdcd00\">upbeat-sweep-9</strong>: <a href=\"https://wandb.ai/mooizz/conv_inaturalist/runs/8tetn8ci\" target=\"_blank\">https://wandb.ai/mooizz/conv_inaturalist/runs/8tetn8ci</a><br/>\n",
       "                "
      ],
      "text/plain": [
       "<IPython.core.display.HTML object>"
      ]
     },
     "metadata": {},
     "output_type": "display_data"
    },
    {
     "name": "stderr",
     "output_type": "stream",
     "text": [
      "wandb: Agent Starting Run: ylj1ohuc with config:\n",
      "wandb: \tepochs: 10\n",
      "wandb: \tmodel_name: Xception\n",
      "wandb: \tstrategy: 1\n",
      "wandb: wandb version 0.10.26 is available!  To upgrade, please run:\n",
      "wandb:  $ pip install wandb --upgrade\n"
     ]
    },
    {
     "data": {
      "text/html": [
       "\n",
       "                Tracking run with wandb version 0.10.25<br/>\n",
       "                Syncing run <strong style=\"color:#cdcd00\">splendid-sweep-10</strong> to <a href=\"https://wandb.ai\" target=\"_blank\">Weights & Biases</a> <a href=\"https://docs.wandb.com/integrations/jupyter.html\" target=\"_blank\">(Documentation)</a>.<br/>\n",
       "                Project page: <a href=\"https://wandb.ai/mooizz/conv_inaturalist\" target=\"_blank\">https://wandb.ai/mooizz/conv_inaturalist</a><br/>\n",
       "                Sweep page: <a href=\"https://wandb.ai/mooizz/conv_inaturalist/sweeps/1f8m104a\" target=\"_blank\">https://wandb.ai/mooizz/conv_inaturalist/sweeps/1f8m104a</a><br/>\n",
       "Run page: <a href=\"https://wandb.ai/mooizz/conv_inaturalist/runs/ylj1ohuc\" target=\"_blank\">https://wandb.ai/mooizz/conv_inaturalist/runs/ylj1ohuc</a><br/>\n",
       "                Run data is saved locally in <code>C:\\Users\\Jaitesh\\Desktop\\Courses\\DL\\ConvolutionalNetwork\\wandb\\run-20210415_104855-ylj1ohuc</code><br/><br/>\n",
       "            "
      ],
      "text/plain": [
       "<IPython.core.display.HTML object>"
      ]
     },
     "metadata": {},
     "output_type": "display_data"
    },
    {
     "name": "stdout",
     "output_type": "stream",
     "text": [
      "Epoch 1/10\n",
      "141/141 [==============================] - 26s 157ms/step - loss: 2.2277 - accuracy: 0.1924 - val_loss: 1.6889 - val_accuracy: 0.6236\n",
      "Epoch 2/10\n",
      "141/141 [==============================] - 18s 128ms/step - loss: 1.6789 - accuracy: 0.5586 - val_loss: 1.2974 - val_accuracy: 0.7027\n",
      "Epoch 3/10\n",
      "141/141 [==============================] - 18s 128ms/step - loss: 1.3733 - accuracy: 0.6398 - val_loss: 1.0921 - val_accuracy: 0.7247\n",
      "Epoch 4/10\n",
      "141/141 [==============================] - 18s 128ms/step - loss: 1.2188 - accuracy: 0.6568 - val_loss: 0.9752 - val_accuracy: 0.7407\n",
      "Epoch 5/10\n",
      "141/141 [==============================] - 18s 129ms/step - loss: 1.1107 - accuracy: 0.6775 - val_loss: 0.9032 - val_accuracy: 0.7447\n",
      "Epoch 6/10\n",
      "141/141 [==============================] - 18s 129ms/step - loss: 1.0557 - accuracy: 0.6829 - val_loss: 0.8548 - val_accuracy: 0.7497\n",
      "Epoch 7/10\n",
      "141/141 [==============================] - 18s 128ms/step - loss: 1.0067 - accuracy: 0.6871 - val_loss: 0.8210 - val_accuracy: 0.7558\n",
      "Epoch 8/10\n",
      "141/141 [==============================] - 18s 128ms/step - loss: 0.9803 - accuracy: 0.7047 - val_loss: 0.7955 - val_accuracy: 0.7538\n",
      "Epoch 9/10\n",
      "141/141 [==============================] - 18s 129ms/step - loss: 0.9541 - accuracy: 0.7004 - val_loss: 0.7767 - val_accuracy: 0.7618\n",
      "Epoch 10/10\n",
      "141/141 [==============================] - 18s 129ms/step - loss: 0.9430 - accuracy: 0.6953 - val_loss: 0.7603 - val_accuracy: 0.7638\n",
      "Number of layers in base Model:  132\n",
      "2\n",
      "Epoch 10/20\n",
      "141/141 [==============================] - 21s 133ms/step - loss: 0.9235 - accuracy: 0.7055 - val_loss: 0.7587 - val_accuracy: 0.7628\n",
      "Epoch 11/20\n",
      "141/141 [==============================] - 18s 128ms/step - loss: 0.9165 - accuracy: 0.7057 - val_loss: 0.7575 - val_accuracy: 0.7608\n",
      "Epoch 12/20\n",
      "141/141 [==============================] - 18s 128ms/step - loss: 0.9235 - accuracy: 0.7047 - val_loss: 0.7563 - val_accuracy: 0.7598\n",
      "Epoch 13/20\n",
      "141/141 [==============================] - 18s 128ms/step - loss: 0.9322 - accuracy: 0.6985 - val_loss: 0.7551 - val_accuracy: 0.7598\n",
      "Epoch 14/20\n",
      "141/141 [==============================] - 18s 129ms/step - loss: 0.9198 - accuracy: 0.7079 - val_loss: 0.7535 - val_accuracy: 0.7588\n",
      "Epoch 15/20\n",
      "141/141 [==============================] - 18s 129ms/step - loss: 0.9014 - accuracy: 0.7125 - val_loss: 0.7522 - val_accuracy: 0.7588\n",
      "Epoch 16/20\n",
      "141/141 [==============================] - 18s 129ms/step - loss: 0.9144 - accuracy: 0.7052 - val_loss: 0.7510 - val_accuracy: 0.7588\n",
      "Epoch 17/20\n",
      "141/141 [==============================] - 18s 131ms/step - loss: 0.9268 - accuracy: 0.6993 - val_loss: 0.7497 - val_accuracy: 0.7598\n",
      "Epoch 18/20\n",
      "141/141 [==============================] - 18s 129ms/step - loss: 0.9105 - accuracy: 0.7063 - val_loss: 0.7485 - val_accuracy: 0.7588\n",
      "Epoch 19/20\n",
      "141/141 [==============================] - 18s 130ms/step - loss: 0.9108 - accuracy: 0.7057 - val_loss: 0.7474 - val_accuracy: 0.7598\n",
      "Epoch 20/20\n",
      "141/141 [==============================] - 18s 130ms/step - loss: 0.9143 - accuracy: 0.7059 - val_loss: 0.7462 - val_accuracy: 0.7618\n",
      "INFO:tensorflow:Assets written to: models\\1f8m104a\\splendid-sweep-10\\assets\n"
     ]
    },
    {
     "data": {
      "text/html": [
       "<br/>Waiting for W&B process to finish, PID 31384<br/>Program ended successfully."
      ],
      "text/plain": [
       "<IPython.core.display.HTML object>"
      ]
     },
     "metadata": {},
     "output_type": "display_data"
    },
    {
     "data": {
      "application/vnd.jupyter.widget-view+json": {
       "model_id": "",
       "version_major": 2,
       "version_minor": 0
      },
      "text/plain": [
       "VBox(children=(Label(value=' 80.07MB of 80.07MB uploaded (0.00MB deduped)\\r'), FloatProgress(value=1.0, max=1.…"
      ]
     },
     "metadata": {},
     "output_type": "display_data"
    },
    {
     "data": {
      "text/html": [
       "Find user logs for this run at: <code>C:\\Users\\Jaitesh\\Desktop\\Courses\\DL\\ConvolutionalNetwork\\wandb\\run-20210415_104855-ylj1ohuc\\logs\\debug.log</code>"
      ],
      "text/plain": [
       "<IPython.core.display.HTML object>"
      ]
     },
     "metadata": {},
     "output_type": "display_data"
    },
    {
     "data": {
      "text/html": [
       "Find internal logs for this run at: <code>C:\\Users\\Jaitesh\\Desktop\\Courses\\DL\\ConvolutionalNetwork\\wandb\\run-20210415_104855-ylj1ohuc\\logs\\debug-internal.log</code>"
      ],
      "text/plain": [
       "<IPython.core.display.HTML object>"
      ]
     },
     "metadata": {},
     "output_type": "display_data"
    },
    {
     "data": {
      "text/html": [
       "<h3>Run summary:</h3><br/><style>\n",
       "    table.wandb td:nth-child(1) { padding: 0 10px; text-align: right }\n",
       "    </style><table class=\"wandb\">\n",
       "<tr><td>epoch</td><td>19</td></tr><tr><td>loss</td><td>0.89941</td></tr><tr><td>accuracy</td><td>0.713</td></tr><tr><td>val_loss</td><td>0.74619</td></tr><tr><td>val_accuracy</td><td>0.76176</td></tr><tr><td>_runtime</td><td>399</td></tr><tr><td>_timestamp</td><td>1618464334</td></tr><tr><td>_step</td><td>20</td></tr><tr><td>best_val_loss</td><td>0.74619</td></tr><tr><td>best_epoch</td><td>19</td></tr></table>"
      ],
      "text/plain": [
       "<IPython.core.display.HTML object>"
      ]
     },
     "metadata": {},
     "output_type": "display_data"
    },
    {
     "data": {
      "text/html": [
       "<h3>Run history:</h3><br/><style>\n",
       "    table.wandb td:nth-child(1) { padding: 0 10px; text-align: right }\n",
       "    </style><table class=\"wandb\">\n",
       "<tr><td>epoch</td><td>▁▁▂▂▂▃▃▄▄▄▄▅▅▅▆▆▇▇▇██</td></tr><tr><td>loss</td><td>█▅▄▃▂▂▂▁▁▁▁▁▁▁▁▁▁▁▁▁▁</td></tr><tr><td>accuracy</td><td>▁▆▇▇▇████████████████</td></tr><tr><td>val_loss</td><td>█▅▄▃▂▂▂▁▁▁▁▁▁▁▁▁▁▁▁▁▁</td></tr><tr><td>val_accuracy</td><td>▁▅▆▇▇▇███████████████</td></tr><tr><td>_runtime</td><td>▁▁▂▂▂▃▃▃▄▄▅▅▅▆▆▆▇▇▇██</td></tr><tr><td>_timestamp</td><td>▁▁▂▂▂▃▃▃▄▄▅▅▅▆▆▆▇▇▇██</td></tr><tr><td>_step</td><td>▁▁▂▂▂▃▃▃▄▄▅▅▅▆▆▆▇▇▇██</td></tr></table><br/>"
      ],
      "text/plain": [
       "<IPython.core.display.HTML object>"
      ]
     },
     "metadata": {},
     "output_type": "display_data"
    },
    {
     "data": {
      "text/html": [
       "Synced 5 W&B file(s), 1 media file(s), 0 artifact file(s) and 1 other file(s)"
      ],
      "text/plain": [
       "<IPython.core.display.HTML object>"
      ]
     },
     "metadata": {},
     "output_type": "display_data"
    },
    {
     "data": {
      "text/html": [
       "\n",
       "                    <br/>Synced <strong style=\"color:#cdcd00\">splendid-sweep-10</strong>: <a href=\"https://wandb.ai/mooizz/conv_inaturalist/runs/ylj1ohuc\" target=\"_blank\">https://wandb.ai/mooizz/conv_inaturalist/runs/ylj1ohuc</a><br/>\n",
       "                "
      ],
      "text/plain": [
       "<IPython.core.display.HTML object>"
      ]
     },
     "metadata": {},
     "output_type": "display_data"
    },
    {
     "name": "stderr",
     "output_type": "stream",
     "text": [
      "wandb: Agent Starting Run: nks1tm9b with config:\n",
      "wandb: \tepochs: 10\n",
      "wandb: \tmodel_name: Xception\n",
      "wandb: \tstrategy: 2\n",
      "wandb: wandb version 0.10.26 is available!  To upgrade, please run:\n",
      "wandb:  $ pip install wandb --upgrade\n"
     ]
    },
    {
     "data": {
      "text/html": [
       "\n",
       "                Tracking run with wandb version 0.10.25<br/>\n",
       "                Syncing run <strong style=\"color:#cdcd00\">crisp-sweep-11</strong> to <a href=\"https://wandb.ai\" target=\"_blank\">Weights & Biases</a> <a href=\"https://docs.wandb.com/integrations/jupyter.html\" target=\"_blank\">(Documentation)</a>.<br/>\n",
       "                Project page: <a href=\"https://wandb.ai/mooizz/conv_inaturalist\" target=\"_blank\">https://wandb.ai/mooizz/conv_inaturalist</a><br/>\n",
       "                Sweep page: <a href=\"https://wandb.ai/mooizz/conv_inaturalist/sweeps/1f8m104a\" target=\"_blank\">https://wandb.ai/mooizz/conv_inaturalist/sweeps/1f8m104a</a><br/>\n",
       "Run page: <a href=\"https://wandb.ai/mooizz/conv_inaturalist/runs/nks1tm9b\" target=\"_blank\">https://wandb.ai/mooizz/conv_inaturalist/runs/nks1tm9b</a><br/>\n",
       "                Run data is saved locally in <code>C:\\Users\\Jaitesh\\Desktop\\Courses\\DL\\ConvolutionalNetwork\\wandb\\run-20210415_105608-nks1tm9b</code><br/><br/>\n",
       "            "
      ],
      "text/plain": [
       "<IPython.core.display.HTML object>"
      ]
     },
     "metadata": {},
     "output_type": "display_data"
    },
    {
     "name": "stdout",
     "output_type": "stream",
     "text": [
      "Epoch 1/10\n",
      "141/141 [==============================] - 21s 132ms/step - loss: 2.2069 - accuracy: 0.2015 - val_loss: 1.6932 - val_accuracy: 0.6036\n",
      "Epoch 2/10\n",
      "141/141 [==============================] - 18s 129ms/step - loss: 1.6612 - accuracy: 0.5652 - val_loss: 1.3038 - val_accuracy: 0.7037\n",
      "Epoch 3/10\n",
      "141/141 [==============================] - 18s 129ms/step - loss: 1.3722 - accuracy: 0.6404 - val_loss: 1.0972 - val_accuracy: 0.7217\n",
      "Epoch 4/10\n",
      "141/141 [==============================] - 18s 129ms/step - loss: 1.2033 - accuracy: 0.6601 - val_loss: 0.9780 - val_accuracy: 0.7287\n",
      "Epoch 5/10\n",
      "141/141 [==============================] - 18s 129ms/step - loss: 1.1021 - accuracy: 0.6845 - val_loss: 0.9058 - val_accuracy: 0.7357\n",
      "Epoch 6/10\n",
      "141/141 [==============================] - 18s 129ms/step - loss: 1.0559 - accuracy: 0.6848 - val_loss: 0.8577 - val_accuracy: 0.7377\n",
      "Epoch 7/10\n",
      "141/141 [==============================] - 18s 130ms/step - loss: 0.9977 - accuracy: 0.6968 - val_loss: 0.8240 - val_accuracy: 0.7397\n",
      "Epoch 8/10\n",
      "141/141 [==============================] - 18s 130ms/step - loss: 0.9689 - accuracy: 0.6980 - val_loss: 0.7985 - val_accuracy: 0.7427\n",
      "Epoch 9/10\n",
      "141/141 [==============================] - 18s 129ms/step - loss: 0.9577 - accuracy: 0.6946 - val_loss: 0.7804 - val_accuracy: 0.7497\n",
      "Epoch 10/10\n",
      "141/141 [==============================] - 18s 129ms/step - loss: 0.9316 - accuracy: 0.7056 - val_loss: 0.7639 - val_accuracy: 0.7508\n",
      "Number of layers in base Model:  132\n",
      "13\n",
      "Epoch 10/20\n",
      "141/141 [==============================] - 24s 145ms/step - loss: 0.8981 - accuracy: 0.7098 - val_loss: 0.7020 - val_accuracy: 0.7598\n",
      "Epoch 11/20\n",
      "141/141 [==============================] - 20s 139ms/step - loss: 0.8480 - accuracy: 0.7145 - val_loss: 0.6854 - val_accuracy: 0.7648\n",
      "Epoch 12/20\n",
      "141/141 [==============================] - 20s 141ms/step - loss: 0.8143 - accuracy: 0.7265 - val_loss: 0.6710 - val_accuracy: 0.7728\n",
      "Epoch 13/20\n",
      "141/141 [==============================] - 20s 140ms/step - loss: 0.7907 - accuracy: 0.7319 - val_loss: 0.6610 - val_accuracy: 0.7848\n",
      "Epoch 14/20\n",
      "141/141 [==============================] - 20s 140ms/step - loss: 0.7990 - accuracy: 0.7288 - val_loss: 0.6542 - val_accuracy: 0.7848\n",
      "Epoch 15/20\n",
      "141/141 [==============================] - 20s 140ms/step - loss: 0.7732 - accuracy: 0.7433 - val_loss: 0.6488 - val_accuracy: 0.7928\n",
      "Epoch 16/20\n",
      "141/141 [==============================] - 20s 141ms/step - loss: 0.7669 - accuracy: 0.7427 - val_loss: 0.6420 - val_accuracy: 0.7968\n",
      "Epoch 17/20\n",
      "141/141 [==============================] - 20s 140ms/step - loss: 0.7432 - accuracy: 0.7509 - val_loss: 0.6404 - val_accuracy: 0.7908\n",
      "Epoch 18/20\n",
      "141/141 [==============================] - 20s 140ms/step - loss: 0.7373 - accuracy: 0.7497 - val_loss: 0.6346 - val_accuracy: 0.7948\n",
      "Epoch 19/20\n",
      "141/141 [==============================] - 20s 140ms/step - loss: 0.7148 - accuracy: 0.7565 - val_loss: 0.6319 - val_accuracy: 0.7988\n",
      "Epoch 20/20\n",
      "141/141 [==============================] - 20s 140ms/step - loss: 0.6997 - accuracy: 0.7594 - val_loss: 0.6299 - val_accuracy: 0.8028\n",
      "INFO:tensorflow:Assets written to: models\\1f8m104a\\crisp-sweep-11\\assets\n"
     ]
    },
    {
     "data": {
      "text/html": [
       "<br/>Waiting for W&B process to finish, PID 44108<br/>Program ended successfully."
      ],
      "text/plain": [
       "<IPython.core.display.HTML object>"
      ]
     },
     "metadata": {},
     "output_type": "display_data"
    },
    {
     "data": {
      "application/vnd.jupyter.widget-view+json": {
       "model_id": "",
       "version_major": 2,
       "version_minor": 0
      },
      "text/plain": [
       "VBox(children=(Label(value=' 80.07MB of 80.07MB uploaded (0.00MB deduped)\\r'), FloatProgress(value=1.0, max=1.…"
      ]
     },
     "metadata": {},
     "output_type": "display_data"
    },
    {
     "data": {
      "text/html": [
       "Find user logs for this run at: <code>C:\\Users\\Jaitesh\\Desktop\\Courses\\DL\\ConvolutionalNetwork\\wandb\\run-20210415_105608-nks1tm9b\\logs\\debug.log</code>"
      ],
      "text/plain": [
       "<IPython.core.display.HTML object>"
      ]
     },
     "metadata": {},
     "output_type": "display_data"
    },
    {
     "data": {
      "text/html": [
       "Find internal logs for this run at: <code>C:\\Users\\Jaitesh\\Desktop\\Courses\\DL\\ConvolutionalNetwork\\wandb\\run-20210415_105608-nks1tm9b\\logs\\debug-internal.log</code>"
      ],
      "text/plain": [
       "<IPython.core.display.HTML object>"
      ]
     },
     "metadata": {},
     "output_type": "display_data"
    },
    {
     "data": {
      "text/html": [
       "<h3>Run summary:</h3><br/><style>\n",
       "    table.wandb td:nth-child(1) { padding: 0 10px; text-align: right }\n",
       "    </style><table class=\"wandb\">\n",
       "<tr><td>epoch</td><td>19</td></tr><tr><td>loss</td><td>0.69233</td></tr><tr><td>accuracy</td><td>0.763</td></tr><tr><td>val_loss</td><td>0.62994</td></tr><tr><td>val_accuracy</td><td>0.8028</td></tr><tr><td>_runtime</td><td>414</td></tr><tr><td>_timestamp</td><td>1618464782</td></tr><tr><td>_step</td><td>20</td></tr><tr><td>best_val_loss</td><td>0.62994</td></tr><tr><td>best_epoch</td><td>19</td></tr></table>"
      ],
      "text/plain": [
       "<IPython.core.display.HTML object>"
      ]
     },
     "metadata": {},
     "output_type": "display_data"
    },
    {
     "data": {
      "text/html": [
       "<h3>Run history:</h3><br/><style>\n",
       "    table.wandb td:nth-child(1) { padding: 0 10px; text-align: right }\n",
       "    </style><table class=\"wandb\">\n",
       "<tr><td>epoch</td><td>▁▁▂▂▂▃▃▄▄▄▄▅▅▅▆▆▇▇▇██</td></tr><tr><td>loss</td><td>█▆▄▃▃▃▃▂▂▂▂▂▂▁▁▁▁▁▁▁▁</td></tr><tr><td>accuracy</td><td>▁▅▆▆▇▇▇▇▇▇▇▇▇████████</td></tr><tr><td>val_loss</td><td>█▅▄▃▃▂▂▂▂▂▁▁▁▁▁▁▁▁▁▁▁</td></tr><tr><td>val_accuracy</td><td>▁▅▅▅▆▆▆▆▆▆▆▇▇▇▇██████</td></tr><tr><td>_runtime</td><td>▁▁▂▂▂▃▃▃▄▄▄▅▅▅▆▆▇▇▇██</td></tr><tr><td>_timestamp</td><td>▁▁▂▂▂▃▃▃▄▄▄▅▅▅▆▆▇▇▇██</td></tr><tr><td>_step</td><td>▁▁▂▂▂▃▃▃▄▄▅▅▅▆▆▆▇▇▇██</td></tr></table><br/>"
      ],
      "text/plain": [
       "<IPython.core.display.HTML object>"
      ]
     },
     "metadata": {},
     "output_type": "display_data"
    },
    {
     "data": {
      "text/html": [
       "Synced 5 W&B file(s), 1 media file(s), 0 artifact file(s) and 1 other file(s)"
      ],
      "text/plain": [
       "<IPython.core.display.HTML object>"
      ]
     },
     "metadata": {},
     "output_type": "display_data"
    },
    {
     "data": {
      "text/html": [
       "\n",
       "                    <br/>Synced <strong style=\"color:#cdcd00\">crisp-sweep-11</strong>: <a href=\"https://wandb.ai/mooizz/conv_inaturalist/runs/nks1tm9b\" target=\"_blank\">https://wandb.ai/mooizz/conv_inaturalist/runs/nks1tm9b</a><br/>\n",
       "                "
      ],
      "text/plain": [
       "<IPython.core.display.HTML object>"
      ]
     },
     "metadata": {},
     "output_type": "display_data"
    },
    {
     "name": "stderr",
     "output_type": "stream",
     "text": [
      "wandb: Agent Starting Run: gb8crygi with config:\n",
      "wandb: \tepochs: 10\n",
      "wandb: \tmodel_name: Xception\n",
      "wandb: \tstrategy: 3\n",
      "wandb: wandb version 0.10.26 is available!  To upgrade, please run:\n",
      "wandb:  $ pip install wandb --upgrade\n"
     ]
    },
    {
     "data": {
      "text/html": [
       "\n",
       "                Tracking run with wandb version 0.10.25<br/>\n",
       "                Syncing run <strong style=\"color:#cdcd00\">kind-sweep-12</strong> to <a href=\"https://wandb.ai\" target=\"_blank\">Weights & Biases</a> <a href=\"https://docs.wandb.com/integrations/jupyter.html\" target=\"_blank\">(Documentation)</a>.<br/>\n",
       "                Project page: <a href=\"https://wandb.ai/mooizz/conv_inaturalist\" target=\"_blank\">https://wandb.ai/mooizz/conv_inaturalist</a><br/>\n",
       "                Sweep page: <a href=\"https://wandb.ai/mooizz/conv_inaturalist/sweeps/1f8m104a\" target=\"_blank\">https://wandb.ai/mooizz/conv_inaturalist/sweeps/1f8m104a</a><br/>\n",
       "Run page: <a href=\"https://wandb.ai/mooizz/conv_inaturalist/runs/gb8crygi\" target=\"_blank\">https://wandb.ai/mooizz/conv_inaturalist/runs/gb8crygi</a><br/>\n",
       "                Run data is saved locally in <code>C:\\Users\\Jaitesh\\Desktop\\Courses\\DL\\ConvolutionalNetwork\\wandb\\run-20210415_110337-gb8crygi</code><br/><br/>\n",
       "            "
      ],
      "text/plain": [
       "<IPython.core.display.HTML object>"
      ]
     },
     "metadata": {},
     "output_type": "display_data"
    },
    {
     "name": "stdout",
     "output_type": "stream",
     "text": [
      "Epoch 1/10\n",
      "141/141 [==============================] - 21s 132ms/step - loss: 2.1999 - accuracy: 0.2017 - val_loss: 1.6923 - val_accuracy: 0.5926\n",
      "Epoch 2/10\n",
      "141/141 [==============================] - 18s 128ms/step - loss: 1.6629 - accuracy: 0.5618 - val_loss: 1.3074 - val_accuracy: 0.6857\n",
      "Epoch 3/10\n",
      "141/141 [==============================] - 18s 129ms/step - loss: 1.3713 - accuracy: 0.6395 - val_loss: 1.1015 - val_accuracy: 0.7147\n",
      "Epoch 4/10\n",
      "141/141 [==============================] - 18s 129ms/step - loss: 1.2100 - accuracy: 0.6642 - val_loss: 0.9828 - val_accuracy: 0.7347\n",
      "Epoch 5/10\n",
      "141/141 [==============================] - 18s 129ms/step - loss: 1.0989 - accuracy: 0.6899 - val_loss: 0.9100 - val_accuracy: 0.7447\n",
      "Epoch 6/10\n",
      "141/141 [==============================] - 18s 129ms/step - loss: 1.0558 - accuracy: 0.6842 - val_loss: 0.8621 - val_accuracy: 0.7467\n",
      "Epoch 7/10\n",
      "141/141 [==============================] - 18s 129ms/step - loss: 0.9980 - accuracy: 0.6927 - val_loss: 0.8281 - val_accuracy: 0.7558\n",
      "Epoch 8/10\n",
      "141/141 [==============================] - 18s 129ms/step - loss: 0.9738 - accuracy: 0.6944 - val_loss: 0.8025 - val_accuracy: 0.7588\n",
      "Epoch 9/10\n",
      "141/141 [==============================] - 18s 130ms/step - loss: 0.9587 - accuracy: 0.7037 - val_loss: 0.7843 - val_accuracy: 0.7548\n",
      "Epoch 10/10\n",
      "141/141 [==============================] - 18s 129ms/step - loss: 0.9247 - accuracy: 0.7042 - val_loss: 0.7670 - val_accuracy: 0.7598\n",
      "Number of layers in base Model:  132\n",
      "61\n",
      "Epoch 10/20\n",
      "141/141 [==============================] - 33s 208ms/step - loss: 0.8793 - accuracy: 0.7135 - val_loss: 0.6736 - val_accuracy: 0.7718\n",
      "Epoch 11/20\n",
      "141/141 [==============================] - 28s 202ms/step - loss: 0.7934 - accuracy: 0.7343 - val_loss: 0.6450 - val_accuracy: 0.7838\n",
      "Epoch 12/20\n",
      "141/141 [==============================] - 29s 203ms/step - loss: 0.7400 - accuracy: 0.7546 - val_loss: 0.6226 - val_accuracy: 0.7938\n",
      "Epoch 13/20\n",
      "141/141 [==============================] - 29s 202ms/step - loss: 0.7164 - accuracy: 0.7602 - val_loss: 0.6063 - val_accuracy: 0.7998\n",
      "Epoch 14/20\n",
      "141/141 [==============================] - 28s 202ms/step - loss: 0.6715 - accuracy: 0.7732 - val_loss: 0.6000 - val_accuracy: 0.7968\n",
      "Epoch 15/20\n",
      "141/141 [==============================] - 29s 203ms/step - loss: 0.6499 - accuracy: 0.7773 - val_loss: 0.5842 - val_accuracy: 0.8038\n",
      "Epoch 16/20\n",
      "141/141 [==============================] - 28s 202ms/step - loss: 0.6236 - accuracy: 0.7855 - val_loss: 0.5784 - val_accuracy: 0.8048\n",
      "Epoch 17/20\n",
      "141/141 [==============================] - 28s 201ms/step - loss: 0.5942 - accuracy: 0.7983 - val_loss: 0.5742 - val_accuracy: 0.8098\n",
      "Epoch 18/20\n",
      "141/141 [==============================] - 29s 202ms/step - loss: 0.5796 - accuracy: 0.8045 - val_loss: 0.5663 - val_accuracy: 0.8118\n",
      "Epoch 19/20\n",
      "141/141 [==============================] - 29s 202ms/step - loss: 0.5632 - accuracy: 0.8039 - val_loss: 0.5663 - val_accuracy: 0.8058\n",
      "Epoch 20/20\n",
      "141/141 [==============================] - 28s 201ms/step - loss: 0.5530 - accuracy: 0.8106 - val_loss: 0.5571 - val_accuracy: 0.8158\n",
      "INFO:tensorflow:Assets written to: models\\1f8m104a\\kind-sweep-12\\assets\n"
     ]
    },
    {
     "data": {
      "text/html": [
       "<br/>Waiting for W&B process to finish, PID 44900<br/>Program ended successfully."
      ],
      "text/plain": [
       "<IPython.core.display.HTML object>"
      ]
     },
     "metadata": {},
     "output_type": "display_data"
    },
    {
     "data": {
      "application/vnd.jupyter.widget-view+json": {
       "model_id": "",
       "version_major": 2,
       "version_minor": 0
      },
      "text/plain": [
       "VBox(children=(Label(value=' 80.07MB of 80.07MB uploaded (0.00MB deduped)\\r'), FloatProgress(value=1.0, max=1.…"
      ]
     },
     "metadata": {},
     "output_type": "display_data"
    },
    {
     "data": {
      "text/html": [
       "Find user logs for this run at: <code>C:\\Users\\Jaitesh\\Desktop\\Courses\\DL\\ConvolutionalNetwork\\wandb\\run-20210415_110337-gb8crygi\\logs\\debug.log</code>"
      ],
      "text/plain": [
       "<IPython.core.display.HTML object>"
      ]
     },
     "metadata": {},
     "output_type": "display_data"
    },
    {
     "data": {
      "text/html": [
       "Find internal logs for this run at: <code>C:\\Users\\Jaitesh\\Desktop\\Courses\\DL\\ConvolutionalNetwork\\wandb\\run-20210415_110337-gb8crygi\\logs\\debug-internal.log</code>"
      ],
      "text/plain": [
       "<IPython.core.display.HTML object>"
      ]
     },
     "metadata": {},
     "output_type": "display_data"
    },
    {
     "data": {
      "text/html": [
       "<h3>Run summary:</h3><br/><style>\n",
       "    table.wandb td:nth-child(1) { padding: 0 10px; text-align: right }\n",
       "    </style><table class=\"wandb\">\n",
       "<tr><td>epoch</td><td>19</td></tr><tr><td>loss</td><td>0.54025</td></tr><tr><td>accuracy</td><td>0.81467</td></tr><tr><td>val_loss</td><td>0.55707</td></tr><tr><td>val_accuracy</td><td>0.81582</td></tr><tr><td>_runtime</td><td>512</td></tr><tr><td>_timestamp</td><td>1618465329</td></tr><tr><td>_step</td><td>20</td></tr><tr><td>best_val_loss</td><td>0.55707</td></tr><tr><td>best_epoch</td><td>19</td></tr></table>"
      ],
      "text/plain": [
       "<IPython.core.display.HTML object>"
      ]
     },
     "metadata": {},
     "output_type": "display_data"
    },
    {
     "data": {
      "text/html": [
       "<h3>Run history:</h3><br/><style>\n",
       "    table.wandb td:nth-child(1) { padding: 0 10px; text-align: right }\n",
       "    </style><table class=\"wandb\">\n",
       "<tr><td>epoch</td><td>▁▁▂▂▂▃▃▄▄▄▄▅▅▅▆▆▇▇▇██</td></tr><tr><td>loss</td><td>█▆▅▄▄▃▃▃▃▃▂▂▂▂▂▁▁▁▁▁▁</td></tr><tr><td>accuracy</td><td>▁▅▆▆▆▆▆▆▆▆▇▇▇▇▇██████</td></tr><tr><td>val_loss</td><td>█▆▄▄▃▃▃▃▂▂▂▂▁▁▁▁▁▁▁▁▁</td></tr><tr><td>val_accuracy</td><td>▁▄▅▅▆▆▆▆▆▆▇▇▇▇▇██████</td></tr><tr><td>_runtime</td><td>▁▁▂▂▂▂▃▃▃▃▄▄▅▅▆▆▆▇▇██</td></tr><tr><td>_timestamp</td><td>▁▁▂▂▂▂▃▃▃▃▄▄▅▅▆▆▆▇▇██</td></tr><tr><td>_step</td><td>▁▁▂▂▂▃▃▃▄▄▅▅▅▆▆▆▇▇▇██</td></tr></table><br/>"
      ],
      "text/plain": [
       "<IPython.core.display.HTML object>"
      ]
     },
     "metadata": {},
     "output_type": "display_data"
    },
    {
     "data": {
      "text/html": [
       "Synced 5 W&B file(s), 1 media file(s), 0 artifact file(s) and 1 other file(s)"
      ],
      "text/plain": [
       "<IPython.core.display.HTML object>"
      ]
     },
     "metadata": {},
     "output_type": "display_data"
    },
    {
     "data": {
      "text/html": [
       "\n",
       "                    <br/>Synced <strong style=\"color:#cdcd00\">kind-sweep-12</strong>: <a href=\"https://wandb.ai/mooizz/conv_inaturalist/runs/gb8crygi\" target=\"_blank\">https://wandb.ai/mooizz/conv_inaturalist/runs/gb8crygi</a><br/>\n",
       "                "
      ],
      "text/plain": [
       "<IPython.core.display.HTML object>"
      ]
     },
     "metadata": {},
     "output_type": "display_data"
    },
    {
     "name": "stderr",
     "output_type": "stream",
     "text": [
      "wandb: Sweep Agent: Waiting for job.\n",
      "wandb: Sweep Agent: Exiting.\n"
     ]
    }
   ],
   "source": [
    "wandb.agent(sweep_id, finetune)"
   ]
  },
  {
   "cell_type": "code",
   "execution_count": null,
   "metadata": {},
   "outputs": [],
   "source": []
  }
 ],
 "metadata": {
  "kernelspec": {
   "display_name": "tf2.4",
   "language": "python",
   "name": "tf2.4"
  },
  "language_info": {
   "codemirror_mode": {
    "name": "ipython",
    "version": 3
   },
   "file_extension": ".py",
   "mimetype": "text/x-python",
   "name": "python",
   "nbconvert_exporter": "python",
   "pygments_lexer": "ipython3",
   "version": "3.8.8"
  }
 },
 "nbformat": 4,
 "nbformat_minor": 4
}
